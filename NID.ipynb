{
  "cells": [
    {
      "cell_type": "code",
      "execution_count": 104,
      "metadata": {
        "colab": {},
        "colab_type": "code",
        "id": "Qx_dyZdlSXMK"
      },
      "outputs": [],
      "source": [
        "import pandas as pd\n",
        "import numpy as np\n",
        "import sys\n",
        "import sklearn\n",
        "import io\n",
        "import random"
      ]
    },
    {
      "cell_type": "code",
      "execution_count": 105,
      "metadata": {
        "colab": {},
        "colab_type": "code",
        "id": "THyNO1v5Mzrx"
      },
      "outputs": [],
      "source": [
        "# train_url = 'https://raw.githubusercontent.com/merteroglu/NSL-KDD-Network-Instrusion-Detection/master/NSL_KDD_Train.csv'\n",
        "# test_url = 'https://raw.githubusercontent.com/merteroglu/NSL-KDD-Network-Instrusion-Detection/master/NSL_KDD_Test.csv'\n",
        "\n"
      ]
    },
    {
      "cell_type": "code",
      "execution_count": 106,
      "metadata": {
        "colab": {
          "base_uri": "https://localhost:8080/",
          "height": 51
        },
        "colab_type": "code",
        "id": "Utaaqng3NOY0",
        "outputId": "c479e10d-5553-4b8c-8ddf-d9dc0fd3a2a7"
      },
      "outputs": [
        {
          "name": "stdout",
          "output_type": "stream",
          "text": [
            "Dimensions of the Training set: (125973, 42)\n",
            "Dimensions of the Test set: (22544, 42)\n"
          ]
        }
      ],
      "source": [
        "col_names = [\"duration\",\"protocol_type\",\"service\",\"flag\",\"src_bytes\",\n",
        "    \"dst_bytes\",\"land\",\"wrong_fragment\",\"urgent\",\"hot\",\"num_failed_logins\",\n",
        "    \"logged_in\",\"num_compromised\",\"root_shell\",\"su_attempted\",\"num_root\",\n",
        "    \"num_file_creations\",\"num_shells\",\"num_access_files\",\"num_outbound_cmds\",\n",
        "    \"is_host_login\",\"is_guest_login\",\"count\",\"srv_count\",\"serror_rate\",\n",
        "    \"srv_serror_rate\",\"rerror_rate\",\"srv_rerror_rate\",\"same_srv_rate\",\n",
        "    \"diff_srv_rate\",\"srv_diff_host_rate\",\"dst_host_count\",\"dst_host_srv_count\",\n",
        "    \"dst_host_same_srv_rate\",\"dst_host_diff_srv_rate\",\"dst_host_same_src_port_rate\",\n",
        "    \"dst_host_srv_diff_host_rate\",\"dst_host_serror_rate\",\"dst_host_srv_serror_rate\",\n",
        "    \"dst_host_rerror_rate\",\"dst_host_srv_rerror_rate\",\"label\"]\n",
        "\n",
        "\n",
        "df = pd.read_csv('KDDTrain+.txt',header=None, names = col_names)\n",
        "\n",
        "df_test = pd.read_csv('KDDTest+.txt', header=None, names = col_names)\n",
        "\n",
        "print('Dimensions of the Training set:',df.shape)\n",
        "print('Dimensions of the Test set:',df_test.shape)"
      ]
    },
    {
      "cell_type": "code",
      "execution_count": 107,
      "metadata": {
        "colab": {
          "base_uri": "https://localhost:8080/",
          "height": 224
        },
        "colab_type": "code",
        "id": "_zKWRUDkWpiH",
        "outputId": "eed2117e-e451-4426-950f-0841bdf040e6"
      },
      "outputs": [
        {
          "data": {
            "text/html": [
              "<div>\n",
              "<style scoped>\n",
              "    .dataframe tbody tr th:only-of-type {\n",
              "        vertical-align: middle;\n",
              "    }\n",
              "\n",
              "    .dataframe tbody tr th {\n",
              "        vertical-align: top;\n",
              "    }\n",
              "\n",
              "    .dataframe thead th {\n",
              "        text-align: right;\n",
              "    }\n",
              "</style>\n",
              "<table border=\"1\" class=\"dataframe\">\n",
              "  <thead>\n",
              "    <tr style=\"text-align: right;\">\n",
              "      <th></th>\n",
              "      <th>duration</th>\n",
              "      <th>protocol_type</th>\n",
              "      <th>service</th>\n",
              "      <th>flag</th>\n",
              "      <th>src_bytes</th>\n",
              "      <th>dst_bytes</th>\n",
              "      <th>land</th>\n",
              "      <th>wrong_fragment</th>\n",
              "      <th>urgent</th>\n",
              "      <th>hot</th>\n",
              "      <th>...</th>\n",
              "      <th>dst_host_srv_count</th>\n",
              "      <th>dst_host_same_srv_rate</th>\n",
              "      <th>dst_host_diff_srv_rate</th>\n",
              "      <th>dst_host_same_src_port_rate</th>\n",
              "      <th>dst_host_srv_diff_host_rate</th>\n",
              "      <th>dst_host_serror_rate</th>\n",
              "      <th>dst_host_srv_serror_rate</th>\n",
              "      <th>dst_host_rerror_rate</th>\n",
              "      <th>dst_host_srv_rerror_rate</th>\n",
              "      <th>label</th>\n",
              "    </tr>\n",
              "  </thead>\n",
              "  <tbody>\n",
              "    <tr>\n",
              "      <th>0</th>\n",
              "      <td>tcp</td>\n",
              "      <td>ftp_data</td>\n",
              "      <td>SF</td>\n",
              "      <td>491</td>\n",
              "      <td>0</td>\n",
              "      <td>0</td>\n",
              "      <td>0</td>\n",
              "      <td>0</td>\n",
              "      <td>0</td>\n",
              "      <td>0</td>\n",
              "      <td>...</td>\n",
              "      <td>0.17</td>\n",
              "      <td>0.03</td>\n",
              "      <td>0.17</td>\n",
              "      <td>0.00</td>\n",
              "      <td>0.00</td>\n",
              "      <td>0.00</td>\n",
              "      <td>0.05</td>\n",
              "      <td>0.00</td>\n",
              "      <td>normal</td>\n",
              "      <td>20</td>\n",
              "    </tr>\n",
              "    <tr>\n",
              "      <th>0</th>\n",
              "      <td>udp</td>\n",
              "      <td>other</td>\n",
              "      <td>SF</td>\n",
              "      <td>146</td>\n",
              "      <td>0</td>\n",
              "      <td>0</td>\n",
              "      <td>0</td>\n",
              "      <td>0</td>\n",
              "      <td>0</td>\n",
              "      <td>0</td>\n",
              "      <td>...</td>\n",
              "      <td>0.00</td>\n",
              "      <td>0.60</td>\n",
              "      <td>0.88</td>\n",
              "      <td>0.00</td>\n",
              "      <td>0.00</td>\n",
              "      <td>0.00</td>\n",
              "      <td>0.00</td>\n",
              "      <td>0.00</td>\n",
              "      <td>normal</td>\n",
              "      <td>15</td>\n",
              "    </tr>\n",
              "    <tr>\n",
              "      <th>0</th>\n",
              "      <td>tcp</td>\n",
              "      <td>private</td>\n",
              "      <td>S0</td>\n",
              "      <td>0</td>\n",
              "      <td>0</td>\n",
              "      <td>0</td>\n",
              "      <td>0</td>\n",
              "      <td>0</td>\n",
              "      <td>0</td>\n",
              "      <td>0</td>\n",
              "      <td>...</td>\n",
              "      <td>0.10</td>\n",
              "      <td>0.05</td>\n",
              "      <td>0.00</td>\n",
              "      <td>0.00</td>\n",
              "      <td>1.00</td>\n",
              "      <td>1.00</td>\n",
              "      <td>0.00</td>\n",
              "      <td>0.00</td>\n",
              "      <td>neptune</td>\n",
              "      <td>19</td>\n",
              "    </tr>\n",
              "    <tr>\n",
              "      <th>0</th>\n",
              "      <td>tcp</td>\n",
              "      <td>http</td>\n",
              "      <td>SF</td>\n",
              "      <td>232</td>\n",
              "      <td>8153</td>\n",
              "      <td>0</td>\n",
              "      <td>0</td>\n",
              "      <td>0</td>\n",
              "      <td>0</td>\n",
              "      <td>0</td>\n",
              "      <td>...</td>\n",
              "      <td>1.00</td>\n",
              "      <td>0.00</td>\n",
              "      <td>0.03</td>\n",
              "      <td>0.04</td>\n",
              "      <td>0.03</td>\n",
              "      <td>0.01</td>\n",
              "      <td>0.00</td>\n",
              "      <td>0.01</td>\n",
              "      <td>normal</td>\n",
              "      <td>21</td>\n",
              "    </tr>\n",
              "    <tr>\n",
              "      <th>0</th>\n",
              "      <td>tcp</td>\n",
              "      <td>http</td>\n",
              "      <td>SF</td>\n",
              "      <td>199</td>\n",
              "      <td>420</td>\n",
              "      <td>0</td>\n",
              "      <td>0</td>\n",
              "      <td>0</td>\n",
              "      <td>0</td>\n",
              "      <td>0</td>\n",
              "      <td>...</td>\n",
              "      <td>1.00</td>\n",
              "      <td>0.00</td>\n",
              "      <td>0.00</td>\n",
              "      <td>0.00</td>\n",
              "      <td>0.00</td>\n",
              "      <td>0.00</td>\n",
              "      <td>0.00</td>\n",
              "      <td>0.00</td>\n",
              "      <td>normal</td>\n",
              "      <td>21</td>\n",
              "    </tr>\n",
              "  </tbody>\n",
              "</table>\n",
              "<p>5 rows × 42 columns</p>\n",
              "</div>"
            ],
            "text/plain": [
              "  duration protocol_type service  flag  src_bytes  dst_bytes  land  \\\n",
              "0      tcp      ftp_data      SF   491          0          0     0   \n",
              "0      udp         other      SF   146          0          0     0   \n",
              "0      tcp       private      S0     0          0          0     0   \n",
              "0      tcp          http      SF   232       8153          0     0   \n",
              "0      tcp          http      SF   199        420          0     0   \n",
              "\n",
              "   wrong_fragment  urgent  hot  ...  dst_host_srv_count  \\\n",
              "0               0       0    0  ...                0.17   \n",
              "0               0       0    0  ...                0.00   \n",
              "0               0       0    0  ...                0.10   \n",
              "0               0       0    0  ...                1.00   \n",
              "0               0       0    0  ...                1.00   \n",
              "\n",
              "   dst_host_same_srv_rate  dst_host_diff_srv_rate  \\\n",
              "0                    0.03                    0.17   \n",
              "0                    0.60                    0.88   \n",
              "0                    0.05                    0.00   \n",
              "0                    0.00                    0.03   \n",
              "0                    0.00                    0.00   \n",
              "\n",
              "   dst_host_same_src_port_rate  dst_host_srv_diff_host_rate  \\\n",
              "0                         0.00                         0.00   \n",
              "0                         0.00                         0.00   \n",
              "0                         0.00                         1.00   \n",
              "0                         0.04                         0.03   \n",
              "0                         0.00                         0.00   \n",
              "\n",
              "   dst_host_serror_rate  dst_host_srv_serror_rate  dst_host_rerror_rate  \\\n",
              "0                  0.00                      0.05                  0.00   \n",
              "0                  0.00                      0.00                  0.00   \n",
              "0                  1.00                      0.00                  0.00   \n",
              "0                  0.01                      0.00                  0.01   \n",
              "0                  0.00                      0.00                  0.00   \n",
              "\n",
              "   dst_host_srv_rerror_rate  label  \n",
              "0                    normal     20  \n",
              "0                    normal     15  \n",
              "0                   neptune     19  \n",
              "0                    normal     21  \n",
              "0                    normal     21  \n",
              "\n",
              "[5 rows x 42 columns]"
            ]
          },
          "execution_count": 107,
          "metadata": {},
          "output_type": "execute_result"
        }
      ],
      "source": [
        "df.head(5)"
      ]
    },
    {
      "cell_type": "code",
      "execution_count": 108,
      "metadata": {
        "colab": {
          "base_uri": "https://localhost:8080/",
          "height": 1139
        },
        "colab_type": "code",
        "id": "BAa8_nBFWwxf",
        "outputId": "380fc920-3704-4671-f9f0-40ff93fe6a73"
      },
      "outputs": [
        {
          "name": "stdout",
          "output_type": "stream",
          "text": [
            "Label distribution Training set:\n",
            "label\n",
            "21    62557\n",
            "18    20667\n",
            "20    19339\n",
            "19    10284\n",
            "15     3990\n",
            "17     3074\n",
            "16     2393\n",
            "12      729\n",
            "14      674\n",
            "11      641\n",
            "13      451\n",
            "10      253\n",
            "9       194\n",
            "7       118\n",
            "8       106\n",
            "6        96\n",
            "5        81\n",
            "4        79\n",
            "0        66\n",
            "3        65\n",
            "1        62\n",
            "2        54\n",
            "Name: count, dtype: int64\n",
            "\n",
            "Label distribution Test set:\n",
            "label\n",
            "21    10694\n",
            "18     2967\n",
            "20     1343\n",
            "15     1176\n",
            "17     1168\n",
            "19      890\n",
            "14      736\n",
            "16      681\n",
            "13      519\n",
            "12      486\n",
            "11      461\n",
            "7       249\n",
            "10      195\n",
            "6       157\n",
            "8       131\n",
            "0       123\n",
            "3       116\n",
            "9       106\n",
            "5       103\n",
            "4       101\n",
            "1        87\n",
            "2        55\n",
            "Name: count, dtype: int64\n"
          ]
        }
      ],
      "source": [
        "print('Label distribution Training set:')\n",
        "print(df['label'].value_counts())\n",
        "print()\n",
        "print('Label distribution Test set:')\n",
        "print(df_test['label'].value_counts())"
      ]
    },
    {
      "cell_type": "markdown",
      "metadata": {
        "colab_type": "text",
        "id": "vFUPOfTWW7jF"
      },
      "source": [
        "**Step 1: Data preprocessing:**\n",
        "\n",
        "One-Hot-Encoding, tüm kategorik özellikleri ikili özelliklere dönüştürmek için kullanılır. One-Hot-Endcoding gereksinimi, bu transformatöre giriş, kategorik(ayrık) özelliklerle alınan değerleri ifade eden bir tam sayı matrisi olmalıdır. Çıktı, her bir sütunun olası bir değere karşılık geldiği seyrek bir matris olacaktır. Giriş özelliklerinin [0, n_values] aralığında değerler aldıkları varsayılmaktadır. Bu nedenle her kategoriyi bir sayıya dönüştürmek için özelliklerin öncelikle LabelEncoder ile dönüştürülmesi gerekir."
      ]
    },
    {
      "cell_type": "code",
      "execution_count": 109,
      "metadata": {
        "colab": {
          "base_uri": "https://localhost:8080/",
          "height": 238
        },
        "colab_type": "code",
        "id": "TyLnY-XCXVnk",
        "outputId": "7c1ed9f4-584c-4039-e4d4-429649c5c3dc"
      },
      "outputs": [
        {
          "name": "stdout",
          "output_type": "stream",
          "text": [
            "Training set:\n",
            "Feature 'duration' has 3 categories\n",
            "Feature 'protocol_type' has 70 categories\n",
            "Feature 'service' has 11 categories\n",
            "Feature 'dst_host_srv_rerror_rate' has 23 categories\n",
            "\n",
            "Distribution of categories in service:\n",
            "service\n",
            "SF      74945\n",
            "S0      34851\n",
            "REJ     11233\n",
            "RSTR     2421\n",
            "RSTO     1562\n",
            "Name: count, dtype: int64\n"
          ]
        }
      ],
      "source": [
        "# sütunlar kategorik, henüz binary değil: protocol_type (column 2), service (column 3), flag (column 4).\n",
        "\n",
        "print('Training set:')\n",
        "for col_name in df.columns:\n",
        "    if df[col_name].dtypes == 'object' :\n",
        "        unique_cat = len(df[col_name].unique())\n",
        "        print(\"Feature '{col_name}' has {unique_cat} categories\".format(col_name=col_name, unique_cat=unique_cat))\n",
        "\n",
        "print()\n",
        "print('Distribution of categories in service:')\n",
        "print(df['service'].value_counts().sort_values(ascending=False).head())"
      ]
    },
    {
      "cell_type": "code",
      "execution_count": 110,
      "metadata": {
        "colab": {
          "base_uri": "https://localhost:8080/",
          "height": 102
        },
        "colab_type": "code",
        "id": "WhKXNXlwXb5G",
        "outputId": "7d75d36f-24ba-426b-b6e1-fa0470eed0e1"
      },
      "outputs": [
        {
          "name": "stdout",
          "output_type": "stream",
          "text": [
            "Test set:\n",
            "Feature 'duration' has 3 categories\n",
            "Feature 'protocol_type' has 64 categories\n",
            "Feature 'service' has 11 categories\n",
            "Feature 'dst_host_srv_rerror_rate' has 38 categories\n"
          ]
        }
      ],
      "source": [
        "# Test set\n",
        "print('Test set:')\n",
        "for col_name in df_test.columns:\n",
        "    if df_test[col_name].dtypes == 'object' :\n",
        "        unique_cat = len(df_test[col_name].unique())\n",
        "        print(\"Feature '{col_name}' has {unique_cat} categories\".format(col_name=col_name, unique_cat=unique_cat))\n"
      ]
    },
    {
      "cell_type": "markdown",
      "metadata": {
        "colab_type": "text",
        "id": "PZKviPW0XnzU"
      },
      "source": [
        "**LabelEncoder**\n",
        "\n",
        "**Insert categorical features into a 2D numpy array**"
      ]
    },
    {
      "cell_type": "code",
      "execution_count": 111,
      "metadata": {
        "colab": {
          "base_uri": "https://localhost:8080/",
          "height": 204
        },
        "colab_type": "code",
        "id": "SYmvn2qWXxs2",
        "outputId": "c2351e4b-76b7-43c9-8a5a-226d0d95f6e9"
      },
      "outputs": [
        {
          "data": {
            "text/html": [
              "<div>\n",
              "<style scoped>\n",
              "    .dataframe tbody tr th:only-of-type {\n",
              "        vertical-align: middle;\n",
              "    }\n",
              "\n",
              "    .dataframe tbody tr th {\n",
              "        vertical-align: top;\n",
              "    }\n",
              "\n",
              "    .dataframe thead th {\n",
              "        text-align: right;\n",
              "    }\n",
              "</style>\n",
              "<table border=\"1\" class=\"dataframe\">\n",
              "  <thead>\n",
              "    <tr style=\"text-align: right;\">\n",
              "      <th></th>\n",
              "      <th>protocol_type</th>\n",
              "      <th>service</th>\n",
              "      <th>flag</th>\n",
              "    </tr>\n",
              "  </thead>\n",
              "  <tbody>\n",
              "    <tr>\n",
              "      <th>0</th>\n",
              "      <td>ftp_data</td>\n",
              "      <td>SF</td>\n",
              "      <td>491</td>\n",
              "    </tr>\n",
              "    <tr>\n",
              "      <th>0</th>\n",
              "      <td>other</td>\n",
              "      <td>SF</td>\n",
              "      <td>146</td>\n",
              "    </tr>\n",
              "    <tr>\n",
              "      <th>0</th>\n",
              "      <td>private</td>\n",
              "      <td>S0</td>\n",
              "      <td>0</td>\n",
              "    </tr>\n",
              "    <tr>\n",
              "      <th>0</th>\n",
              "      <td>http</td>\n",
              "      <td>SF</td>\n",
              "      <td>232</td>\n",
              "    </tr>\n",
              "    <tr>\n",
              "      <th>0</th>\n",
              "      <td>http</td>\n",
              "      <td>SF</td>\n",
              "      <td>199</td>\n",
              "    </tr>\n",
              "  </tbody>\n",
              "</table>\n",
              "</div>"
            ],
            "text/plain": [
              "  protocol_type service  flag\n",
              "0      ftp_data      SF   491\n",
              "0         other      SF   146\n",
              "0       private      S0     0\n",
              "0          http      SF   232\n",
              "0          http      SF   199"
            ]
          },
          "execution_count": 111,
          "metadata": {},
          "output_type": "execute_result"
        }
      ],
      "source": [
        "from sklearn.preprocessing import LabelEncoder,OneHotEncoder\n",
        "categorical_columns=['protocol_type', 'service', 'flag']\n",
        "\n",
        "df_categorical_values = df[categorical_columns]\n",
        "testdf_categorical_values = df_test[categorical_columns]\n",
        "\n",
        "df_categorical_values.head()"
      ]
    },
    {
      "cell_type": "code",
      "execution_count": 112,
      "metadata": {
        "colab": {
          "base_uri": "https://localhost:8080/",
          "height": 88
        },
        "colab_type": "code",
        "id": "DNVa7mN9X1qV",
        "outputId": "98b0fcda-8a81-4ec4-bf77-df8c24d9c420"
      },
      "outputs": [
        {
          "name": "stdout",
          "output_type": "stream",
          "text": [
            "['Protocol_type_IRC', 'Protocol_type_X11', 'Protocol_type_Z39_50', 'Protocol_type_aol', 'Protocol_type_auth', 'Protocol_type_bgp', 'Protocol_type_courier', 'Protocol_type_csnet_ns', 'Protocol_type_ctf', 'Protocol_type_daytime', 'Protocol_type_discard', 'Protocol_type_domain', 'Protocol_type_domain_u', 'Protocol_type_echo', 'Protocol_type_eco_i', 'Protocol_type_ecr_i', 'Protocol_type_efs', 'Protocol_type_exec', 'Protocol_type_finger', 'Protocol_type_ftp', 'Protocol_type_ftp_data', 'Protocol_type_gopher', 'Protocol_type_harvest', 'Protocol_type_hostnames', 'Protocol_type_http', 'Protocol_type_http_2784', 'Protocol_type_http_443', 'Protocol_type_http_8001', 'Protocol_type_imap4', 'Protocol_type_iso_tsap', 'Protocol_type_klogin', 'Protocol_type_kshell', 'Protocol_type_ldap', 'Protocol_type_link', 'Protocol_type_login', 'Protocol_type_mtp', 'Protocol_type_name', 'Protocol_type_netbios_dgm', 'Protocol_type_netbios_ns', 'Protocol_type_netbios_ssn', 'Protocol_type_netstat', 'Protocol_type_nnsp', 'Protocol_type_nntp', 'Protocol_type_ntp_u', 'Protocol_type_other', 'Protocol_type_pm_dump', 'Protocol_type_pop_2', 'Protocol_type_pop_3', 'Protocol_type_printer', 'Protocol_type_private', 'Protocol_type_red_i', 'Protocol_type_remote_job', 'Protocol_type_rje', 'Protocol_type_shell', 'Protocol_type_smtp', 'Protocol_type_sql_net', 'Protocol_type_ssh', 'Protocol_type_sunrpc', 'Protocol_type_supdup', 'Protocol_type_systat', 'Protocol_type_telnet', 'Protocol_type_tftp_u', 'Protocol_type_tim_i', 'Protocol_type_time', 'Protocol_type_urh_i', 'Protocol_type_urp_i', 'Protocol_type_uucp', 'Protocol_type_uucp_path', 'Protocol_type_vmnet', 'Protocol_type_whois']\n",
            "['service_OTH', 'service_REJ', 'service_RSTO', 'service_RSTOS0', 'service_RSTR', 'service_S0', 'service_S1', 'service_S2', 'service_S3', 'service_SF', 'service_SH']\n",
            "['flag_0', 'flag_1', 'flag_10', 'flag_100', 'flag_1000', 'flag_1001', 'flag_1002', 'flag_1003', 'flag_1004', 'flag_10044', 'flag_1005', 'flag_1006', 'flag_1007', 'flag_10073', 'flag_1008', 'flag_1009', 'flag_101', 'flag_1010', 'flag_1011', 'flag_1012', 'flag_1013', 'flag_1014', 'flag_1015', 'flag_1016', 'flag_1017', 'flag_1018', 'flag_1019', 'flag_102', 'flag_1020', 'flag_1021', 'flag_1022', 'flag_10220', 'flag_1023', 'flag_1024', 'flag_1025', 'flag_1026', 'flag_10261', 'flag_1027', 'flag_10272', 'flag_1028', 'flag_10287', 'flag_1029', 'flag_103', 'flag_1030', 'flag_1031', 'flag_1032', 'flag_10321', 'flag_1033', 'flag_1034', 'flag_1035', 'flag_1036', 'flag_1037', 'flag_1038', 'flag_10389', 'flag_1039', 'flag_104', 'flag_1040', 'flag_10406', 'flag_1041', 'flag_1042', 'flag_1043', 'flag_1044', 'flag_1045', 'flag_1046', 'flag_10468', 'flag_1047', 'flag_1048', 'flag_1049', 'flag_105', 'flag_1050', 'flag_1051', 'flag_105120', 'flag_1052', 'flag_1053', 'flag_1054', 'flag_1055', 'flag_10554', 'flag_1056', 'flag_1057', 'flag_10578', 'flag_1058', 'flag_1059', 'flag_106', 'flag_1060', 'flag_10606', 'flag_10608', 'flag_1061', 'flag_1062', 'flag_10622', 'flag_1063', 'flag_1064', 'flag_1065', 'flag_106574', 'flag_106577', 'flag_1066', 'flag_10666', 'flag_1067', 'flag_1068', 'flag_1069', 'flag_107', 'flag_1070', 'flag_1071', 'flag_10714', 'flag_1072', 'flag_1073', 'flag_1074', 'flag_1075', 'flag_1076', 'flag_1077', 'flag_1078', 'flag_1079', 'flag_108', 'flag_1080', 'flag_1081', 'flag_10815', 'flag_1082', 'flag_1083', 'flag_1084', 'flag_10848', 'flag_1085', 'flag_1086', 'flag_10864', 'flag_1087', 'flag_1088', 'flag_10883', 'flag_1089', 'flag_109', 'flag_1090', 'flag_1091', 'flag_1092', 'flag_10928', 'flag_1093', 'flag_1094', 'flag_1095', 'flag_1096', 'flag_1097', 'flag_1098', 'flag_10986', 'flag_1099', 'flag_10991', 'flag_11', 'flag_110', 'flag_1100', 'flag_1101', 'flag_1102', 'flag_1103', 'flag_11033', 'flag_1104', 'flag_11040', 'flag_1105', 'flag_1106', 'flag_1107', 'flag_11070', 'flag_11078', 'flag_1108', 'flag_1109', 'flag_11090', 'flag_111', 'flag_1110', 'flag_1111', 'flag_1112', 'flag_1113', 'flag_11133', 'flag_1114', 'flag_11149', 'flag_1115', 'flag_1116', 'flag_1117', 'flag_11178', 'flag_1118', 'flag_11185', 'flag_1119', 'flag_112', 'flag_1120', 'flag_11200', 'flag_1121', 'flag_11214', 'flag_1122', 'flag_11226', 'flag_11228', 'flag_1123', 'flag_11234', 'flag_1124', 'flag_11244', 'flag_1125', 'flag_1126', 'flag_1126224', 'flag_1127', 'flag_1128', 'flag_11284', 'flag_1129', 'flag_11294', 'flag_113', 'flag_1130', 'flag_11300', 'flag_1131', 'flag_11318', 'flag_1132', 'flag_11322', 'flag_11324', 'flag_1133', 'flag_1134', 'flag_11341', 'flag_1135', 'flag_1136', 'flag_1137', 'flag_11371', 'flag_11376', 'flag_11378', 'flag_1138', 'flag_1139', 'flag_11396', 'flag_11396904', 'flag_114', 'flag_1140', 'flag_11402', 'flag_11406', 'flag_1141', 'flag_11412', 'flag_1142', 'flag_11422', 'flag_11425', 'flag_11428', 'flag_1143', 'flag_11430', 'flag_11433', 'flag_11436', 'flag_11438', 'flag_1144', 'flag_1145', 'flag_1146', 'flag_11460', 'flag_11466', 'flag_1147', 'flag_11470', 'flag_1148', 'flag_11482', 'flag_11487', 'flag_1149', 'flag_11499', 'flag_115', 'flag_1150', 'flag_11509', 'flag_1151', 'flag_11516', 'flag_1152', 'flag_11521', 'flag_11524', 'flag_1153', 'flag_11533', 'flag_1154', 'flag_11546', 'flag_1155', 'flag_11556', 'flag_1156', 'flag_11562', 'flag_1157', 'flag_11575', 'flag_11578', 'flag_1158', 'flag_11587', 'flag_1159', 'flag_116', 'flag_1160', 'flag_11600', 'flag_1161', 'flag_11610', 'flag_11619', 'flag_1162', 'flag_11624', 'flag_1163', 'flag_1164', 'flag_11640', 'flag_11643', 'flag_11647', 'flag_11649', 'flag_1165', 'flag_11658', 'flag_1166', 'flag_1167', 'flag_1167519497', 'flag_11676', 'flag_1168', 'flag_11680', 'flag_11681', 'flag_11683', 'flag_1169', 'flag_11693', 'flag_117', 'flag_1170', 'flag_11707', 'flag_1171', 'flag_11711', 'flag_11712', 'flag_11716', 'flag_1172', 'flag_11722', 'flag_11726', 'flag_1173', 'flag_11732', 'flag_11737', 'flag_1174', 'flag_11747', 'flag_11748', 'flag_1175', 'flag_11757', 'flag_1176', 'flag_11763', 'flag_11765', 'flag_11769', 'flag_1177', 'flag_11772', 'flag_11773', 'flag_11779', 'flag_1178', 'flag_1179', 'flag_11798', 'flag_118', 'flag_1180', 'flag_11803', 'flag_1181', 'flag_1182', 'flag_1183', 'flag_11832', 'flag_11836', 'flag_1184', 'flag_11842', 'flag_11848', 'flag_1185', 'flag_1186', 'flag_11861', 'flag_11867', 'flag_1187', 'flag_1188', 'flag_11881', 'flag_1189', 'flag_11895', 'flag_119', 'flag_1190', 'flag_1191', 'flag_11915', 'flag_1192', 'flag_11924', 'flag_11925', 'flag_11926', 'flag_1193', 'flag_11935', 'flag_11937', 'flag_1194', 'flag_11941', 'flag_11944', 'flag_1195', 'flag_1196', 'flag_11961', 'flag_11964', 'flag_11966', 'flag_1197', 'flag_11975', 'flag_1198', 'flag_11981', 'flag_11982', 'flag_1199', 'flag_11991', 'flag_11994', 'flag_11998', 'flag_12', 'flag_120', 'flag_1200', 'flag_1201', 'flag_1202', 'flag_12022', 'flag_1203', 'flag_12035', 'flag_1204', 'flag_12045', 'flag_1205', 'flag_1206', 'flag_1207', 'flag_1208', 'flag_1209', 'flag_121', 'flag_1210', 'flag_1210740', 'flag_1211', 'flag_1212', 'flag_1213', 'flag_1214', 'flag_12140', 'flag_1215', 'flag_12150', 'flag_12151', 'flag_1216', 'flag_12161', 'flag_12165', 'flag_1217', 'flag_1218', 'flag_1219', 'flag_12191', 'flag_12194', 'flag_122', 'flag_1220', 'flag_1221', 'flag_12217', 'flag_1222', 'flag_1223', 'flag_12237', 'flag_1224', 'flag_12241', 'flag_12249', 'flag_1225', 'flag_12252', 'flag_1226', 'flag_1227', 'flag_1228', 'flag_12286', 'flag_12289', 'flag_1229', 'flag_12295', 'flag_123', 'flag_1230', 'flag_1231', 'flag_12313', 'flag_1232', 'flag_12323', 'flag_12324', 'flag_1233', 'flag_12333', 'flag_12338', 'flag_1234', 'flag_1235', 'flag_1236', 'flag_1237', 'flag_1238', 'flag_12385', 'flag_1239', 'flag_12399', 'flag_124', 'flag_1240', 'flag_1241', 'flag_12418', 'flag_1242', 'flag_12424', 'flag_1243', 'flag_1244', 'flag_1245', 'flag_12456', 'flag_1246', 'flag_1247', 'flag_1248', 'flag_1249', 'flag_125', 'flag_1250', 'flag_12500', 'flag_1251', 'flag_1252', 'flag_1253', 'flag_1254', 'flag_1255', 'flag_1256', 'flag_1257', 'flag_1258', 'flag_1259', 'flag_126', 'flag_1260', 'flag_12609', 'flag_1261', 'flag_12614', 'flag_1262', 'flag_12620', 'flag_1263', 'flag_1264', 'flag_12645', 'flag_12646', 'flag_12648', 'flag_1265', 'flag_12652', 'flag_1266', 'flag_1267', 'flag_12675', 'flag_1268', 'flag_1269', 'flag_12699', 'flag_127', 'flag_1270', 'flag_1271', 'flag_12715', 'flag_12719', 'flag_1272', 'flag_1273', 'flag_12737', 'flag_1274', 'flag_12744', 'flag_12748', 'flag_12749', 'flag_1275', 'flag_1276', 'flag_1277', 'flag_12778', 'flag_1278', 'flag_1279', 'flag_12791', 'flag_128', 'flag_1280', 'flag_1281', 'flag_12812', 'flag_12816', 'flag_1282', 'flag_1283', 'flag_1284', 'flag_12840', 'flag_12842', 'flag_1285', 'flag_12858', 'flag_1286', 'flag_1287', 'flag_1288', 'flag_1289', 'flag_129', 'flag_1290', 'flag_1291', 'flag_12910', 'flag_1292', 'flag_1293', 'flag_1294', 'flag_1295', 'flag_1296', 'flag_1297', 'flag_12973', 'flag_1298', 'flag_12983', 'flag_12984', 'flag_1299', 'flag_13', 'flag_130', 'flag_1300', 'flag_1301', 'flag_1302', 'flag_1303', 'flag_13035', 'flag_1304', 'flag_1305', 'flag_1306', 'flag_1307', 'flag_1308', 'flag_1309', 'flag_131', 'flag_1310', 'flag_13106', 'flag_13108', 'flag_1311', 'flag_1312', 'flag_1313', 'flag_1314', 'flag_13140', 'flag_1315', 'flag_13155', 'flag_1316', 'flag_1317', 'flag_1318', 'flag_13180', 'flag_1319', 'flag_132', 'flag_1320', 'flag_13209', 'flag_1321', 'flag_1322', 'flag_1323', 'flag_13239', 'flag_1324', 'flag_13240', 'flag_13247', 'flag_1325', 'flag_1326', 'flag_1327', 'flag_1328', 'flag_1329', 'flag_133', 'flag_1330', 'flag_1331', 'flag_1332', 'flag_1333', 'flag_1334', 'flag_1335', 'flag_1336', 'flag_1337', 'flag_13372', 'flag_1338', 'flag_1339', 'flag_134', 'flag_1340', 'flag_1341', 'flag_1342', 'flag_13425', 'flag_1343', 'flag_1344', 'flag_1345', 'flag_1346', 'flag_1347', 'flag_1348', 'flag_1349', 'flag_135', 'flag_1350', 'flag_1351', 'flag_13510', 'flag_13513', 'flag_1352', 'flag_1353', 'flag_1354', 'flag_13549', 'flag_1355', 'flag_13552', 'flag_1356', 'flag_1357', 'flag_13578', 'flag_1358', 'flag_1359', 'flag_136', 'flag_1360', 'flag_1361', 'flag_1362', 'flag_1363', 'flag_1364', 'flag_136464', 'flag_1365', 'flag_1366', 'flag_1367', 'flag_1368', 'flag_13684', 'flag_1369', 'flag_137', 'flag_1370', 'flag_1371', 'flag_1372', 'flag_1373', 'flag_1374', 'flag_13743', 'flag_13748', 'flag_1375', 'flag_1376', 'flag_1377', 'flag_13772', 'flag_1378', 'flag_13785', 'flag_1379', 'flag_13794', 'flag_13796', 'flag_1379963888', 'flag_138', 'flag_1380', 'flag_1381', 'flag_13814', 'flag_1382', 'flag_13823', 'flag_1383', 'flag_1384', 'flag_1385', 'flag_1386', 'flag_1387', 'flag_1388', 'flag_1389', 'flag_13891', 'flag_139', 'flag_1390', 'flag_13904636', 'flag_1391', 'flag_1392', 'flag_1393', 'flag_1395', 'flag_1396', 'flag_1397', 'flag_1398', 'flag_1399', 'flag_14', 'flag_140', 'flag_1400', 'flag_1401', 'flag_1402', 'flag_1403', 'flag_1404', 'flag_1405', 'flag_14052', 'flag_1406', 'flag_1407', 'flag_1408', 'flag_1409', 'flag_141', 'flag_1410', 'flag_1411', 'flag_1412', 'flag_1413', 'flag_1414', 'flag_1415', 'flag_14157', 'flag_14158', 'flag_1416', 'flag_1417', 'flag_1418', 'flag_14189', 'flag_1419', 'flag_142', 'flag_1420', 'flag_1421', 'flag_1422', 'flag_1423', 'flag_14238', 'flag_1424', 'flag_1425', 'flag_1426', 'flag_1427', 'flag_1428', 'flag_1429', 'flag_143', 'flag_1430', 'flag_14305', 'flag_1431', 'flag_1432', 'flag_1433', 'flag_1434', 'flag_1435', 'flag_1436', 'flag_1437', 'flag_1438', 'flag_14384', 'flag_1439', 'flag_144', 'flag_1440', 'flag_1441', 'flag_14416', 'flag_1442', 'flag_1443', 'flag_1444', 'flag_1445', 'flag_144540', 'flag_1446', 'flag_1447', 'flag_1448', 'flag_14489', 'flag_1449', 'flag_145', 'flag_1450', 'flag_1451', 'flag_1452', 'flag_145258', 'flag_1453', 'flag_1454', 'flag_1455', 'flag_1456', 'flag_1457', 'flag_1458', 'flag_14584085', 'flag_14588', 'flag_1459', 'flag_146', 'flag_1460', 'flag_14600', 'flag_1461', 'flag_1462', 'flag_1463', 'flag_1464', 'flag_1465', 'flag_1466', 'flag_1467', 'flag_1468', 'flag_1469', 'flag_147', 'flag_1470', 'flag_1471', 'flag_1472', 'flag_1473', 'flag_1474', 'flag_1475', 'flag_1476', 'flag_1477', 'flag_1478', 'flag_1479', 'flag_148', 'flag_1480', 'flag_1481', 'flag_1482', 'flag_1483', 'flag_1484', 'flag_1485', 'flag_1486', 'flag_1487', 'flag_1488', 'flag_1489', 'flag_149', 'flag_1490', 'flag_1491', 'flag_1492', 'flag_1493', 'flag_1494', 'flag_1495', 'flag_1496', 'flag_1497', 'flag_1498', 'flag_1499', 'flag_15', 'flag_150', 'flag_1500', 'flag_1501', 'flag_1502', 'flag_1503', 'flag_1504', 'flag_1505', 'flag_1506', 'flag_1507', 'flag_1508', 'flag_1509', 'flag_151', 'flag_1510', 'flag_1511', 'flag_1512', 'flag_151264', 'flag_1513', 'flag_1514', 'flag_1515', 'flag_1516', 'flag_1517', 'flag_1518', 'flag_1519', 'flag_1519900', 'flag_152', 'flag_1520', 'flag_1521', 'flag_1522', 'flag_1523', 'flag_1524', 'flag_1525', 'flag_1526', 'flag_1527', 'flag_1528', 'flag_15281', 'flag_1529', 'flag_15290', 'flag_153', 'flag_1530', 'flag_1531', 'flag_1532', 'flag_1533', 'flag_1534', 'flag_1535', 'flag_1536', 'flag_1537', 'flag_15377', 'flag_1538', 'flag_1539', 'flag_154', 'flag_1540', 'flag_1541', 'flag_1542', 'flag_1543', 'flag_1544', 'flag_1545', 'flag_1546', 'flag_1547', 'flag_1548', 'flag_1549', 'flag_15492', 'flag_155', 'flag_1550', 'flag_1551', 'flag_1553', 'flag_1554', 'flag_1555', 'flag_1556', 'flag_1557', 'flag_1558', 'flag_1559', 'flag_156', 'flag_1560', 'flag_1561', 'flag_1562', 'flag_1563', 'flag_1564', 'flag_1565', 'flag_1566', 'flag_1567', 'flag_1568', 'flag_157', 'flag_1570', 'flag_1571', 'flag_1572', 'flag_15722', 'flag_1573', 'flag_1574', 'flag_1575', 'flag_1576', 'flag_1577', 'flag_1578', 'flag_1579', 'flag_158', 'flag_1580', 'flag_1581', 'flag_1582', 'flag_1583', 'flag_1584', 'flag_1585', 'flag_1586', 'flag_1587', 'flag_15876', 'flag_1588', 'flag_1589', 'flag_159', 'flag_1590', 'flag_1591', 'flag_1592', 'flag_1593', 'flag_1594', 'flag_1595', 'flag_1596', 'flag_1597', 'flag_15974', 'flag_1598', 'flag_1599', 'flag_16', 'flag_160', 'flag_1600', 'flag_1601', 'flag_1602', 'flag_1603', 'flag_1604', 'flag_1606', 'flag_1607', 'flag_1608', 'flag_1609', 'flag_161', 'flag_1610', 'flag_1611', 'flag_16115', 'flag_1612', 'flag_1613', 'flag_1614', 'flag_1615', 'flag_1616', 'flag_1619', 'flag_162', 'flag_1620', 'flag_1621', 'flag_1622', 'flag_1623', 'flag_1624', 'flag_1625', 'flag_1626', 'flag_1627', 'flag_1628', 'flag_1629', 'flag_163', 'flag_1630', 'flag_1631', 'flag_1633', 'flag_1634', 'flag_1635', 'flag_1636', 'flag_16369', 'flag_1637', 'flag_1638', 'flag_16384', 'flag_1639', 'flag_164', 'flag_1640', 'flag_1641', 'flag_1642', 'flag_1643', 'flag_16438', 'flag_1644', 'flag_16441', 'flag_1645', 'flag_1647', 'flag_1648', 'flag_1649', 'flag_165', 'flag_1650', 'flag_1651', 'flag_1652', 'flag_1653', 'flag_1654', 'flag_1655', 'flag_16551', 'flag_1656', 'flag_1657', 'flag_1658', 'flag_1659', 'flag_166', 'flag_1660', 'flag_1661', 'flag_1662', 'flag_1663', 'flag_1664', 'flag_1665', 'flag_1666', 'flag_16661', 'flag_1667', 'flag_1668', 'flag_1669', 'flag_167', 'flag_1670', 'flag_1671', 'flag_16711', 'flag_1672', 'flag_16726', 'flag_1673', 'flag_1674', 'flag_1675', 'flag_1676', 'flag_1677', 'flag_16787', 'flag_1679', 'flag_168', 'flag_1680', 'flag_1681', 'flag_1682', 'flag_1684', 'flag_1685', 'flag_1686', 'flag_1687', 'flag_1688', 'flag_1689', 'flag_169', 'flag_1690', 'flag_1691', 'flag_1692', 'flag_1693', 'flag_169360', 'flag_1694', 'flag_1695', 'flag_16952', 'flag_1696', 'flag_1697', 'flag_1698', 'flag_16980502', 'flag_16980503', 'flag_1699', 'flag_17', 'flag_170', 'flag_1700', 'flag_1701', 'flag_1702', 'flag_1703', 'flag_1704', 'flag_1705', 'flag_1706', 'flag_1708', 'flag_17086', 'flag_1709', 'flag_171', 'flag_1710', 'flag_1711', 'flag_1712', 'flag_1713', 'flag_1714', 'flag_1715', 'flag_1716', 'flag_1717', 'flag_1718', 'flag_1719', 'flag_172', 'flag_1720', 'flag_1721', 'flag_1722', 'flag_1723', 'flag_1724', 'flag_1725', 'flag_1726', 'flag_1727', 'flag_1729', 'flag_173', 'flag_1730', 'flag_1732', 'flag_1733', 'flag_1734', 'flag_1735', 'flag_1736', 'flag_1737', 'flag_1738', 'flag_173819', 'flag_1739', 'flag_174', 'flag_1740', 'flag_1742', 'flag_1743', 'flag_1744', 'flag_17448', 'flag_1745', 'flag_1746', 'flag_1747', 'flag_175', 'flag_1750', 'flag_1752', 'flag_1753', 'flag_175337', 'flag_175338', 'flag_1754', 'flag_1757', 'flag_1758', 'flag_1759', 'flag_176', 'flag_1760', 'flag_1761', 'flag_1762', 'flag_1763', 'flag_1765', 'flag_1766', 'flag_1767', 'flag_1769', 'flag_177', 'flag_1770', 'flag_1771', 'flag_1772', 'flag_1773', 'flag_1774', 'flag_1776', 'flag_1777', 'flag_1778', 'flag_1779', 'flag_178', 'flag_1780', 'flag_1781', 'flag_1782', 'flag_1784', 'flag_1785', 'flag_1786', 'flag_1787', 'flag_1788', 'flag_1789', 'flag_179', 'flag_1790', 'flag_1791', 'flag_1792', 'flag_1793', 'flag_1794', 'flag_1795', 'flag_1796', 'flag_1797', 'flag_1798', 'flag_1799', 'flag_18', 'flag_180', 'flag_1800', 'flag_1801', 'flag_1802', 'flag_1803', 'flag_1804', 'flag_1805', 'flag_1807', 'flag_1808', 'flag_1809', 'flag_181', 'flag_1810', 'flag_1811', 'flag_1812', 'flag_1814', 'flag_1816', 'flag_1817', 'flag_1819', 'flag_182', 'flag_1820', 'flag_1821', 'flag_1822', 'flag_1824', 'flag_1825', 'flag_1826', 'flag_1827', 'flag_1828', 'flag_1829', 'flag_183', 'flag_1830', 'flag_1831', 'flag_1832', 'flag_1833', 'flag_1834', 'flag_1836', 'flag_1837', 'flag_1838', 'flag_1839', 'flag_184', 'flag_1840', 'flag_1841', 'flag_1842', 'flag_1843', 'flag_1845', 'flag_1846', 'flag_1848', 'flag_1849', 'flag_185', 'flag_1850', 'flag_1851', 'flag_1852', 'flag_1853', 'flag_1854', 'flag_1855', 'flag_1856', 'flag_1858', 'flag_1859', 'flag_186', 'flag_1860', 'flag_1861', 'flag_1862', 'flag_1863', 'flag_1864', 'flag_1865', 'flag_1866', 'flag_1867', 'flag_1868', 'flag_1869', 'flag_187', 'flag_1870', 'flag_1871', 'flag_1872', 'flag_1873', 'flag_1874', 'flag_1875', 'flag_1877', 'flag_1878', 'flag_1879', 'flag_188', 'flag_18815556', 'flag_1882', 'flag_18828976', 'flag_1883', 'flag_1884', 'flag_1885', 'flag_1886', 'flag_1887', 'flag_189', 'flag_1890', 'flag_1891', 'flag_1893', 'flag_1894', 'flag_1895', 'flag_1896', 'flag_1898', 'flag_18980', 'flag_1899', 'flag_19', 'flag_190', 'flag_1901', 'flag_1903', 'flag_1904', 'flag_1905', 'flag_1906', 'flag_1907', 'flag_1908', 'flag_191', 'flag_1911', 'flag_1912', 'flag_1913', 'flag_1915', 'flag_1916', 'flag_1917', 'flag_1918', 'flag_1919', 'flag_192', 'flag_19209', 'flag_1921', 'flag_1922', 'flag_1923', 'flag_1924', 'flag_1926', 'flag_1927', 'flag_1928', 'flag_193', 'flag_1930', 'flag_1931', 'flag_1933', 'flag_1934', 'flag_1935', 'flag_1936', 'flag_1937', 'flag_1938', 'flag_194', 'flag_1940', 'flag_1941', 'flag_1942', 'flag_1944', 'flag_1945', 'flag_1946', 'flag_1947', 'flag_1948', 'flag_1949', 'flag_195', 'flag_1950', 'flag_1951', 'flag_1952', 'flag_1953', 'flag_1954', 'flag_1955', 'flag_1956', 'flag_1957', 'flag_196', 'flag_1960', 'flag_1961', 'flag_1962', 'flag_1965', 'flag_1966', 'flag_19660', 'flag_1967', 'flag_1969', 'flag_197', 'flag_1970', 'flag_1971', 'flag_1972', 'flag_1973', 'flag_1974', 'flag_19749', 'flag_1975', 'flag_1978', 'flag_1979', 'flag_198', 'flag_1980', 'flag_1981', 'flag_1982', 'flag_1983', 'flag_1985', 'flag_1987', 'flag_1988', 'flag_1989', 'flag_199', 'flag_1990', 'flag_1991', 'flag_1993', 'flag_1994', 'flag_1995', 'flag_1996', 'flag_1998', 'flag_1999', 'flag_20', 'flag_200', 'flag_200068', 'flag_2004', 'flag_2005', 'flag_2006', 'flag_2007160', 'flag_201', 'flag_2010', 'flag_2011', 'flag_2012', 'flag_2013', 'flag_2014', 'flag_2015', 'flag_2017', 'flag_2018', 'flag_2019', 'flag_202', 'flag_2020', 'flag_2021', 'flag_2023', 'flag_2024', 'flag_2025', 'flag_2026', 'flag_2027', 'flag_2028', 'flag_2029', 'flag_203', 'flag_2030', 'flag_20309', 'flag_2032', 'flag_20320', 'flag_2033', 'flag_2035', 'flag_2036', 'flag_2037', 'flag_2038', 'flag_203896', 'flag_2039', 'flag_204', 'flag_2040', 'flag_2041', 'flag_2042', 'flag_2043', 'flag_20438', 'flag_2044', 'flag_20440', 'flag_20442', 'flag_2045', 'flag_2046', 'flag_204766', 'flag_204768', 'flag_204798', 'flag_204819', 'flag_204822', 'flag_204876', 'flag_204879', 'flag_204880', 'flag_204881', 'flag_2049', 'flag_20492', 'flag_204921', 'flag_20493', 'flag_205', 'flag_2050', 'flag_2052', 'flag_20529', 'flag_2053', 'flag_2056', 'flag_206', 'flag_2060', 'flag_2061', 'flag_2063', 'flag_20658', 'flag_2066', 'flag_2067', 'flag_2068', 'flag_2069', 'flag_207', 'flag_2070', 'flag_2071', 'flag_2072', 'flag_2073', 'flag_2074', 'flag_2077', 'flag_2078', 'flag_2079', 'flag_208', 'flag_2081', 'flag_2083', 'flag_2085', 'flag_2086', 'flag_2087', 'flag_2089', 'flag_209', 'flag_2090', 'flag_2091', 'flag_2092', 'flag_2093', 'flag_2094', 'flag_2095', 'flag_2096', 'flag_2097', 'flag_2098', 'flag_2099', 'flag_210', 'flag_2101', 'flag_2102', 'flag_2103', 'flag_2104', 'flag_2104380', 'flag_21048', 'flag_2105', 'flag_2106', 'flag_2107', 'flag_2108', 'flag_2109', 'flag_211', 'flag_2110', 'flag_2111', 'flag_2115', 'flag_2116', 'flag_2117', 'flag_2118', 'flag_2119', 'flag_212', 'flag_2121', 'flag_2122', 'flag_21240', 'flag_2125', 'flag_2126', 'flag_2127', 'flag_2128', 'flag_213', 'flag_2131', 'flag_2131840', 'flag_2132', 'flag_2134', 'flag_2136', 'flag_2137', 'flag_2139', 'flag_214', 'flag_2140', 'flag_2141', 'flag_2142', 'flag_2143', 'flag_2146', 'flag_2147', 'flag_215', 'flag_2150', 'flag_21518', 'flag_2152', 'flag_2153', 'flag_2154', 'flag_2155', 'flag_2157', 'flag_2158', 'flag_2159', 'flag_216', 'flag_2162', 'flag_2162260', 'flag_2163', 'flag_2165', 'flag_2166', 'flag_2167', 'flag_2168', 'flag_217', 'flag_2170', 'flag_2171', 'flag_2172', 'flag_217277339', 'flag_2175', 'flag_2177', 'flag_2178', 'flag_218', 'flag_2180', 'flag_2181', 'flag_2182', 'flag_2183', 'flag_2187080', 'flag_2188', 'flag_219', 'flag_2190', 'flag_2191', 'flag_2192', 'flag_2192552', 'flag_2193', 'flag_2194', 'flag_2194380', 'flag_21945520', 'flag_2194619', 'flag_2194620', 'flag_22', 'flag_220', 'flag_2200', 'flag_2201', 'flag_2202', 'flag_2204', 'flag_2206', 'flag_2207', 'flag_2208', 'flag_2209', 'flag_221', 'flag_2210', 'flag_2212', 'flag_2215', 'flag_2217', 'flag_2219', 'flag_222', 'flag_2220', 'flag_2221', 'flag_2222', 'flag_22224', 'flag_2223', 'flag_2224', 'flag_2225', 'flag_2226', 'flag_2227', 'flag_22270', 'flag_2228', 'flag_2229', 'flag_223', 'flag_2230', 'flag_2231', 'flag_2232', 'flag_2233', 'flag_2235', 'flag_2237', 'flag_2238', 'flag_2239', 'flag_224', 'flag_2240', 'flag_2241', 'flag_2242', 'flag_2243', 'flag_2244', 'flag_2245', 'flag_2246', 'flag_2248', 'flag_2249', 'flag_225', 'flag_2250', 'flag_2252', 'flag_2253', 'flag_22532', 'flag_2255', 'flag_2256', 'flag_2258', 'flag_226', 'flag_2261', 'flag_2264', 'flag_2265', 'flag_2266', 'flag_2268', 'flag_227', 'flag_2271', 'flag_2273', 'flag_2274', 'flag_2275', 'flag_227532', 'flag_2276', 'flag_2277', 'flag_2278', 'flag_228', 'flag_2280', 'flag_2280318', 'flag_2282', 'flag_2284', 'flag_2285', 'flag_2287', 'flag_2288', 'flag_2289', 'flag_229', 'flag_2290', 'flag_2292', 'flag_2293136', 'flag_2296', 'flag_2297', 'flag_2299', 'flag_23', 'flag_230', 'flag_2302', 'flag_2305', 'flag_2307', 'flag_2308', 'flag_231', 'flag_2310', 'flag_2311', 'flag_2312', 'flag_2313', 'flag_2314', 'flag_2315', 'flag_2317', 'flag_2318', 'flag_2319', 'flag_232', 'flag_2320', 'flag_2323', 'flag_2326', 'flag_2327', 'flag_2328', 'flag_233', 'flag_2333', 'flag_2334', 'flag_2335', 'flag_2336', 'flag_2339', 'flag_234', 'flag_2341', 'flag_2342', 'flag_2344', 'flag_2346', 'flag_2347', 'flag_2348', 'flag_235', 'flag_2352', 'flag_2353', 'flag_2355', 'flag_2357', 'flag_2358', 'flag_2359', 'flag_236', 'flag_2360', 'flag_2361', 'flag_2362', 'flag_2363', 'flag_2364', 'flag_2367', 'flag_2368', 'flag_2369', 'flag_237', 'flag_2370', 'flag_2371', 'flag_2372', 'flag_2373', 'flag_2374', 'flag_2375', 'flag_2376', 'flag_2377', 'flag_2378', 'flag_238', 'flag_2380', 'flag_2381', 'flag_238508', 'flag_2386', 'flag_2388', 'flag_2389', 'flag_239', 'flag_2391', 'flag_2393', 'flag_2394', 'flag_2395', 'flag_2396', 'flag_2397', 'flag_2398', 'flag_2399', 'flag_24', 'flag_240', 'flag_2400', 'flag_2402', 'flag_2404', 'flag_2405', 'flag_2408', 'flag_241', 'flag_2410', 'flag_2415', 'flag_2416', 'flag_2417', 'flag_242', 'flag_2420', 'flag_2421', 'flag_24240', 'flag_2425', 'flag_24252', 'flag_2426', 'flag_2427', 'flag_2428', 'flag_2429', 'flag_243', 'flag_2430', 'flag_2432', 'flag_2433', 'flag_2434', 'flag_2436', 'flag_244', 'flag_24418776', 'flag_2443', 'flag_2444', 'flag_24440', 'flag_2449', 'flag_245', 'flag_2450', 'flag_2454', 'flag_2455', 'flag_2456', 'flag_2459', 'flag_246', 'flag_2462', 'flag_2463', 'flag_2464', 'flag_2466', 'flag_2467', 'flag_247', 'flag_2472', 'flag_2473', 'flag_2476', 'flag_2478', 'flag_248', 'flag_2481', 'flag_2482', 'flag_2483', 'flag_2484', 'flag_2485', 'flag_2488', 'flag_2489', 'flag_249', 'flag_2491', 'flag_2492', 'flag_2493', 'flag_2496', 'flag_2497', 'flag_2498', 'flag_2499', 'flag_25', 'flag_250', 'flag_2500', 'flag_2500058', 'flag_2504', 'flag_2505', 'flag_250587', 'flag_250593', 'flag_250691', 'flag_250695', 'flag_250697', 'flag_2507', 'flag_250700', 'flag_250702', 'flag_250726', 'flag_250728', 'flag_250736', 'flag_250760', 'flag_250777', 'flag_251', 'flag_2511', 'flag_2512', 'flag_2516', 'flag_2517', 'flag_252', 'flag_2522', 'flag_2524', 'flag_2526', 'flag_2529', 'flag_253', 'flag_2532', 'flag_2533', 'flag_2536', 'flag_2537', 'flag_254', 'flag_2540', 'flag_2541', 'flag_2542', 'flag_2543', 'flag_2544', 'flag_2545', 'flag_2546', 'flag_2549', 'flag_255', 'flag_2550', 'flag_2552', 'flag_2553', 'flag_2554', 'flag_2555', 'flag_2556', 'flag_2557', 'flag_2559', 'flag_256', 'flag_2560', 'flag_2565', 'flag_2568', 'flag_2569', 'flag_257', 'flag_2570', 'flag_2571', 'flag_2572', 'flag_2574', 'flag_2576', 'flag_2577', 'flag_2578', 'flag_258', 'flag_2581', 'flag_2582', 'flag_2587', 'flag_2588', 'flag_2589', 'flag_259', 'flag_2592', 'flag_2593', 'flag_2597', 'flag_2598', 'flag_2599', 'flag_26', 'flag_260', 'flag_2600', 'flag_2601', 'flag_2602', 'flag_2605', 'flag_2606', 'flag_2608', 'flag_2609', 'flag_261', 'flag_2610', 'flag_2611', 'flag_2612', 'flag_2613', 'flag_2615', 'flag_262', 'flag_2620', 'flag_2621', 'flag_2623', 'flag_2625', 'flag_2628', 'flag_26280', 'flag_2629', 'flag_263', 'flag_2631', 'flag_2632', 'flag_2633', 'flag_2634', 'flag_2635', 'flag_2639', 'flag_264', 'flag_26408', 'flag_2641', 'flag_2645', 'flag_2646', 'flag_2649', 'flag_265', 'flag_2650', 'flag_2652', 'flag_2653', 'flag_2656', 'flag_2657', 'flag_266', 'flag_2660', 'flag_2661', 'flag_2662', 'flag_2664', 'flag_267', 'flag_2670', 'flag_2671', 'flag_2672', 'flag_2673', 'flag_2679', 'flag_268', 'flag_2680', 'flag_2682', 'flag_2685', 'flag_2688', 'flag_2689', 'flag_269', 'flag_2690', 'flag_2692', 'flag_2693', 'flag_2694', 'flag_2695', 'flag_2696', 'flag_2697', 'flag_2699', 'flag_27', 'flag_270', 'flag_2701', 'flag_2702', 'flag_2704', 'flag_2706', 'flag_2708', 'flag_2709', 'flag_271', 'flag_2710', 'flag_2712', 'flag_2714', 'flag_2715', 'flag_2716', 'flag_2717', 'flag_2719', 'flag_272', 'flag_2720', 'flag_2722', 'flag_2724', 'flag_2728', 'flag_273', 'flag_2732', 'flag_2735', 'flag_2736', 'flag_274', 'flag_2740', 'flag_2741', 'flag_2742', 'flag_2743', 'flag_2744', 'flag_2745', 'flag_2748', 'flag_275', 'flag_2750', 'flag_2751', 'flag_2752', 'flag_2753', 'flag_2754', 'flag_276', 'flag_2760', 'flag_2762', 'flag_2764', 'flag_2765', 'flag_2766', 'flag_2768', 'flag_277', 'flag_2771', 'flag_2772', 'flag_2774', 'flag_2775', 'flag_2777', 'flag_278', 'flag_2780', 'flag_2781', 'flag_2782', 'flag_2784', 'flag_2785', 'flag_279', 'flag_2790', 'flag_2794', 'flag_2797', 'flag_28', 'flag_280', 'flag_2800', 'flag_2802', 'flag_2803', 'flag_2804', 'flag_2805', 'flag_2806', 'flag_2807', 'flag_2808', 'flag_281', 'flag_2815', 'flag_2816', 'flag_2819', 'flag_282', 'flag_2822', 'flag_2825', 'flag_2826', 'flag_2828', 'flag_283', 'flag_2833', 'flag_2836', 'flag_2837', 'flag_2838', 'flag_2839', 'flag_284', 'flag_2840', 'flag_2844', 'flag_2846', 'flag_2847', 'flag_2848', 'flag_2849', 'flag_285', 'flag_2850', 'flag_2853', 'flag_2857', 'flag_2859', 'flag_286', 'flag_2865', 'flag_2867', 'flag_2868', 'flag_287', 'flag_2873', 'flag_2875', 'flag_2876', 'flag_2878', 'flag_2879', 'flag_288', 'flag_2881', 'flag_2883', 'flag_2886', 'flag_2888', 'flag_289', 'flag_2890', 'flag_2893', 'flag_2895', 'flag_2896', 'flag_29', 'flag_290', 'flag_2900', 'flag_2901', 'flag_2904', 'flag_29079', 'flag_2908', 'flag_291', 'flag_2911', 'flag_2912', 'flag_2913', 'flag_2914', 'flag_2917', 'flag_2918', 'flag_292', 'flag_29200', 'flag_2921', 'flag_2924', 'flag_2926', 'flag_293', 'flag_2931', 'flag_2932', 'flag_2936', 'flag_2937', 'flag_2938', 'flag_294', 'flag_2940', 'flag_2941', 'flag_2943', 'flag_2944', 'flag_2945', 'flag_2947', 'flag_2948', 'flag_295', 'flag_2951', 'flag_2958', 'flag_296', 'flag_2968', 'flag_297', 'flag_2970', 'flag_2971', 'flag_2972', 'flag_2973', 'flag_2974', 'flag_2975', 'flag_298', 'flag_2980', 'flag_2982', 'flag_2987', 'flag_299', 'flag_299160', 'flag_29920', 'flag_2994', 'flag_29954', 'flag_2996', 'flag_30', 'flag_300', 'flag_30004', 'flag_3001', 'flag_3002', 'flag_3004', 'flag_3007', 'flag_3009', 'flag_301', 'flag_3013', 'flag_3019', 'flag_302', 'flag_3024', 'flag_3025', 'flag_303', 'flag_3034', 'flag_3035', 'flag_3036', 'flag_304', 'flag_3044', 'flag_3046', 'flag_3049', 'flag_305', 'flag_3051', 'flag_3052', 'flag_3053', 'flag_3056', 'flag_3057', 'flag_306', 'flag_3060', 'flag_3064', 'flag_3065', 'flag_3068', 'flag_3069', 'flag_307', 'flag_3076', 'flag_3077', 'flag_3078', 'flag_308', 'flag_3080', 'flag_3081', 'flag_3082', 'flag_3087', 'flag_3088', 'flag_3089', 'flag_309', 'flag_31', 'flag_310', 'flag_3109', 'flag_311', 'flag_3110', 'flag_3111', 'flag_3115', 'flag_3117', 'flag_3119', 'flag_312', 'flag_31207', 'flag_3121', 'flag_3124', 'flag_3128', 'flag_312876', 'flag_3129', 'flag_313', 'flag_3130', 'flag_3131', 'flag_3133', 'flag_3134', 'flag_3135', 'flag_314', 'flag_3144', 'flag_3145', 'flag_3146', 'flag_3149', 'flag_315', 'flag_3159', 'flag_316', 'flag_3168', 'flag_317', 'flag_3170', 'flag_3174', 'flag_3178', 'flag_318', 'flag_3180', 'flag_3182', 'flag_3184', 'flag_3188', 'flag_319', 'flag_3190', 'flag_31924', 'flag_3193', 'flag_32', 'flag_320', 'flag_3201', 'flag_3205', 'flag_321', 'flag_3217', 'flag_3219', 'flag_322', 'flag_3222', 'flag_3227', 'flag_3229', 'flag_323', 'flag_3231', 'flag_3233', 'flag_3235', 'flag_3239', 'flag_324', 'flag_3242', 'flag_3245', 'flag_3247', 'flag_324772', 'flag_3248', 'flag_3249', 'flag_325', 'flag_3253', 'flag_326', 'flag_3262', 'flag_3266', 'flag_327', 'flag_3270', 'flag_3275', 'flag_3277', 'flag_328', 'flag_3283', 'flag_3286', 'flag_3288', 'flag_3289', 'flag_329', 'flag_3294', 'flag_3298', 'flag_33', 'flag_330', 'flag_3304', 'flag_3308', 'flag_331', 'flag_3310', 'flag_3312', 'flag_3318', 'flag_3319', 'flag_332', 'flag_3321', 'flag_333', 'flag_3331', 'flag_33336', 'flag_3334', 'flag_3337', 'flag_3338', 'flag_334', 'flag_3340', 'flag_3346', 'flag_335', 'flag_3351', 'flag_33580', 'flag_336', 'flag_3360', 'flag_3366', 'flag_3369', 'flag_337', 'flag_3370', 'flag_3373', 'flag_3375', 'flag_338', 'flag_3389', 'flag_339', 'flag_3391', 'flag_3394', 'flag_3395', 'flag_3396', 'flag_33996', 'flag_34', 'flag_340', 'flag_3400', 'flag_3401', 'flag_3405', 'flag_341', 'flag_3414', 'flag_3415', 'flag_342', 'flag_3421', 'flag_3425', 'flag_343', 'flag_3438', 'flag_3439', 'flag_344', 'flag_3441', 'flag_3446', 'flag_345', 'flag_3450', 'flag_3452', 'flag_3458', 'flag_346', 'flag_3465', 'flag_3466', 'flag_3468', 'flag_347', 'flag_3471', 'flag_3475', 'flag_348', 'flag_3480', 'flag_3482', 'flag_3484', 'flag_349', 'flag_3492', 'flag_3495', 'flag_35', 'flag_350', 'flag_3503', 'flag_35040', 'flag_3507', 'flag_351', 'flag_3517', 'flag_35195', 'flag_352', 'flag_3525', 'flag_353', 'flag_3530', 'flag_354', 'flag_3541', 'flag_3543', 'flag_3545', 'flag_355', 'flag_3555', 'flag_3559', 'flag_356', 'flag_3565', 'flag_357', 'flag_3572', 'flag_358', 'flag_3580', 'flag_3582', 'flag_358678', 'flag_3588', 'flag_359', 'flag_3591', 'flag_3597', 'flag_36', 'flag_360', 'flag_3600', 'flag_36040', 'flag_361', 'flag_3614', 'flag_3617', 'flag_362', 'flag_36256', 'flag_363', 'flag_3633', 'flag_364', 'flag_365', 'flag_36500', 'flag_36530', 'flag_3658', 'flag_366', 'flag_3660', 'flag_3665', 'flag_3669', 'flag_36696', 'flag_367', 'flag_3676', 'flag_368', 'flag_369', 'flag_3690', 'flag_3692', 'flag_3696', 'flag_3697', 'flag_37', 'flag_370', 'flag_371', 'flag_3711', 'flag_3716', 'flag_372', 'flag_3724', 'flag_37257', 'flag_373', 'flag_3731', 'flag_3735', 'flag_374', 'flag_3740', 'flag_3744', 'flag_3745', 'flag_3746', 'flag_375', 'flag_376', 'flag_37681', 'flag_377', 'flag_3775', 'flag_378', 'flag_379', 'flag_37960', 'flag_3798', 'flag_38', 'flag_380', 'flag_381', 'flag_381709090', 'flag_382', 'flag_38207', 'flag_38284', 'flag_383', 'flag_3834', 'flag_3836', 'flag_384', 'flag_3842', 'flag_3843', 'flag_3844', 'flag_3848', 'flag_385', 'flag_38568', 'flag_386', 'flag_3862', 'flag_387', 'flag_3873', 'flag_388', 'flag_3883', 'flag_38874', 'flag_3888', 'flag_389', 'flag_39', 'flag_390', 'flag_3909', 'flag_391', 'flag_392', 'flag_393', 'flag_394', 'flag_3940', 'flag_3946', 'flag_3947', 'flag_395', 'flag_3953', 'flag_396', 'flag_3962', 'flag_397', 'flag_3970', 'flag_398', 'flag_3983', 'flag_399', 'flag_39908', 'flag_4', 'flag_40', 'flag_400', 'flag_4002852', 'flag_4004', 'flag_4007', 'flag_401', 'flag_4012', 'flag_4014', 'flag_4016', 'flag_4018', 'flag_402', 'flag_4027', 'flag_403', 'flag_4031', 'flag_404', 'flag_40494', 'flag_40495', 'flag_405', 'flag_405412', 'flag_4057', 'flag_406', 'flag_4060', 'flag_40636', 'flag_4068', 'flag_407', 'flag_4071', 'flag_4075', 'flag_408', 'flag_4086', 'flag_409', 'flag_4094', 'flag_4095', 'flag_41', 'flag_410', 'flag_4105', 'flag_4107', 'flag_411', 'flag_4113', 'flag_4115', 'flag_412', 'flag_4122', 'flag_413', 'flag_414', 'flag_4143', 'flag_415', 'flag_416', 'flag_417', 'flag_4170', 'flag_417488', 'flag_41772', 'flag_418', 'flag_4181', 'flag_4189', 'flag_419', 'flag_4197', 'flag_4198', 'flag_42', 'flag_420', 'flag_4200', 'flag_42082', 'flag_4209', 'flag_421', 'flag_4211', 'flag_422', 'flag_423', 'flag_42340', 'flag_4239', 'flag_424', 'flag_4243', 'flag_425', 'flag_426', 'flag_4263', 'flag_427', 'flag_4271', 'flag_4277', 'flag_428', 'flag_429', 'flag_43', 'flag_430', 'flag_43003', 'flag_431', 'flag_4311', 'flag_4316', 'flag_43232', 'flag_433', 'flag_43358', 'flag_435', 'flag_43505', 'flag_4357454', 'flag_4358', 'flag_43580', 'flag_4364', 'flag_437', 'flag_4372', 'flag_438', 'flag_4380', 'flag_439', 'flag_44', 'flag_440', 'flag_4404', 'flag_441', 'flag_44138', 'flag_442', 'flag_4425', 'flag_443', 'flag_4435', 'flag_4436', 'flag_444', 'flag_4443', 'flag_4454', 'flag_446', 'flag_447', 'flag_44788', 'flag_448', 'flag_449', 'flag_4491', 'flag_44912', 'flag_4496', 'flag_45', 'flag_450', 'flag_45056', 'flag_4508', 'flag_451', 'flag_45172', 'flag_452', 'flag_45260', 'flag_453', 'flag_4532', 'flag_4539', 'flag_454', 'flag_4542', 'flag_455', 'flag_4568', 'flag_456980', 'flag_4571', 'flag_458', 'flag_459', 'flag_45908', 'flag_46', 'flag_460', 'flag_461', 'flag_46152', 'flag_462', 'flag_463', 'flag_464', 'flag_465', 'flag_4656', 'flag_4657', 'flag_466', 'flag_4660', 'flag_4662', 'flag_4666', 'flag_467', 'flag_46720', 'flag_4674', 'flag_468', 'flag_469', 'flag_47', 'flag_470', 'flag_471', 'flag_472', 'flag_473', 'flag_4734', 'flag_474', 'flag_4743', 'flag_475', 'flag_4753', 'flag_4756', 'flag_476', 'flag_47612', 'flag_4763', 'flag_477', 'flag_478', 'flag_479', 'flag_48', 'flag_480', 'flag_481', 'flag_4813', 'flag_482', 'flag_483', 'flag_484', 'flag_485', 'flag_486', 'flag_4866', 'flag_486700', 'flag_487', 'flag_487528', 'flag_488', 'flag_489', 'flag_4892', 'flag_49', 'flag_490', 'flag_491', 'flag_491004', 'flag_492', 'flag_4923', 'flag_493', 'flag_494', 'flag_495', 'flag_496', 'flag_49640', 'flag_497', 'flag_49787', 'flag_498', 'flag_49830', 'flag_499', 'flag_49901', 'flag_4991', 'flag_4998', 'flag_5', 'flag_50', 'flag_500', 'flag_50004', 'flag_5013', 'flag_501760', 'flag_502', 'flag_50248', 'flag_504', 'flag_505', 'flag_506', 'flag_507', 'flag_508', 'flag_50816', 'flag_5085', 'flag_509', 'flag_5092', 'flag_5095', 'flag_5097472', 'flag_51', 'flag_510', 'flag_511', 'flag_51100', 'flag_5118', 'flag_51180', 'flag_512', 'flag_5131424', 'flag_5133876', 'flag_5133877', 'flag_5135678', 'flag_514', 'flag_5149', 'flag_515', 'flag_5150', 'flag_516', 'flag_5167', 'flag_517', 'flag_5171', 'flag_5173', 'flag_518', 'flag_519', 'flag_5198', 'flag_51992', 'flag_52', 'flag_520', 'flag_521', 'flag_5210', 'flag_5214', 'flag_522', 'flag_5221', 'flag_523', 'flag_5235', 'flag_5248', 'flag_525', 'flag_5255', 'flag_52560', 'flag_5257', 'flag_527', 'flag_5279', 'flag_5281', 'flag_529', 'flag_5293', 'flag_529596', 'flag_53', 'flag_530', 'flag_531', 'flag_53168', 'flag_5319', 'flag_53208', 'flag_5336', 'flag_534', 'flag_53452', 'flag_5349', 'flag_535', 'flag_536', 'flag_53776', 'flag_538', 'flag_5386', 'flag_539', 'flag_54', 'flag_54020', 'flag_54060', 'flag_541', 'flag_542', 'flag_543', 'flag_544', 'flag_54540', 'flag_54689', 'flag_547', 'flag_54868', 'flag_549', 'flag_55', 'flag_550', 'flag_551', 'flag_5518', 'flag_552', 'flag_553', 'flag_554', 'flag_5543', 'flag_55480', 'flag_555', 'flag_5558', 'flag_556', 'flag_557', 'flag_559', 'flag_56', 'flag_560', 'flag_561', 'flag_5612', 'flag_562', 'flag_563', 'flag_5634', 'flag_564', 'flag_5644', 'flag_5649', 'flag_565', 'flag_5664648', 'flag_567', 'flag_568', 'flag_5684', 'flag_5688', 'flag_569', 'flag_57', 'flag_570', 'flag_571', 'flag_572', 'flag_573', 'flag_574', 'flag_575', 'flag_576', 'flag_577', 'flag_57763', 'flag_578', 'flag_5782', 'flag_579', 'flag_58', 'flag_580', 'flag_581', 'flag_582', 'flag_583', 'flag_5830', 'flag_584', 'flag_5840', 'flag_5851', 'flag_586', 'flag_587', 'flag_588', 'flag_589', 'flag_5891', 'flag_59', 'flag_590', 'flag_591', 'flag_592', 'flag_5924', 'flag_5925', 'flag_5929', 'flag_593', 'flag_594', 'flag_595', 'flag_596', 'flag_597', 'flag_598', 'flag_599', 'flag_6', 'flag_60', 'flag_600', 'flag_6004', 'flag_6005', 'flag_601', 'flag_602', 'flag_604', 'flag_605', 'flag_60584', 'flag_606', 'flag_6062', 'flag_607', 'flag_6071', 'flag_608', 'flag_60814', 'flag_60868', 'flag_609', 'flag_61', 'flag_610', 'flag_611', 'flag_612', 'flag_61298', 'flag_613', 'flag_614', 'flag_615', 'flag_61548', 'flag_616', 'flag_6163', 'flag_617', 'flag_618', 'flag_619', 'flag_6198', 'flag_62', 'flag_620', 'flag_621', 'flag_621568663', 'flag_622', 'flag_623', 'flag_6234', 'flag_6237', 'flag_624', 'flag_625', 'flag_626', 'flag_627', 'flag_6274', 'flag_6285', 'flag_629', 'flag_63', 'flag_630', 'flag_6304', 'flag_6308', 'flag_631', 'flag_632', 'flag_6327', 'flag_633', 'flag_634', 'flag_635', 'flag_636', 'flag_637', 'flag_638', 'flag_639', 'flag_64', 'flag_640', 'flag_641', 'flag_6416', 'flag_642', 'flag_643', 'flag_644', 'flag_645', 'flag_646', 'flag_6465', 'flag_6469', 'flag_647', 'flag_648', 'flag_649', 'flag_65', 'flag_650', 'flag_651', 'flag_6517', 'flag_6519', 'flag_652', 'flag_6520', 'flag_6526', 'flag_653', 'flag_6531', 'flag_654', 'flag_655', 'flag_656', 'flag_6568', 'flag_657', 'flag_65700', 'flag_658', 'flag_6581', 'flag_659', 'flag_66', 'flag_660', 'flag_6601', 'flag_661', 'flag_662', 'flag_663', 'flag_664', 'flag_665', 'flag_666', 'flag_6664', 'flag_667', 'flag_668', 'flag_669', 'flag_67', 'flag_670', 'flag_671', 'flag_672', 'flag_673', 'flag_674', 'flag_675', 'flag_6754', 'flag_676', 'flag_677', 'flag_678', 'flag_67816', 'flag_679', 'flag_68', 'flag_680', 'flag_6800', 'flag_681', 'flag_682', 'flag_68267', 'flag_683', 'flag_684', 'flag_685', 'flag_6853', 'flag_686', 'flag_68620', 'flag_687', 'flag_688', 'flag_689', 'flag_69', 'flag_690', 'flag_691', 'flag_692', 'flag_693', 'flag_6932', 'flag_693375640', 'flag_694', 'flag_695', 'flag_696', 'flag_697', 'flag_6979', 'flag_698', 'flag_699', 'flag_7', 'flag_70', 'flag_700', 'flag_701', 'flag_7012', 'flag_702', 'flag_703', 'flag_704', 'flag_7045', 'flag_705', 'flag_706', 'flag_707', 'flag_7077', 'flag_708', 'flag_709', 'flag_71', 'flag_710', 'flag_711', 'flag_712', 'flag_713', 'flag_714', 'flag_715', 'flag_715240', 'flag_716', 'flag_7162', 'flag_717', 'flag_7176', 'flag_718', 'flag_719', 'flag_7196', 'flag_72', 'flag_720', 'flag_7207', 'flag_721', 'flag_722', 'flag_723', 'flag_7233', 'flag_724', 'flag_7248552', 'flag_725', 'flag_726', 'flag_727', 'flag_7279', 'flag_728', 'flag_7280', 'flag_729', 'flag_73', 'flag_730', 'flag_731', 'flag_732', 'flag_7321', 'flag_7328', 'flag_7329', 'flag_733', 'flag_7331', 'flag_734', 'flag_735', 'flag_736', 'flag_737', 'flag_738', 'flag_739', 'flag_74', 'flag_740', 'flag_741', 'flag_742', 'flag_7420', 'flag_7422', 'flag_743', 'flag_744', 'flag_745', 'flag_746', 'flag_747', 'flag_748', 'flag_749', 'flag_75', 'flag_750', 'flag_7500', 'flag_7503', 'flag_751', 'flag_752', 'flag_753', 'flag_754', 'flag_754060', 'flag_755', 'flag_756', 'flag_7565', 'flag_7569', 'flag_757', 'flag_758', 'flag_759', 'flag_76', 'flag_760', 'flag_761', 'flag_762', 'flag_763', 'flag_764', 'flag_765', 'flag_766', 'flag_7665876', 'flag_767', 'flag_7670332', 'flag_7673', 'flag_768', 'flag_769', 'flag_77', 'flag_770', 'flag_771', 'flag_772', 'flag_7727', 'flag_773', 'flag_774', 'flag_775', 'flag_776', 'flag_7766', 'flag_7767', 'flag_777', 'flag_778', 'flag_7780', 'flag_7784', 'flag_779', 'flag_78', 'flag_780', 'flag_781', 'flag_782', 'flag_783', 'flag_784', 'flag_7847476', 'flag_785', 'flag_786', 'flag_787', 'flag_788', 'flag_789', 'flag_79', 'flag_790', 'flag_791', 'flag_792', 'flag_793', 'flag_794', 'flag_7940', 'flag_795', 'flag_796', 'flag_797', 'flag_7971', 'flag_798', 'flag_799', 'flag_8', 'flag_80', 'flag_800', 'flag_801', 'flag_802', 'flag_803', 'flag_804', 'flag_805', 'flag_8055', 'flag_806', 'flag_807', 'flag_808', 'flag_809', 'flag_81', 'flag_810', 'flag_811', 'flag_812', 'flag_813', 'flag_814', 'flag_815', 'flag_8155', 'flag_816', 'flag_817', 'flag_8173', 'flag_818', 'flag_819', 'flag_82', 'flag_820', 'flag_821', 'flag_822', 'flag_823', 'flag_824', 'flag_825', 'flag_826', 'flag_827', 'flag_828', 'flag_829', 'flag_83', 'flag_830', 'flag_831', 'flag_832', 'flag_83220', 'flag_8325', 'flag_833', 'flag_834', 'flag_835', 'flag_836', 'flag_837', 'flag_838', 'flag_839', 'flag_84', 'flag_840', 'flag_841', 'flag_8412', 'flag_842', 'flag_843', 'flag_844', 'flag_845', 'flag_846', 'flag_847', 'flag_848', 'flag_849', 'flag_8496', 'flag_85', 'flag_850', 'flag_851', 'flag_852', 'flag_853', 'flag_854', 'flag_855', 'flag_856', 'flag_857', 'flag_8576', 'flag_858', 'flag_859', 'flag_86', 'flag_860', 'flag_861', 'flag_862', 'flag_863', 'flag_864', 'flag_8641', 'flag_865', 'flag_866', 'flag_867', 'flag_868', 'flag_869', 'flag_87', 'flag_870', 'flag_871', 'flag_872', 'flag_873', 'flag_8737', 'flag_873728', 'flag_874', 'flag_875', 'flag_876', 'flag_8760', 'flag_87600', 'flag_8766', 'flag_8769', 'flag_877', 'flag_878', 'flag_879', 'flag_88', 'flag_880', 'flag_881', 'flag_8812', 'flag_882', 'flag_883', 'flag_88382', 'flag_88383', 'flag_884', 'flag_8845', 'flag_885', 'flag_886', 'flag_887', 'flag_888', 'flag_889', 'flag_89', 'flag_890', 'flag_891', 'flag_892', 'flag_893', 'flag_894', 'flag_895', 'flag_8952', 'flag_89581520', 'flag_896', 'flag_897', 'flag_898', 'flag_8989', 'flag_899', 'flag_8991', 'flag_9', 'flag_90', 'flag_900', 'flag_9003', 'flag_901', 'flag_902', 'flag_903', 'flag_904', 'flag_905', 'flag_906', 'flag_907', 'flag_908', 'flag_908352', 'flag_9086', 'flag_909', 'flag_91', 'flag_910', 'flag_911', 'flag_912', 'flag_913', 'flag_9135', 'flag_914', 'flag_915', 'flag_916', 'flag_9161', 'flag_917', 'flag_9178', 'flag_918', 'flag_919', 'flag_9198', 'flag_92', 'flag_920', 'flag_921', 'flag_9210', 'flag_922', 'flag_923', 'flag_924', 'flag_925', 'flag_926', 'flag_927', 'flag_928', 'flag_92884', 'flag_929', 'flag_9293', 'flag_92988', 'flag_92994', 'flag_93', 'flag_930', 'flag_93028', 'flag_931', 'flag_9311', 'flag_932', 'flag_933', 'flag_934', 'flag_935', 'flag_936', 'flag_937', 'flag_938', 'flag_939', 'flag_94', 'flag_940', 'flag_941', 'flag_9418', 'flag_942', 'flag_9423', 'flag_943', 'flag_944', 'flag_945', 'flag_946', 'flag_947', 'flag_9474', 'flag_947716', 'flag_948', 'flag_949', 'flag_95', 'flag_950', 'flag_951', 'flag_952', 'flag_953', 'flag_954', 'flag_9541', 'flag_955', 'flag_956', 'flag_957', 'flag_958', 'flag_959', 'flag_9597', 'flag_96', 'flag_960', 'flag_961', 'flag_962', 'flag_963', 'flag_964', 'flag_965', 'flag_9654', 'flag_966', 'flag_967', 'flag_968', 'flag_969', 'flag_97', 'flag_970', 'flag_971', 'flag_972', 'flag_973', 'flag_974', 'flag_975', 'flag_976', 'flag_977', 'flag_978', 'flag_9784', 'flag_979', 'flag_98', 'flag_980', 'flag_981', 'flag_982', 'flag_983', 'flag_984', 'flag_985', 'flag_986', 'flag_987', 'flag_988', 'flag_989', 'flag_99', 'flag_990', 'flag_991', 'flag_992', 'flag_993', 'flag_9933', 'flag_9935', 'flag_994', 'flag_9941', 'flag_995', 'flag_996', 'flag_997', 'flag_998', 'flag_999']\n"
          ]
        }
      ],
      "source": [
        "# protocol type\n",
        "unique_protocol = sorted(df.protocol_type.unique().astype(str))\n",
        "string1 = 'Protocol_type_'\n",
        "unique_protocol2 = [string1 + x for x in unique_protocol]\n",
        "print(unique_protocol2)\n",
        "\n",
        "# service\n",
        "unique_service = sorted(df.service.unique().astype(str))\n",
        "string2 = 'service_'\n",
        "unique_service2 = [string2 + x for x in unique_service]\n",
        "print(unique_service2)\n",
        "\n",
        "# flag\n",
        "unique_flag = sorted(df.flag.unique().astype(str))  # Convert to string\n",
        "string3 = 'flag_'\n",
        "unique_flag2 = [string3 + x for x in unique_flag]  # Now concatenation will work\n",
        "print(unique_flag2)\n",
        "\n",
        "# put together\n",
        "dumcols = unique_protocol2 + unique_service2 + unique_flag2\n",
        "\n",
        "# do it for test set\n",
        "unique_service_test = sorted(df_test.service.unique().astype(str))\n",
        "unique_service2_test = [string2 + x for x in unique_service_test]\n",
        "testdumcols = unique_protocol2 + unique_service2_test + unique_flag2\n"
      ]
    },
    {
      "cell_type": "code",
      "execution_count": null,
      "metadata": {},
      "outputs": [],
      "source": []
    },
    {
      "cell_type": "markdown",
      "metadata": {
        "colab_type": "text",
        "id": "Nf-QhZyfX9Jd"
      },
      "source": [
        "**Transform categorical features into numbers using LabelEncoder()**"
      ]
    },
    {
      "cell_type": "code",
      "execution_count": 113,
      "metadata": {
        "colab": {
          "base_uri": "https://localhost:8080/",
          "height": 238
        },
        "colab_type": "code",
        "id": "ta0CsfRUX5Tg",
        "outputId": "b678107b-e3be-4cb5-a4b0-4494ea5e072b"
      },
      "outputs": [
        {
          "name": "stdout",
          "output_type": "stream",
          "text": [
            "  protocol_type service  flag\n",
            "0      ftp_data      SF   491\n",
            "0         other      SF   146\n",
            "0       private      S0     0\n",
            "0          http      SF   232\n",
            "0          http      SF   199\n",
            "--------------------\n",
            "   protocol_type  service  flag\n",
            "0             20        9   482\n",
            "0             44        9   143\n",
            "0             49        5     0\n",
            "0             24        9   229\n",
            "0             24        9   196\n"
          ]
        }
      ],
      "source": [
        "df_categorical_values_enc=df_categorical_values.apply(LabelEncoder().fit_transform)\n",
        "\n",
        "print(df_categorical_values.head())\n",
        "print('--------------------')\n",
        "print(df_categorical_values_enc.head())\n",
        "\n",
        "# test set\n",
        "testdf_categorical_values_enc=testdf_categorical_values.apply(LabelEncoder().fit_transform)"
      ]
    },
    {
      "cell_type": "markdown",
      "metadata": {
        "colab_type": "text",
        "id": "iq_pnkScYDOi"
      },
      "source": [
        "**One-Hot-Encoding**"
      ]
    },
    {
      "cell_type": "code",
      "execution_count": 114,
      "metadata": {
        "colab": {
          "base_uri": "https://localhost:8080/",
          "height": 253
        },
        "colab_type": "code",
        "id": "MVBytj5dYGDu",
        "outputId": "f2c9a777-ea4e-4181-fcd6-099c9152cc8f"
      },
      "outputs": [
        {
          "data": {
            "text/html": [
              "<div>\n",
              "<style scoped>\n",
              "    .dataframe tbody tr th:only-of-type {\n",
              "        vertical-align: middle;\n",
              "    }\n",
              "\n",
              "    .dataframe tbody tr th {\n",
              "        vertical-align: top;\n",
              "    }\n",
              "\n",
              "    .dataframe thead th {\n",
              "        text-align: right;\n",
              "    }\n",
              "</style>\n",
              "<table border=\"1\" class=\"dataframe\">\n",
              "  <thead>\n",
              "    <tr style=\"text-align: right;\">\n",
              "      <th></th>\n",
              "      <th>protocol_type_0</th>\n",
              "      <th>protocol_type_1</th>\n",
              "      <th>protocol_type_2</th>\n",
              "      <th>protocol_type_3</th>\n",
              "      <th>protocol_type_4</th>\n",
              "      <th>protocol_type_5</th>\n",
              "      <th>protocol_type_6</th>\n",
              "      <th>protocol_type_7</th>\n",
              "      <th>protocol_type_8</th>\n",
              "      <th>protocol_type_9</th>\n",
              "      <th>...</th>\n",
              "      <th>flag_3331</th>\n",
              "      <th>flag_3332</th>\n",
              "      <th>flag_3333</th>\n",
              "      <th>flag_3334</th>\n",
              "      <th>flag_3335</th>\n",
              "      <th>flag_3336</th>\n",
              "      <th>flag_3337</th>\n",
              "      <th>flag_3338</th>\n",
              "      <th>flag_3339</th>\n",
              "      <th>flag_3340</th>\n",
              "    </tr>\n",
              "  </thead>\n",
              "  <tbody>\n",
              "    <tr>\n",
              "      <th>0</th>\n",
              "      <td>0.0</td>\n",
              "      <td>0.0</td>\n",
              "      <td>0.0</td>\n",
              "      <td>0.0</td>\n",
              "      <td>0.0</td>\n",
              "      <td>0.0</td>\n",
              "      <td>0.0</td>\n",
              "      <td>0.0</td>\n",
              "      <td>0.0</td>\n",
              "      <td>0.0</td>\n",
              "      <td>...</td>\n",
              "      <td>0.0</td>\n",
              "      <td>0.0</td>\n",
              "      <td>0.0</td>\n",
              "      <td>0.0</td>\n",
              "      <td>0.0</td>\n",
              "      <td>0.0</td>\n",
              "      <td>0.0</td>\n",
              "      <td>0.0</td>\n",
              "      <td>0.0</td>\n",
              "      <td>0.0</td>\n",
              "    </tr>\n",
              "    <tr>\n",
              "      <th>1</th>\n",
              "      <td>0.0</td>\n",
              "      <td>0.0</td>\n",
              "      <td>0.0</td>\n",
              "      <td>0.0</td>\n",
              "      <td>0.0</td>\n",
              "      <td>0.0</td>\n",
              "      <td>0.0</td>\n",
              "      <td>0.0</td>\n",
              "      <td>0.0</td>\n",
              "      <td>0.0</td>\n",
              "      <td>...</td>\n",
              "      <td>0.0</td>\n",
              "      <td>0.0</td>\n",
              "      <td>0.0</td>\n",
              "      <td>0.0</td>\n",
              "      <td>0.0</td>\n",
              "      <td>0.0</td>\n",
              "      <td>0.0</td>\n",
              "      <td>0.0</td>\n",
              "      <td>0.0</td>\n",
              "      <td>0.0</td>\n",
              "    </tr>\n",
              "    <tr>\n",
              "      <th>2</th>\n",
              "      <td>0.0</td>\n",
              "      <td>0.0</td>\n",
              "      <td>0.0</td>\n",
              "      <td>0.0</td>\n",
              "      <td>0.0</td>\n",
              "      <td>0.0</td>\n",
              "      <td>0.0</td>\n",
              "      <td>0.0</td>\n",
              "      <td>0.0</td>\n",
              "      <td>0.0</td>\n",
              "      <td>...</td>\n",
              "      <td>0.0</td>\n",
              "      <td>0.0</td>\n",
              "      <td>0.0</td>\n",
              "      <td>0.0</td>\n",
              "      <td>0.0</td>\n",
              "      <td>0.0</td>\n",
              "      <td>0.0</td>\n",
              "      <td>0.0</td>\n",
              "      <td>0.0</td>\n",
              "      <td>0.0</td>\n",
              "    </tr>\n",
              "    <tr>\n",
              "      <th>3</th>\n",
              "      <td>0.0</td>\n",
              "      <td>0.0</td>\n",
              "      <td>0.0</td>\n",
              "      <td>0.0</td>\n",
              "      <td>0.0</td>\n",
              "      <td>0.0</td>\n",
              "      <td>0.0</td>\n",
              "      <td>0.0</td>\n",
              "      <td>0.0</td>\n",
              "      <td>0.0</td>\n",
              "      <td>...</td>\n",
              "      <td>0.0</td>\n",
              "      <td>0.0</td>\n",
              "      <td>0.0</td>\n",
              "      <td>0.0</td>\n",
              "      <td>0.0</td>\n",
              "      <td>0.0</td>\n",
              "      <td>0.0</td>\n",
              "      <td>0.0</td>\n",
              "      <td>0.0</td>\n",
              "      <td>0.0</td>\n",
              "    </tr>\n",
              "    <tr>\n",
              "      <th>4</th>\n",
              "      <td>0.0</td>\n",
              "      <td>0.0</td>\n",
              "      <td>0.0</td>\n",
              "      <td>0.0</td>\n",
              "      <td>0.0</td>\n",
              "      <td>0.0</td>\n",
              "      <td>0.0</td>\n",
              "      <td>0.0</td>\n",
              "      <td>0.0</td>\n",
              "      <td>0.0</td>\n",
              "      <td>...</td>\n",
              "      <td>0.0</td>\n",
              "      <td>0.0</td>\n",
              "      <td>0.0</td>\n",
              "      <td>0.0</td>\n",
              "      <td>0.0</td>\n",
              "      <td>0.0</td>\n",
              "      <td>0.0</td>\n",
              "      <td>0.0</td>\n",
              "      <td>0.0</td>\n",
              "      <td>0.0</td>\n",
              "    </tr>\n",
              "  </tbody>\n",
              "</table>\n",
              "<p>5 rows × 3422 columns</p>\n",
              "</div>"
            ],
            "text/plain": [
              "   protocol_type_0  protocol_type_1  protocol_type_2  protocol_type_3  \\\n",
              "0              0.0              0.0              0.0              0.0   \n",
              "1              0.0              0.0              0.0              0.0   \n",
              "2              0.0              0.0              0.0              0.0   \n",
              "3              0.0              0.0              0.0              0.0   \n",
              "4              0.0              0.0              0.0              0.0   \n",
              "\n",
              "   protocol_type_4  protocol_type_5  protocol_type_6  protocol_type_7  \\\n",
              "0              0.0              0.0              0.0              0.0   \n",
              "1              0.0              0.0              0.0              0.0   \n",
              "2              0.0              0.0              0.0              0.0   \n",
              "3              0.0              0.0              0.0              0.0   \n",
              "4              0.0              0.0              0.0              0.0   \n",
              "\n",
              "   protocol_type_8  protocol_type_9  ...  flag_3331  flag_3332  flag_3333  \\\n",
              "0              0.0              0.0  ...        0.0        0.0        0.0   \n",
              "1              0.0              0.0  ...        0.0        0.0        0.0   \n",
              "2              0.0              0.0  ...        0.0        0.0        0.0   \n",
              "3              0.0              0.0  ...        0.0        0.0        0.0   \n",
              "4              0.0              0.0  ...        0.0        0.0        0.0   \n",
              "\n",
              "   flag_3334  flag_3335  flag_3336  flag_3337  flag_3338  flag_3339  flag_3340  \n",
              "0        0.0        0.0        0.0        0.0        0.0        0.0        0.0  \n",
              "1        0.0        0.0        0.0        0.0        0.0        0.0        0.0  \n",
              "2        0.0        0.0        0.0        0.0        0.0        0.0        0.0  \n",
              "3        0.0        0.0        0.0        0.0        0.0        0.0        0.0  \n",
              "4        0.0        0.0        0.0        0.0        0.0        0.0        0.0  \n",
              "\n",
              "[5 rows x 3422 columns]"
            ]
          },
          "execution_count": 114,
          "metadata": {},
          "output_type": "execute_result"
        }
      ],
      "source": [
        "from sklearn.preprocessing import OneHotEncoder\n",
        "\n",
        "# Fit on training set only\n",
        "enc = OneHotEncoder(categories='auto', handle_unknown='ignore')\n",
        "df_categorical_values_encenc = enc.fit_transform(df_categorical_values_enc)\n",
        "\n",
        "# Convert to DataFrame\n",
        "df_cat_data = pd.DataFrame(df_categorical_values_encenc.toarray(), columns=enc.get_feature_names_out())\n",
        "\n",
        "# Transform the test set using the same encoder\n",
        "testdf_categorical_values_encenc = enc.transform(testdf_categorical_values_enc)\n",
        "testdf_cat_data = pd.DataFrame(testdf_categorical_values_encenc.toarray(), columns=enc.get_feature_names_out())\n",
        "\n",
        "df_cat_data.head()\n"
      ]
    },
    {
      "cell_type": "code",
      "execution_count": null,
      "metadata": {},
      "outputs": [],
      "source": []
    },
    {
      "cell_type": "markdown",
      "metadata": {
        "colab_type": "text",
        "id": "7D-ZvKY6bS-r"
      },
      "source": [
        "**Test setteki eksik sütunlar eklenir**"
      ]
    },
    {
      "cell_type": "code",
      "execution_count": 115,
      "metadata": {
        "colab": {
          "base_uri": "https://localhost:8080/",
          "height": 119
        },
        "colab_type": "code",
        "id": "HxTdPirkbW-V",
        "outputId": "fb55b332-5cfb-4bb6-e1f1-11fceb0029fd"
      },
      "outputs": [
        {
          "data": {
            "text/plain": [
              "[]"
            ]
          },
          "execution_count": 115,
          "metadata": {},
          "output_type": "execute_result"
        }
      ],
      "source": [
        "trainservice=df['service'].tolist()\n",
        "testservice= df_test['service'].tolist()\n",
        "difference=list(set(trainservice) - set(testservice))\n",
        "string = 'service_'\n",
        "difference=[string + x for x in difference]\n",
        "difference"
      ]
    },
    {
      "cell_type": "code",
      "execution_count": 116,
      "metadata": {
        "colab": {
          "base_uri": "https://localhost:8080/",
          "height": 51
        },
        "colab_type": "code",
        "id": "tpBVYECtcN02",
        "outputId": "f39dc7be-61a3-4987-cbae-db11747227ab"
      },
      "outputs": [
        {
          "name": "stdout",
          "output_type": "stream",
          "text": [
            "(125973, 3422)\n",
            "(22544, 3422)\n"
          ]
        }
      ],
      "source": [
        "for col in difference:\n",
        "    testdf_cat_data[col] = 0\n",
        "\n",
        "print(df_cat_data.shape)    \n",
        "print(testdf_cat_data.shape)"
      ]
    },
    {
      "cell_type": "markdown",
      "metadata": {
        "colab_type": "text",
        "id": "4Vsl_YcrcSd8"
      },
      "source": [
        "**Ana dataframe'e yeni sayısal sütunlar eklenir**"
      ]
    },
    {
      "cell_type": "code",
      "execution_count": 117,
      "metadata": {
        "colab": {
          "base_uri": "https://localhost:8080/",
          "height": 51
        },
        "colab_type": "code",
        "id": "KOXgIdAZcVAF",
        "outputId": "daa03d97-1f70-435d-91d7-18af484becbf"
      },
      "outputs": [
        {
          "name": "stdout",
          "output_type": "stream",
          "text": [
            "(125973, 3461)\n",
            "(22544, 3461)\n"
          ]
        }
      ],
      "source": [
        "newdf=df.join(df_cat_data)\n",
        "newdf.drop('flag', axis=1, inplace=True)\n",
        "newdf.drop('protocol_type', axis=1, inplace=True)\n",
        "newdf.drop('service', axis=1, inplace=True)\n",
        "\n",
        "# test data\n",
        "newdf_test=df_test.join(testdf_cat_data)\n",
        "newdf_test.drop('flag', axis=1, inplace=True)\n",
        "newdf_test.drop('protocol_type', axis=1, inplace=True)\n",
        "newdf_test.drop('service', axis=1, inplace=True)\n",
        "\n",
        "print(newdf.shape)\n",
        "print(newdf_test.shape)"
      ]
    },
    {
      "cell_type": "markdown",
      "metadata": {
        "colab_type": "text",
        "id": "dZsTN_Xoca_b"
      },
      "source": [
        " Dataset her atak kategorisi için ayrı datasetlere ayrıldı. Atak etiketleri her biri için yeniden adlandırıldı. 0=Normal, 1=DoS, 2=Probe, 3=R2L, 4=U2R. Yeni datasetlerde etiket sütunu yeni değerler ile değiştirildi.\n",
        " \n",
        " DoS : \n",
        " \n",
        " Probe : \n",
        " \n",
        " R2L :\n",
        " \n",
        " U2R :"
      ]
    },
    {
      "cell_type": "code",
      "execution_count": 118,
      "metadata": {
        "colab": {},
        "colab_type": "code",
        "id": "706-Qqhycc_-"
      },
      "outputs": [],
      "source": [
        "labeldf=newdf['label']\n",
        "labeldf_test=newdf_test['label']\n",
        "\n",
        "\n",
        "# change the label column\n",
        "newlabeldf=labeldf.replace({ 'normal' : 0, 'neptune' : 1 ,'back': 1, 'land': 1, 'pod': 1, 'smurf': 1, 'teardrop': 1,'mailbomb': 1, 'apache2': 1, 'processtable': 1, 'udpstorm': 1, 'worm': 1,\n",
        "                           'ipsweep' : 2,'nmap' : 2,'portsweep' : 2,'satan' : 2,'mscan' : 2,'saint' : 2\n",
        "                           ,'ftp_write': 3,'guess_passwd': 3,'imap': 3,'multihop': 3,'phf': 3,'spy': 3,'warezclient': 3,'warezmaster': 3,'sendmail': 3,'named': 3,'snmpgetattack': 3,'snmpguess': 3,'xlock': 3,'xsnoop': 3,'httptunnel': 3,\n",
        "                           'buffer_overflow': 4,'loadmodule': 4,'perl': 4,'rootkit': 4,'ps': 4,'sqlattack': 4,'xterm': 4})\n",
        "newlabeldf_test=labeldf_test.replace({ 'normal' : 0, 'neptune' : 1 ,'back': 1, 'land': 1, 'pod': 1, 'smurf': 1, 'teardrop': 1,'mailbomb': 1, 'apache2': 1, 'processtable': 1, 'udpstorm': 1, 'worm': 1,\n",
        "                           'ipsweep' : 2,'nmap' : 2,'portsweep' : 2,'satan' : 2,'mscan' : 2,'saint' : 2\n",
        "                           ,'ftp_write': 3,'guess_passwd': 3,'imap': 3,'multihop': 3,'phf': 3,'spy': 3,'warezclient': 3,'warezmaster': 3,'sendmail': 3,'named': 3,'snmpgetattack': 3,'snmpguess': 3,'xlock': 3,'xsnoop': 3,'httptunnel': 3,\n",
        "                           'buffer_overflow': 4,'loadmodule': 4,'perl': 4,'rootkit': 4,'ps': 4,'sqlattack': 4,'xterm': 4})\n",
        "\n",
        "\n",
        "\n",
        "# put the new label column back\n",
        "newdf['label'] = newlabeldf\n",
        "newdf_test['label'] = newlabeldf_test"
      ]
    },
    {
      "cell_type": "code",
      "execution_count": 119,
      "metadata": {
        "colab": {
          "base_uri": "https://localhost:8080/",
          "height": 204
        },
        "colab_type": "code",
        "id": "Bu7S66qJcw56",
        "outputId": "ca5533bc-1d89-4169-b777-de8db54a1140"
      },
      "outputs": [
        {
          "name": "stdout",
          "output_type": "stream",
          "text": [
            "Train:\n",
            "Dimensions of DoS: (128, 3461)\n",
            "Dimensions of Probe: (120, 3461)\n",
            "Dimensions of R2L: (131, 3461)\n",
            "Dimensions of U2R: (145, 3461)\n",
            "\n",
            "Test:\n",
            "Dimensions of DoS: (210, 3461)\n",
            "Dimensions of Probe: (178, 3461)\n",
            "Dimensions of R2L: (239, 3461)\n",
            "Dimensions of U2R: (224, 3461)\n"
          ]
        }
      ],
      "source": [
        "to_drop_DoS = [0,1]\n",
        "to_drop_Probe = [0,2]\n",
        "to_drop_R2L = [0,3]\n",
        "to_drop_U2R = [0,4]\n",
        "\n",
        "# Kendisi dışındaki label değerine sahip tüm satırları filtrele\n",
        "# isin filter function\n",
        "\n",
        "DoS_df=newdf[newdf['label'].isin(to_drop_DoS)];\n",
        "Probe_df=newdf[newdf['label'].isin(to_drop_Probe)];\n",
        "R2L_df=newdf[newdf['label'].isin(to_drop_R2L)];\n",
        "U2R_df=newdf[newdf['label'].isin(to_drop_U2R)];\n",
        "\n",
        "\n",
        "\n",
        "#test\n",
        "DoS_df_test=newdf_test[newdf_test['label'].isin(to_drop_DoS)];\n",
        "Probe_df_test=newdf_test[newdf_test['label'].isin(to_drop_Probe)];\n",
        "R2L_df_test=newdf_test[newdf_test['label'].isin(to_drop_R2L)];\n",
        "U2R_df_test=newdf_test[newdf_test['label'].isin(to_drop_U2R)];\n",
        "\n",
        "\n",
        "print('Train:')\n",
        "print('Dimensions of DoS:' ,DoS_df.shape)\n",
        "print('Dimensions of Probe:' ,Probe_df.shape)\n",
        "print('Dimensions of R2L:' ,R2L_df.shape)\n",
        "print('Dimensions of U2R:' ,U2R_df.shape)\n",
        "print()\n",
        "print('Test:')\n",
        "print('Dimensions of DoS:' ,DoS_df_test.shape)\n",
        "print('Dimensions of Probe:' ,Probe_df_test.shape)\n",
        "print('Dimensions of R2L:' ,R2L_df_test.shape)\n",
        "print('Dimensions of U2R:' ,U2R_df_test.shape)"
      ]
    },
    {
      "cell_type": "markdown",
      "metadata": {
        "colab_type": "text",
        "id": "Dvi-Oglzc5Bs"
      },
      "source": [
        "**Step 2: Feature Scaling**"
      ]
    },
    {
      "cell_type": "code",
      "execution_count": 120,
      "metadata": {
        "colab": {},
        "colab_type": "code",
        "id": "-VeQhD09c6qT"
      },
      "outputs": [],
      "source": [
        "# Split dataframes into X & Y\n",
        "# X: Features, Y: Target variable\n",
        "\n",
        "X_DoS = DoS_df.drop('label', axis=1)\n",
        "Y_DoS = DoS_df['label']\n",
        "\n",
        "X_Probe = Probe_df.drop('label', axis=1)\n",
        "Y_Probe = Probe_df['label']\n",
        "\n",
        "X_R2L = R2L_df.drop('label', axis=1)\n",
        "Y_R2L = R2L_df['label']\n",
        "\n",
        "X_U2R = U2R_df.drop('label', axis=1)\n",
        "Y_U2R = U2R_df['label']\n",
        "\n",
        "# Test set\n",
        "X_DoS_test = DoS_df_test.drop('label', axis=1)\n",
        "Y_DoS_test = DoS_df_test['label']\n",
        "\n",
        "X_Probe_test = Probe_df_test.drop('label', axis=1)\n",
        "Y_Probe_test = Probe_df_test['label']\n",
        "\n",
        "X_R2L_test = R2L_df_test.drop('label', axis=1)\n",
        "Y_R2L_test = R2L_df_test['label']\n",
        "\n",
        "X_U2R_test = U2R_df_test.drop('label', axis=1)\n",
        "Y_U2R_test = U2R_df_test['label']\n"
      ]
    },
    {
      "cell_type": "code",
      "execution_count": null,
      "metadata": {},
      "outputs": [],
      "source": []
    },
    {
      "cell_type": "markdown",
      "metadata": {
        "colab_type": "text",
        "id": "yl7gee3KdAb5"
      },
      "source": [
        "**Sütun isimleri bu aşamada silineceği için daha sonra kullanmak üzere sütun isimlerini kayıt ederiz.**"
      ]
    },
    {
      "cell_type": "code",
      "execution_count": 121,
      "metadata": {},
      "outputs": [
        {
          "data": {
            "text/html": [
              "<div>\n",
              "<style scoped>\n",
              "    .dataframe tbody tr th:only-of-type {\n",
              "        vertical-align: middle;\n",
              "    }\n",
              "\n",
              "    .dataframe tbody tr th {\n",
              "        vertical-align: top;\n",
              "    }\n",
              "\n",
              "    .dataframe thead th {\n",
              "        text-align: right;\n",
              "    }\n",
              "</style>\n",
              "<table border=\"1\" class=\"dataframe\">\n",
              "  <thead>\n",
              "    <tr style=\"text-align: right;\">\n",
              "      <th></th>\n",
              "      <th>duration</th>\n",
              "      <th>src_bytes</th>\n",
              "      <th>dst_bytes</th>\n",
              "      <th>land</th>\n",
              "      <th>wrong_fragment</th>\n",
              "      <th>urgent</th>\n",
              "      <th>hot</th>\n",
              "      <th>num_failed_logins</th>\n",
              "      <th>logged_in</th>\n",
              "      <th>num_compromised</th>\n",
              "      <th>...</th>\n",
              "      <th>flag_3331</th>\n",
              "      <th>flag_3332</th>\n",
              "      <th>flag_3333</th>\n",
              "      <th>flag_3334</th>\n",
              "      <th>flag_3335</th>\n",
              "      <th>flag_3336</th>\n",
              "      <th>flag_3337</th>\n",
              "      <th>flag_3338</th>\n",
              "      <th>flag_3339</th>\n",
              "      <th>flag_3340</th>\n",
              "    </tr>\n",
              "  </thead>\n",
              "  <tbody>\n",
              "    <tr>\n",
              "      <th>0</th>\n",
              "      <td>tcp</td>\n",
              "      <td>0</td>\n",
              "      <td>0</td>\n",
              "      <td>0</td>\n",
              "      <td>0</td>\n",
              "      <td>0</td>\n",
              "      <td>0</td>\n",
              "      <td>0</td>\n",
              "      <td>0</td>\n",
              "      <td>0</td>\n",
              "      <td>...</td>\n",
              "      <td>0.0</td>\n",
              "      <td>0.0</td>\n",
              "      <td>0.0</td>\n",
              "      <td>0.0</td>\n",
              "      <td>0.0</td>\n",
              "      <td>0.0</td>\n",
              "      <td>0.0</td>\n",
              "      <td>0.0</td>\n",
              "      <td>0.0</td>\n",
              "      <td>0.0</td>\n",
              "    </tr>\n",
              "    <tr>\n",
              "      <th>718</th>\n",
              "      <td>tcp</td>\n",
              "      <td>25260</td>\n",
              "      <td>0</td>\n",
              "      <td>0</td>\n",
              "      <td>0</td>\n",
              "      <td>15</td>\n",
              "      <td>0</td>\n",
              "      <td>1</td>\n",
              "      <td>38</td>\n",
              "      <td>1</td>\n",
              "      <td>...</td>\n",
              "      <td>0.0</td>\n",
              "      <td>0.0</td>\n",
              "      <td>0.0</td>\n",
              "      <td>0.0</td>\n",
              "      <td>0.0</td>\n",
              "      <td>0.0</td>\n",
              "      <td>0.0</td>\n",
              "      <td>0.0</td>\n",
              "      <td>0.0</td>\n",
              "      <td>0.0</td>\n",
              "    </tr>\n",
              "    <tr>\n",
              "      <th>98</th>\n",
              "      <td>tcp</td>\n",
              "      <td>8356</td>\n",
              "      <td>0</td>\n",
              "      <td>0</td>\n",
              "      <td>1</td>\n",
              "      <td>1</td>\n",
              "      <td>0</td>\n",
              "      <td>1</td>\n",
              "      <td>5</td>\n",
              "      <td>1</td>\n",
              "      <td>...</td>\n",
              "      <td>0.0</td>\n",
              "      <td>0.0</td>\n",
              "      <td>0.0</td>\n",
              "      <td>0.0</td>\n",
              "      <td>0.0</td>\n",
              "      <td>0.0</td>\n",
              "      <td>0.0</td>\n",
              "      <td>0.0</td>\n",
              "      <td>0.0</td>\n",
              "      <td>0.0</td>\n",
              "    </tr>\n",
              "    <tr>\n",
              "      <th>1</th>\n",
              "      <td>tcp</td>\n",
              "      <td>375</td>\n",
              "      <td>0</td>\n",
              "      <td>0</td>\n",
              "      <td>0</td>\n",
              "      <td>0</td>\n",
              "      <td>0</td>\n",
              "      <td>1</td>\n",
              "      <td>0</td>\n",
              "      <td>0</td>\n",
              "      <td>...</td>\n",
              "      <td>0.0</td>\n",
              "      <td>0.0</td>\n",
              "      <td>0.0</td>\n",
              "      <td>0.0</td>\n",
              "      <td>0.0</td>\n",
              "      <td>0.0</td>\n",
              "      <td>0.0</td>\n",
              "      <td>0.0</td>\n",
              "      <td>0.0</td>\n",
              "      <td>0.0</td>\n",
              "    </tr>\n",
              "    <tr>\n",
              "      <th>6</th>\n",
              "      <td>tcp</td>\n",
              "      <td>0</td>\n",
              "      <td>0</td>\n",
              "      <td>0</td>\n",
              "      <td>0</td>\n",
              "      <td>0</td>\n",
              "      <td>0</td>\n",
              "      <td>0</td>\n",
              "      <td>0</td>\n",
              "      <td>0</td>\n",
              "      <td>...</td>\n",
              "      <td>0.0</td>\n",
              "      <td>0.0</td>\n",
              "      <td>0.0</td>\n",
              "      <td>0.0</td>\n",
              "      <td>0.0</td>\n",
              "      <td>0.0</td>\n",
              "      <td>0.0</td>\n",
              "      <td>0.0</td>\n",
              "      <td>0.0</td>\n",
              "      <td>0.0</td>\n",
              "    </tr>\n",
              "  </tbody>\n",
              "</table>\n",
              "<p>5 rows × 3460 columns</p>\n",
              "</div>"
            ],
            "text/plain": [
              "    duration  src_bytes  dst_bytes  land  wrong_fragment  urgent  hot  \\\n",
              "0        tcp          0          0     0               0       0    0   \n",
              "718      tcp      25260          0     0               0      15    0   \n",
              "98       tcp       8356          0     0               1       1    0   \n",
              "1        tcp        375          0     0               0       0    0   \n",
              "6        tcp          0          0     0               0       0    0   \n",
              "\n",
              "     num_failed_logins  logged_in  num_compromised  ...  flag_3331  flag_3332  \\\n",
              "0                    0          0                0  ...        0.0        0.0   \n",
              "718                  1         38                1  ...        0.0        0.0   \n",
              "98                   1          5                1  ...        0.0        0.0   \n",
              "1                    1          0                0  ...        0.0        0.0   \n",
              "6                    0          0                0  ...        0.0        0.0   \n",
              "\n",
              "     flag_3333  flag_3334  flag_3335  flag_3336  flag_3337  flag_3338  \\\n",
              "0          0.0        0.0        0.0        0.0        0.0        0.0   \n",
              "718        0.0        0.0        0.0        0.0        0.0        0.0   \n",
              "98         0.0        0.0        0.0        0.0        0.0        0.0   \n",
              "1          0.0        0.0        0.0        0.0        0.0        0.0   \n",
              "6          0.0        0.0        0.0        0.0        0.0        0.0   \n",
              "\n",
              "     flag_3339  flag_3340  \n",
              "0          0.0        0.0  \n",
              "718        0.0        0.0  \n",
              "98         0.0        0.0  \n",
              "1          0.0        0.0  \n",
              "6          0.0        0.0  \n",
              "\n",
              "[5 rows x 3460 columns]"
            ]
          },
          "execution_count": 121,
          "metadata": {},
          "output_type": "execute_result"
        }
      ],
      "source": [
        "X_DoS.head()"
      ]
    },
    {
      "cell_type": "code",
      "execution_count": 122,
      "metadata": {
        "colab": {},
        "colab_type": "code",
        "id": "2nWS5oukdFS6"
      },
      "outputs": [],
      "source": [
        "colNames=list(X_DoS)\n",
        "colNames_test=list(X_DoS_test)"
      ]
    },
    {
      "cell_type": "code",
      "execution_count": 127,
      "metadata": {},
      "outputs": [
        {
          "name": "stdout",
          "output_type": "stream",
          "text": [
            "Checking X_DoS column types:\n",
            "Column duration has object type\n",
            "Column dst_host_srv_rerror_rate has object type\n"
          ]
        },
        {
          "ename": "ValueError",
          "evalue": "y contains previously unseen labels: 'ps'",
          "output_type": "error",
          "traceback": [
            "\u001b[31m---------------------------------------------------------------------------\u001b[39m",
            "\u001b[31mKeyError\u001b[39m                                  Traceback (most recent call last)",
            "\u001b[36mFile \u001b[39m\u001b[32mc:\\Users\\Swaraj\\OneDrive\\Desktop\\NSL-KDD\\tf-env\\Lib\\site-packages\\sklearn\\utils\\_encode.py:235\u001b[39m, in \u001b[36m_encode\u001b[39m\u001b[34m(values, uniques, check_unknown)\u001b[39m\n\u001b[32m    234\u001b[39m \u001b[38;5;28;01mtry\u001b[39;00m:\n\u001b[32m--> \u001b[39m\u001b[32m235\u001b[39m     \u001b[38;5;28;01mreturn\u001b[39;00m \u001b[43m_map_to_integer\u001b[49m\u001b[43m(\u001b[49m\u001b[43mvalues\u001b[49m\u001b[43m,\u001b[49m\u001b[43m \u001b[49m\u001b[43muniques\u001b[49m\u001b[43m)\u001b[49m\n\u001b[32m    236\u001b[39m \u001b[38;5;28;01mexcept\u001b[39;00m \u001b[38;5;167;01mKeyError\u001b[39;00m \u001b[38;5;28;01mas\u001b[39;00m e:\n",
            "\u001b[36mFile \u001b[39m\u001b[32mc:\\Users\\Swaraj\\OneDrive\\Desktop\\NSL-KDD\\tf-env\\Lib\\site-packages\\sklearn\\utils\\_encode.py:174\u001b[39m, in \u001b[36m_map_to_integer\u001b[39m\u001b[34m(values, uniques)\u001b[39m\n\u001b[32m    173\u001b[39m table = _nandict({val: i \u001b[38;5;28;01mfor\u001b[39;00m i, val \u001b[38;5;129;01min\u001b[39;00m \u001b[38;5;28menumerate\u001b[39m(uniques)})\n\u001b[32m--> \u001b[39m\u001b[32m174\u001b[39m \u001b[38;5;28;01mreturn\u001b[39;00m xp.asarray(\u001b[43m[\u001b[49m\u001b[43mtable\u001b[49m\u001b[43m[\u001b[49m\u001b[43mv\u001b[49m\u001b[43m]\u001b[49m\u001b[43m \u001b[49m\u001b[38;5;28;43;01mfor\u001b[39;49;00m\u001b[43m \u001b[49m\u001b[43mv\u001b[49m\u001b[43m \u001b[49m\u001b[38;5;129;43;01min\u001b[39;49;00m\u001b[43m \u001b[49m\u001b[43mvalues\u001b[49m\u001b[43m]\u001b[49m, device=device(values))\n",
            "\u001b[36mFile \u001b[39m\u001b[32mc:\\Users\\Swaraj\\OneDrive\\Desktop\\NSL-KDD\\tf-env\\Lib\\site-packages\\sklearn\\utils\\_encode.py:174\u001b[39m, in \u001b[36m<listcomp>\u001b[39m\u001b[34m(.0)\u001b[39m\n\u001b[32m    173\u001b[39m table = _nandict({val: i \u001b[38;5;28;01mfor\u001b[39;00m i, val \u001b[38;5;129;01min\u001b[39;00m \u001b[38;5;28menumerate\u001b[39m(uniques)})\n\u001b[32m--> \u001b[39m\u001b[32m174\u001b[39m \u001b[38;5;28;01mreturn\u001b[39;00m xp.asarray([\u001b[43mtable\u001b[49m\u001b[43m[\u001b[49m\u001b[43mv\u001b[49m\u001b[43m]\u001b[49m \u001b[38;5;28;01mfor\u001b[39;00m v \u001b[38;5;129;01min\u001b[39;00m values], device=device(values))\n",
            "\u001b[36mFile \u001b[39m\u001b[32mc:\\Users\\Swaraj\\OneDrive\\Desktop\\NSL-KDD\\tf-env\\Lib\\site-packages\\sklearn\\utils\\_encode.py:167\u001b[39m, in \u001b[36m_nandict.__missing__\u001b[39m\u001b[34m(self, key)\u001b[39m\n\u001b[32m    166\u001b[39m     \u001b[38;5;28;01mreturn\u001b[39;00m \u001b[38;5;28mself\u001b[39m.nan_value\n\u001b[32m--> \u001b[39m\u001b[32m167\u001b[39m \u001b[38;5;28;01mraise\u001b[39;00m \u001b[38;5;167;01mKeyError\u001b[39;00m(key)\n",
            "\u001b[31mKeyError\u001b[39m: 'ps'",
            "\nDuring handling of the above exception, another exception occurred:\n",
            "\u001b[31mValueError\u001b[39m                                Traceback (most recent call last)",
            "\u001b[36mCell\u001b[39m\u001b[36m \u001b[39m\u001b[32mIn[127]\u001b[39m\u001b[32m, line 17\u001b[39m\n\u001b[32m     14\u001b[39m X_U2R[col] = le.fit_transform(X_U2R[col])\n\u001b[32m     16\u001b[39m \u001b[38;5;66;03m# For test data, use transform only (not fit_transform)\u001b[39;00m\n\u001b[32m---> \u001b[39m\u001b[32m17\u001b[39m X_DoS_test[col] = \u001b[43mle\u001b[49m\u001b[43m.\u001b[49m\u001b[43mtransform\u001b[49m\u001b[43m(\u001b[49m\u001b[43mX_DoS_test\u001b[49m\u001b[43m[\u001b[49m\u001b[43mcol\u001b[49m\u001b[43m]\u001b[49m\u001b[43m)\u001b[49m\n\u001b[32m     18\u001b[39m X_Probe_test[col] = le.transform(X_Probe_test[col])\n\u001b[32m     19\u001b[39m X_R2L_test[col] = le.transform(X_R2L_test[col])\n",
            "\u001b[36mFile \u001b[39m\u001b[32mc:\\Users\\Swaraj\\OneDrive\\Desktop\\NSL-KDD\\tf-env\\Lib\\site-packages\\sklearn\\preprocessing\\_label.py:134\u001b[39m, in \u001b[36mLabelEncoder.transform\u001b[39m\u001b[34m(self, y)\u001b[39m\n\u001b[32m    131\u001b[39m \u001b[38;5;28;01mif\u001b[39;00m _num_samples(y) == \u001b[32m0\u001b[39m:\n\u001b[32m    132\u001b[39m     \u001b[38;5;28;01mreturn\u001b[39;00m xp.asarray([])\n\u001b[32m--> \u001b[39m\u001b[32m134\u001b[39m \u001b[38;5;28;01mreturn\u001b[39;00m \u001b[43m_encode\u001b[49m\u001b[43m(\u001b[49m\u001b[43my\u001b[49m\u001b[43m,\u001b[49m\u001b[43m \u001b[49m\u001b[43muniques\u001b[49m\u001b[43m=\u001b[49m\u001b[38;5;28;43mself\u001b[39;49m\u001b[43m.\u001b[49m\u001b[43mclasses_\u001b[49m\u001b[43m)\u001b[49m\n",
            "\u001b[36mFile \u001b[39m\u001b[32mc:\\Users\\Swaraj\\OneDrive\\Desktop\\NSL-KDD\\tf-env\\Lib\\site-packages\\sklearn\\utils\\_encode.py:237\u001b[39m, in \u001b[36m_encode\u001b[39m\u001b[34m(values, uniques, check_unknown)\u001b[39m\n\u001b[32m    235\u001b[39m         \u001b[38;5;28;01mreturn\u001b[39;00m _map_to_integer(values, uniques)\n\u001b[32m    236\u001b[39m     \u001b[38;5;28;01mexcept\u001b[39;00m \u001b[38;5;167;01mKeyError\u001b[39;00m \u001b[38;5;28;01mas\u001b[39;00m e:\n\u001b[32m--> \u001b[39m\u001b[32m237\u001b[39m         \u001b[38;5;28;01mraise\u001b[39;00m \u001b[38;5;167;01mValueError\u001b[39;00m(\u001b[33mf\u001b[39m\u001b[33m\"\u001b[39m\u001b[33my contains previously unseen labels: \u001b[39m\u001b[38;5;132;01m{\u001b[39;00m\u001b[38;5;28mstr\u001b[39m(e)\u001b[38;5;132;01m}\u001b[39;00m\u001b[33m\"\u001b[39m)\n\u001b[32m    238\u001b[39m \u001b[38;5;28;01melse\u001b[39;00m:\n\u001b[32m    239\u001b[39m     \u001b[38;5;28;01mif\u001b[39;00m check_unknown:\n",
            "\u001b[31mValueError\u001b[39m: y contains previously unseen labels: 'ps'"
          ]
        }
      ],
      "source": [
        "# First, let's check for any columns with string/object data types\n",
        "print(\"Checking X_DoS column types:\")\n",
        "for col in X_DoS.columns:\n",
        "    if X_DoS[col].dtype == 'object':\n",
        "        print(f\"Column {col} has object type\")\n",
        "\n",
        "# Handle any remaining categorical columns explicitly\n",
        "for col in X_DoS.columns:\n",
        "    if X_DoS[col].dtype == 'object':\n",
        "        le = preprocessing.LabelEncoder()\n",
        "        X_DoS[col] = le.fit_transform(X_DoS[col])\n",
        "        X_Probe[col] = le.fit_transform(X_Probe[col]) \n",
        "        X_R2L[col] = le.fit_transform(X_R2L[col])\n",
        "        X_U2R[col] = le.fit_transform(X_U2R[col])\n",
        "        \n",
        "        # For test data, use transform only (not fit_transform)\n",
        "        X_DoS_test[col] = le.transform(X_DoS_test[col])\n",
        "        X_Probe_test[col] = le.transform(X_Probe_test[col])\n",
        "        X_R2L_test[col] = le.transform(X_R2L_test[col])\n",
        "        X_U2R_test[col] = le.transform(X_U2R_test[col])\n",
        "\n",
        "# Now apply StandardScaler to numerical data\n",
        "scaler1 = preprocessing.StandardScaler().fit(X_DoS)\n",
        "X_DoS_scaled = scaler1.transform(X_DoS)\n",
        "\n",
        "scaler2 = preprocessing.StandardScaler().fit(X_Probe)\n",
        "X_Probe_scaled = scaler2.transform(X_Probe)\n",
        "\n",
        "scaler3 = preprocessing.StandardScaler().fit(X_R2L)\n",
        "X_R2L_scaled = scaler3.transform(X_R2L)\n",
        "\n",
        "scaler4 = preprocessing.StandardScaler().fit(X_U2R)\n",
        "X_U2R_scaled = scaler4.transform(X_U2R)\n",
        "\n",
        "# Test data\n",
        "X_DoS_test_scaled = scaler1.transform(X_DoS_test)\n",
        "X_Probe_test_scaled = scaler2.transform(X_Probe_test)\n",
        "X_R2L_test_scaled = scaler3.transform(X_R2L_test)\n",
        "X_U2R_test_scaled = scaler4.transform(X_U2R_test)\n",
        "\n",
        "# Store the scaled data back in the original variables\n",
        "X_DoS = X_DoS_scaled\n",
        "X_Probe = X_Probe_scaled\n",
        "X_R2L = X_R2L_scaled\n",
        "X_U2R = X_U2R_scaled\n",
        "\n",
        "X_DoS_test = X_DoS_test_scaled\n",
        "X_Probe_test = X_Probe_test_scaled\n",
        "X_R2L_test = X_R2L_test_scaled\n",
        "X_U2R_test = X_U2R_test_scaled"
      ]
    },
    {
      "cell_type": "code",
      "execution_count": null,
      "metadata": {},
      "outputs": [],
      "source": []
    },
    {
      "cell_type": "code",
      "execution_count": 126,
      "metadata": {
        "colab": {},
        "colab_type": "code",
        "id": "FEBafDjodRcT"
      },
      "outputs": [
        {
          "ename": "ValueError",
          "evalue": "could not convert string to float: 'tcp'",
          "output_type": "error",
          "traceback": [
            "\u001b[31m---------------------------------------------------------------------------\u001b[39m",
            "\u001b[31mValueError\u001b[39m                                Traceback (most recent call last)",
            "\u001b[32m~\\AppData\\Local\\Temp\\ipykernel_28972\\2983961146.py\u001b[39m in \u001b[36m?\u001b[39m\u001b[34m()\u001b[39m\n\u001b[32m     20\u001b[39m X_Probe_test = pd.DataFrame(X_Probe_test, columns=colNames_test)\n\u001b[32m     21\u001b[39m X_R2L_test = pd.DataFrame(X_R2L_test, columns=colNames_test)\n\u001b[32m     22\u001b[39m X_U2R_test = pd.DataFrame(X_U2R_test, columns=colNames_test)\n\u001b[32m     23\u001b[39m \n\u001b[32m---> \u001b[39m\u001b[32m24\u001b[39m scaler1 = preprocessing.StandardScaler().fit(X_DoS)\n\u001b[32m     25\u001b[39m X_DoS = scaler1.transform(X_DoS)\n\u001b[32m     26\u001b[39m \n\u001b[32m     27\u001b[39m scaler2 = preprocessing.StandardScaler().fit(X_Probe)\n",
            "\u001b[32mc:\\Users\\Swaraj\\OneDrive\\Desktop\\NSL-KDD\\tf-env\\Lib\\site-packages\\sklearn\\preprocessing\\_data.py\u001b[39m in \u001b[36m?\u001b[39m\u001b[34m(self, X, y, sample_weight)\u001b[39m\n\u001b[32m    890\u001b[39m             Fitted scaler.\n\u001b[32m    891\u001b[39m         \"\"\"\n\u001b[32m    892\u001b[39m         \u001b[38;5;66;03m# Reset internal state before fitting\u001b[39;00m\n\u001b[32m    893\u001b[39m         self._reset()\n\u001b[32m--> \u001b[39m\u001b[32m894\u001b[39m         \u001b[38;5;28;01mreturn\u001b[39;00m self.partial_fit(X, y, sample_weight)\n",
            "\u001b[32mc:\\Users\\Swaraj\\OneDrive\\Desktop\\NSL-KDD\\tf-env\\Lib\\site-packages\\sklearn\\base.py\u001b[39m in \u001b[36m?\u001b[39m\u001b[34m(estimator, *args, **kwargs)\u001b[39m\n\u001b[32m   1385\u001b[39m                 skip_parameter_validation=(\n\u001b[32m   1386\u001b[39m                     prefer_skip_nested_validation \u001b[38;5;28;01mor\u001b[39;00m global_skip_validation\n\u001b[32m   1387\u001b[39m                 )\n\u001b[32m   1388\u001b[39m             ):\n\u001b[32m-> \u001b[39m\u001b[32m1389\u001b[39m                 \u001b[38;5;28;01mreturn\u001b[39;00m fit_method(estimator, *args, **kwargs)\n",
            "\u001b[32mc:\\Users\\Swaraj\\OneDrive\\Desktop\\NSL-KDD\\tf-env\\Lib\\site-packages\\sklearn\\preprocessing\\_data.py\u001b[39m in \u001b[36m?\u001b[39m\u001b[34m(self, X, y, sample_weight)\u001b[39m\n\u001b[32m    926\u001b[39m         self : object\n\u001b[32m    927\u001b[39m             Fitted scaler.\n\u001b[32m    928\u001b[39m         \"\"\"\n\u001b[32m    929\u001b[39m         first_call = \u001b[38;5;28;01mnot\u001b[39;00m hasattr(self, \u001b[33m\"n_samples_seen_\"\u001b[39m)\n\u001b[32m--> \u001b[39m\u001b[32m930\u001b[39m         X = validate_data(\n\u001b[32m    931\u001b[39m             self,\n\u001b[32m    932\u001b[39m             X,\n\u001b[32m    933\u001b[39m             accept_sparse=(\u001b[33m\"csr\"\u001b[39m, \u001b[33m\"csc\"\u001b[39m),\n",
            "\u001b[32mc:\\Users\\Swaraj\\OneDrive\\Desktop\\NSL-KDD\\tf-env\\Lib\\site-packages\\sklearn\\utils\\validation.py\u001b[39m in \u001b[36m?\u001b[39m\u001b[34m(_estimator, X, y, reset, validate_separately, skip_check_array, **check_params)\u001b[39m\n\u001b[32m   2940\u001b[39m             out = y\n\u001b[32m   2941\u001b[39m         \u001b[38;5;28;01melse\u001b[39;00m:\n\u001b[32m   2942\u001b[39m             out = X, y\n\u001b[32m   2943\u001b[39m     \u001b[38;5;28;01melif\u001b[39;00m \u001b[38;5;28;01mnot\u001b[39;00m no_val_X \u001b[38;5;28;01mand\u001b[39;00m no_val_y:\n\u001b[32m-> \u001b[39m\u001b[32m2944\u001b[39m         out = check_array(X, input_name=\u001b[33m\"X\"\u001b[39m, **check_params)\n\u001b[32m   2945\u001b[39m     \u001b[38;5;28;01melif\u001b[39;00m no_val_X \u001b[38;5;28;01mand\u001b[39;00m \u001b[38;5;28;01mnot\u001b[39;00m no_val_y:\n\u001b[32m   2946\u001b[39m         out = _check_y(y, **check_params)\n\u001b[32m   2947\u001b[39m     \u001b[38;5;28;01melse\u001b[39;00m:\n",
            "\u001b[32mc:\\Users\\Swaraj\\OneDrive\\Desktop\\NSL-KDD\\tf-env\\Lib\\site-packages\\sklearn\\utils\\validation.py\u001b[39m in \u001b[36m?\u001b[39m\u001b[34m(array, accept_sparse, accept_large_sparse, dtype, order, copy, force_writeable, force_all_finite, ensure_all_finite, ensure_non_negative, ensure_2d, allow_nd, ensure_min_samples, ensure_min_features, estimator, input_name)\u001b[39m\n\u001b[32m   1052\u001b[39m                         )\n\u001b[32m   1053\u001b[39m                     array = xp.astype(array, dtype, copy=\u001b[38;5;28;01mFalse\u001b[39;00m)\n\u001b[32m   1054\u001b[39m                 \u001b[38;5;28;01melse\u001b[39;00m:\n\u001b[32m   1055\u001b[39m                     array = _asarray_with_order(array, order=order, dtype=dtype, xp=xp)\n\u001b[32m-> \u001b[39m\u001b[32m1056\u001b[39m             \u001b[38;5;28;01mexcept\u001b[39;00m ComplexWarning \u001b[38;5;28;01mas\u001b[39;00m complex_warning:\n\u001b[32m   1057\u001b[39m                 raise ValueError(\n\u001b[32m   1058\u001b[39m                     \u001b[33m\"Complex data not supported\\n{}\\n\"\u001b[39m.format(array)\n\u001b[32m   1059\u001b[39m                 ) from complex_warning\n",
            "\u001b[32mc:\\Users\\Swaraj\\OneDrive\\Desktop\\NSL-KDD\\tf-env\\Lib\\site-packages\\sklearn\\utils\\_array_api.py\u001b[39m in \u001b[36m?\u001b[39m\u001b[34m(array, dtype, order, copy, xp, device)\u001b[39m\n\u001b[32m    835\u001b[39m         \u001b[38;5;66;03m# Use NumPy API to support order\u001b[39;00m\n\u001b[32m    836\u001b[39m         \u001b[38;5;28;01mif\u001b[39;00m copy \u001b[38;5;28;01mis\u001b[39;00m \u001b[38;5;28;01mTrue\u001b[39;00m:\n\u001b[32m    837\u001b[39m             array = numpy.array(array, order=order, dtype=dtype)\n\u001b[32m    838\u001b[39m         \u001b[38;5;28;01melse\u001b[39;00m:\n\u001b[32m--> \u001b[39m\u001b[32m839\u001b[39m             array = numpy.asarray(array, order=order, dtype=dtype)\n\u001b[32m    840\u001b[39m \n\u001b[32m    841\u001b[39m         \u001b[38;5;66;03m# At this point array is a NumPy ndarray. We convert it to an array\u001b[39;00m\n\u001b[32m    842\u001b[39m         \u001b[38;5;66;03m# container that is consistent with the input's namespace.\u001b[39;00m\n",
            "\u001b[32mc:\\Users\\Swaraj\\OneDrive\\Desktop\\NSL-KDD\\tf-env\\Lib\\site-packages\\pandas\\core\\generic.py\u001b[39m in \u001b[36m?\u001b[39m\u001b[34m(self, dtype, copy)\u001b[39m\n\u001b[32m   2149\u001b[39m     def __array__(\n\u001b[32m   2150\u001b[39m         self, dtype: npt.DTypeLike | \u001b[38;5;28;01mNone\u001b[39;00m = \u001b[38;5;28;01mNone\u001b[39;00m, copy: bool_t | \u001b[38;5;28;01mNone\u001b[39;00m = \u001b[38;5;28;01mNone\u001b[39;00m\n\u001b[32m   2151\u001b[39m     ) -> np.ndarray:\n\u001b[32m   2152\u001b[39m         values = self._values\n\u001b[32m-> \u001b[39m\u001b[32m2153\u001b[39m         arr = np.asarray(values, dtype=dtype)\n\u001b[32m   2154\u001b[39m         if (\n\u001b[32m   2155\u001b[39m             astype_is_view(values.dtype, arr.dtype)\n\u001b[32m   2156\u001b[39m             \u001b[38;5;28;01mand\u001b[39;00m using_copy_on_write()\n",
            "\u001b[31mValueError\u001b[39m: could not convert string to float: 'tcp'"
          ]
        }
      ],
      "source": [
        "# Convert categorical columns using Label Encoding\n",
        "# for col in categorical_cols:\n",
        "#     le = preprocessing.LabelEncoder()\n",
        "#     X_DoS[col] = le.fit_transform(X_DoS[col])\n",
        "#     X_Probe[col] = le.fit_transform(X_Probe[col])\n",
        "#     X_R2L[col] = le.fit_transform(X_R2L[col])\n",
        "#     X_U2R[col] = le.fit_transform(X_U2R[col])\n",
        "    \n",
        "#     X_DoS_test[col] = le.transform(X_DoS_test[col])\n",
        "#     X_Probe_test[col] = le.transform(X_Probe_test[col])\n",
        "#     X_R2L_test[col] = le.transform(X_R2L_test[col])\n",
        "#     X_U2R_test[col] = le.transform(X_U2R_test[col])\n",
        "\n",
        "X_DoS = pd.DataFrame(X_DoS, columns=colNames)\n",
        "X_Probe = pd.DataFrame(X_Probe, columns=colNames)\n",
        "X_R2L = pd.DataFrame(X_R2L, columns=colNames)\n",
        "X_U2R = pd.DataFrame(X_U2R, columns=colNames)\n",
        "\n",
        "X_DoS_test = pd.DataFrame(X_DoS_test, columns=colNames_test)\n",
        "X_Probe_test = pd.DataFrame(X_Probe_test, columns=colNames_test)\n",
        "X_R2L_test = pd.DataFrame(X_R2L_test, columns=colNames_test)\n",
        "X_U2R_test = pd.DataFrame(X_U2R_test, columns=colNames_test)\n",
        "\n",
        "scaler1 = preprocessing.StandardScaler().fit(X_DoS)\n",
        "X_DoS = scaler1.transform(X_DoS)\n",
        "\n",
        "scaler2 = preprocessing.StandardScaler().fit(X_Probe)\n",
        "X_Probe = scaler2.transform(X_Probe)\n",
        "\n",
        "scaler3 = preprocessing.StandardScaler().fit(X_R2L)\n",
        "X_R2L = scaler3.transform(X_R2L)\n",
        "\n",
        "scaler4 = preprocessing.StandardScaler().fit(X_U2R)\n",
        "X_U2R = scaler4.transform(X_U2R)\n",
        "\n",
        "# Test data scaling\n",
        "X_DoS_test = scaler1.transform(X_DoS_test)  # Use the same scaler fitted on training data\n",
        "X_Probe_test = scaler2.transform(X_Probe_test)\n",
        "X_R2L_test = scaler3.transform(X_R2L_test)\n",
        "X_U2R_test = scaler4.transform(X_U2R_test)"
      ]
    },
    {
      "cell_type": "code",
      "execution_count": null,
      "metadata": {},
      "outputs": [],
      "source": []
    },
    {
      "cell_type": "code",
      "execution_count": null,
      "metadata": {},
      "outputs": [],
      "source": []
    },
    {
      "cell_type": "code",
      "execution_count": null,
      "metadata": {},
      "outputs": [],
      "source": []
    },
    {
      "cell_type": "code",
      "execution_count": null,
      "metadata": {},
      "outputs": [],
      "source": []
    },
    {
      "cell_type": "code",
      "execution_count": null,
      "metadata": {},
      "outputs": [],
      "source": []
    },
    {
      "cell_type": "markdown",
      "metadata": {
        "colab_type": "text",
        "id": "pc2v2hb9dc8s"
      },
      "source": [
        "**Step 3: Feature Selection:**\n",
        "\n",
        "---"
      ]
    },
    {
      "cell_type": "markdown",
      "metadata": {
        "colab_type": "text",
        "id": "k04dKGOWepgB"
      },
      "source": [
        "**Recursive Feature Elimination (RFE) , en iyi 13 özellik (grup olarak)**"
      ]
    },
    {
      "cell_type": "markdown",
      "metadata": {
        "colab_type": "text",
        "id": "oR4xlXjlM2_M"
      },
      "source": [
        "# Random Forest"
      ]
    },
    {
      "cell_type": "code",
      "execution_count": 0,
      "metadata": {
        "colab": {},
        "colab_type": "code",
        "id": "paIjq2cci39w"
      },
      "outputs": [],
      "source": [
        "from sklearn.feature_selection import RFE\n",
        "from sklearn.ensemble import RandomForestClassifier\n",
        "\n",
        "\n",
        "clf = RandomForestClassifier(n_estimators=10,n_jobs=2)\n",
        "rfe = RFE(estimator=clf, n_features_to_select=13, step=1)\n",
        "\n",
        "rfe.fit(X_DoS, Y_DoS.astype(int))\n",
        "X_rfeDoS=rfe.transform(X_DoS)\n",
        "true=rfe.support_\n",
        "rfecolindex_DoS=[i for i, x in enumerate(true) if x]\n",
        "rfecolname_DoS=list(colNames[i] for i in rfecolindex_DoS)"
      ]
    },
    {
      "cell_type": "code",
      "execution_count": 0,
      "metadata": {
        "colab": {},
        "colab_type": "code",
        "id": "WLTTTvNIjcSc"
      },
      "outputs": [],
      "source": [
        "rfe.fit(X_Probe, Y_Probe.astype(int))\n",
        "X_rfeProbe=rfe.transform(X_Probe)\n",
        "true=rfe.support_\n",
        "rfecolindex_Probe=[i for i, x in enumerate(true) if x]\n",
        "rfecolname_Probe=list(colNames[i] for i in rfecolindex_Probe)\n"
      ]
    },
    {
      "cell_type": "code",
      "execution_count": 0,
      "metadata": {
        "colab": {},
        "colab_type": "code",
        "id": "EdT_PCLPkHiu"
      },
      "outputs": [],
      "source": [
        "rfe.fit(X_R2L, Y_R2L.astype(int))\n",
        "X_rfeR2L=rfe.transform(X_R2L)\n",
        "true=rfe.support_\n",
        "rfecolindex_R2L=[i for i, x in enumerate(true) if x]\n",
        "rfecolname_R2L=list(colNames[i] for i in rfecolindex_R2L)"
      ]
    },
    {
      "cell_type": "code",
      "execution_count": 0,
      "metadata": {
        "colab": {},
        "colab_type": "code",
        "id": "G9DtjxmDkhTL"
      },
      "outputs": [],
      "source": [
        "rfe.fit(X_U2R, Y_U2R.astype(int))\n",
        "X_rfeU2R=rfe.transform(X_U2R)\n",
        "true=rfe.support_\n",
        "rfecolindex_U2R=[i for i, x in enumerate(true) if x]\n",
        "rfecolname_U2R=list(colNames[i] for i in rfecolindex_U2R)"
      ]
    },
    {
      "cell_type": "markdown",
      "metadata": {
        "colab_type": "text",
        "id": "z07YGhS3k8tN"
      },
      "source": [
        "**Summary of features selected by RFE**"
      ]
    },
    {
      "cell_type": "code",
      "execution_count": 0,
      "metadata": {
        "colab": {
          "base_uri": "https://localhost:8080/",
          "height": 156
        },
        "colab_type": "code",
        "id": "ej29Qdlxk6KO",
        "outputId": "ec6bacc6-457c-4b40-daeb-a103f8101ffb"
      },
      "outputs": [
        {
          "name": "stdout",
          "output_type": "stream",
          "text": [
            "Features selected for DoS: ['src_bytes', 'dst_bytes', 'wrong_fragment', 'count', 'srv_count', 'same_srv_rate', 'diff_srv_rate', 'dst_host_same_srv_rate', 'dst_host_same_src_port_rate', 'dst_host_srv_serror_rate', 'Protocol_type_icmp', 'flag_S0', 'flag_SF']\n",
            "\n",
            "Features selected for Probe: ['src_bytes', 'dst_bytes', 'count', 'rerror_rate', 'dst_host_count', 'dst_host_srv_count', 'dst_host_same_srv_rate', 'dst_host_diff_srv_rate', 'dst_host_same_src_port_rate', 'dst_host_srv_diff_host_rate', 'dst_host_rerror_rate', 'service_eco_i', 'service_private']\n",
            "\n",
            "Features selected for R2L: ['duration', 'src_bytes', 'dst_bytes', 'hot', 'is_guest_login', 'dst_host_count', 'dst_host_srv_count', 'dst_host_same_srv_rate', 'dst_host_diff_srv_rate', 'dst_host_same_src_port_rate', 'dst_host_srv_diff_host_rate', 'service_ftp', 'service_ftp_data']\n",
            "\n",
            "Features selected for U2R: ['duration', 'src_bytes', 'dst_bytes', 'hot', 'num_compromised', 'root_shell', 'num_file_creations', 'count', 'dst_host_count', 'dst_host_srv_count', 'dst_host_diff_srv_rate', 'dst_host_same_src_port_rate', 'service_ftp_data']\n"
          ]
        }
      ],
      "source": [
        "print('Features selected for DoS:',rfecolname_DoS)\n",
        "print()\n",
        "print('Features selected for Probe:',rfecolname_Probe)\n",
        "print()\n",
        "print('Features selected for R2L:',rfecolname_R2L)\n",
        "print()\n",
        "print('Features selected for U2R:',rfecolname_U2R)\n"
      ]
    },
    {
      "cell_type": "code",
      "execution_count": 0,
      "metadata": {
        "colab": {
          "base_uri": "https://localhost:8080/",
          "height": 85
        },
        "colab_type": "code",
        "id": "25gCTl0HlCrP",
        "outputId": "1b7dde02-93a8-4155-c8ad-a5409b17f9f0"
      },
      "outputs": [
        {
          "name": "stdout",
          "output_type": "stream",
          "text": [
            "(113270, 13)\n",
            "(78999, 13)\n",
            "(68338, 13)\n",
            "(67395, 13)\n"
          ]
        }
      ],
      "source": [
        "print(X_rfeDoS.shape)\n",
        "print(X_rfeProbe.shape)\n",
        "print(X_rfeR2L.shape)\n",
        "print(X_rfeU2R.shape)\n"
      ]
    },
    {
      "cell_type": "markdown",
      "metadata": {
        "colab_type": "text",
        "id": "UIy12t5AlHMB"
      },
      "source": [
        "**Step 4: Build the model:**\n",
        "\n",
        "Classifier is trained for all features and for reduced features, for later comparison.\n",
        "\n",
        "The classifier model itself is stored in the clf variable."
      ]
    },
    {
      "cell_type": "code",
      "execution_count": 0,
      "metadata": {
        "colab": {
          "base_uri": "https://localhost:8080/",
          "height": 136
        },
        "colab_type": "code",
        "id": "uw1m5wUelNr8",
        "outputId": "d9cc05e2-1269-4501-f606-3a15b9f53b6a"
      },
      "outputs": [
        {
          "data": {
            "text/plain": [
              "RandomForestClassifier(bootstrap=True, class_weight=None, criterion='gini',\n",
              "                       max_depth=None, max_features='auto', max_leaf_nodes=None,\n",
              "                       min_impurity_decrease=0.0, min_impurity_split=None,\n",
              "                       min_samples_leaf=1, min_samples_split=2,\n",
              "                       min_weight_fraction_leaf=0.0, n_estimators=10, n_jobs=2,\n",
              "                       oob_score=False, random_state=None, verbose=0,\n",
              "                       warm_start=False)"
            ]
          },
          "execution_count": 27,
          "metadata": {
            "tags": []
          },
          "output_type": "execute_result"
        }
      ],
      "source": [
        "# all features\n",
        "clf_DoS=RandomForestClassifier(n_estimators=10,n_jobs=2)\n",
        "clf_Probe=RandomForestClassifier(n_estimators=10,n_jobs=2)\n",
        "clf_R2L=RandomForestClassifier(n_estimators=10,n_jobs=2)\n",
        "clf_U2R=RandomForestClassifier(n_estimators=10,n_jobs=2)\n",
        "clf_DoS.fit(X_DoS, Y_DoS.astype(int))\n",
        "clf_Probe.fit(X_Probe, Y_Probe.astype(int))\n",
        "clf_R2L.fit(X_R2L, Y_R2L.astype(int))\n",
        "clf_U2R.fit(X_U2R, Y_U2R.astype(int))"
      ]
    },
    {
      "cell_type": "code",
      "execution_count": 0,
      "metadata": {
        "colab": {
          "base_uri": "https://localhost:8080/",
          "height": 136
        },
        "colab_type": "code",
        "id": "hBAfHdBdlnlW",
        "outputId": "ddc9d26d-f33b-4492-e00f-85c712a807cf"
      },
      "outputs": [
        {
          "data": {
            "text/plain": [
              "RandomForestClassifier(bootstrap=True, class_weight=None, criterion='gini',\n",
              "                       max_depth=None, max_features='auto', max_leaf_nodes=None,\n",
              "                       min_impurity_decrease=0.0, min_impurity_split=None,\n",
              "                       min_samples_leaf=1, min_samples_split=2,\n",
              "                       min_weight_fraction_leaf=0.0, n_estimators=10, n_jobs=2,\n",
              "                       oob_score=False, random_state=None, verbose=0,\n",
              "                       warm_start=False)"
            ]
          },
          "execution_count": 28,
          "metadata": {
            "tags": []
          },
          "output_type": "execute_result"
        }
      ],
      "source": [
        "# selected features\n",
        "clf_rfeDoS=RandomForestClassifier(n_estimators=10,n_jobs=2)\n",
        "clf_rfeProbe=RandomForestClassifier(n_estimators=10,n_jobs=2)\n",
        "clf_rfeR2L=RandomForestClassifier(n_estimators=10,n_jobs=2)\n",
        "clf_rfeU2R=RandomForestClassifier(n_estimators=10,n_jobs=2)\n",
        "clf_rfeDoS.fit(X_rfeDoS, Y_DoS.astype(int))\n",
        "clf_rfeProbe.fit(X_rfeProbe, Y_Probe.astype(int))\n",
        "clf_rfeR2L.fit(X_rfeR2L, Y_R2L.astype(int))\n",
        "clf_rfeU2R.fit(X_rfeU2R, Y_U2R.astype(int))"
      ]
    },
    {
      "cell_type": "markdown",
      "metadata": {
        "colab_type": "text",
        "id": "1dnH9hPel4Pl"
      },
      "source": [
        "**Step 5: Prediction & Evaluation (validation):**\n",
        "\n",
        "\n",
        "---\n",
        "\n",
        "\n",
        "\n",
        "Using all Features for each category\n",
        "\n",
        "Confusion Matrices\n",
        "\n",
        "\n",
        "---\n",
        "\n",
        "\n",
        "\n",
        "DoS¶"
      ]
    },
    {
      "cell_type": "code",
      "execution_count": 0,
      "metadata": {
        "colab": {
          "base_uri": "https://localhost:8080/",
          "height": 34
        },
        "colab_type": "code",
        "id": "hwR59uW4l_Iy",
        "outputId": "6c887bd2-c98c-4bfe-cafb-86b62181cb45"
      },
      "outputs": [
        {
          "data": {
            "text/plain": [
              "array([1, 1, 0, ..., 0, 0, 0])"
            ]
          },
          "execution_count": 29,
          "metadata": {
            "tags": []
          },
          "output_type": "execute_result"
        }
      ],
      "source": [
        "# Apply the classifier we trained to the test data (which it has never seen before)\n",
        "clf_DoS.predict(X_DoS_test)\n"
      ]
    },
    {
      "cell_type": "code",
      "execution_count": 0,
      "metadata": {
        "colab": {
          "base_uri": "https://localhost:8080/",
          "height": 187
        },
        "colab_type": "code",
        "id": "3ilISJ2rmGWW",
        "outputId": "6f145b10-a3ed-4662-acb2-a183db2a8c46"
      },
      "outputs": [
        {
          "data": {
            "text/plain": [
              "array([[0.4, 0.6],\n",
              "       [0.3, 0.7],\n",
              "       [1. , 0. ],\n",
              "       [1. , 0. ],\n",
              "       [0.6, 0.4],\n",
              "       [0.8, 0.2],\n",
              "       [0.9, 0.1],\n",
              "       [0.3, 0.7],\n",
              "       [0.6, 0.4],\n",
              "       [1. , 0. ]])"
            ]
          },
          "execution_count": 30,
          "metadata": {
            "tags": []
          },
          "output_type": "execute_result"
        }
      ],
      "source": [
        "# View the predicted probabilities of the first 10 observations\n",
        "clf_DoS.predict_proba(X_DoS_test)[0:10]"
      ]
    },
    {
      "cell_type": "code",
      "execution_count": 0,
      "metadata": {
        "colab": {
          "base_uri": "https://localhost:8080/",
          "height": 142
        },
        "colab_type": "code",
        "id": "5BEe8Ar1mH83",
        "outputId": "0abaa0e2-3882-4979-b253-cee41fb0efbc"
      },
      "outputs": [
        {
          "data": {
            "text/html": [
              "<div>\n",
              "<style scoped>\n",
              "    .dataframe tbody tr th:only-of-type {\n",
              "        vertical-align: middle;\n",
              "    }\n",
              "\n",
              "    .dataframe tbody tr th {\n",
              "        vertical-align: top;\n",
              "    }\n",
              "\n",
              "    .dataframe thead th {\n",
              "        text-align: right;\n",
              "    }\n",
              "</style>\n",
              "<table border=\"1\" class=\"dataframe\">\n",
              "  <thead>\n",
              "    <tr style=\"text-align: right;\">\n",
              "      <th>Predicted attacks</th>\n",
              "      <th>0</th>\n",
              "      <th>1</th>\n",
              "    </tr>\n",
              "    <tr>\n",
              "      <th>Actual attacks</th>\n",
              "      <th></th>\n",
              "      <th></th>\n",
              "    </tr>\n",
              "  </thead>\n",
              "  <tbody>\n",
              "    <tr>\n",
              "      <th>0</th>\n",
              "      <td>9653</td>\n",
              "      <td>58</td>\n",
              "    </tr>\n",
              "    <tr>\n",
              "      <th>1</th>\n",
              "      <td>4316</td>\n",
              "      <td>3144</td>\n",
              "    </tr>\n",
              "  </tbody>\n",
              "</table>\n",
              "</div>"
            ],
            "text/plain": [
              "Predicted attacks     0     1\n",
              "Actual attacks               \n",
              "0                  9653    58\n",
              "1                  4316  3144"
            ]
          },
          "execution_count": 31,
          "metadata": {
            "tags": []
          },
          "output_type": "execute_result"
        }
      ],
      "source": [
        "Y_DoS_pred=clf_DoS.predict(X_DoS_test)\n",
        "\n",
        "# Create confusion matrix\n",
        "pd.crosstab(Y_DoS_test, Y_DoS_pred, rownames=['Actual attacks'], colnames=['Predicted attacks'])"
      ]
    },
    {
      "cell_type": "markdown",
      "metadata": {
        "colab_type": "text",
        "id": "CHQRCzW9mPGx"
      },
      "source": [
        "**Probe**"
      ]
    },
    {
      "cell_type": "code",
      "execution_count": 0,
      "metadata": {
        "colab": {
          "base_uri": "https://localhost:8080/",
          "height": 142
        },
        "colab_type": "code",
        "id": "xUIiP1bZmdeR",
        "outputId": "f36acf64-d3a4-4466-ef3b-bb9c62dc623f"
      },
      "outputs": [
        {
          "data": {
            "text/html": [
              "<div>\n",
              "<style scoped>\n",
              "    .dataframe tbody tr th:only-of-type {\n",
              "        vertical-align: middle;\n",
              "    }\n",
              "\n",
              "    .dataframe tbody tr th {\n",
              "        vertical-align: top;\n",
              "    }\n",
              "\n",
              "    .dataframe thead th {\n",
              "        text-align: right;\n",
              "    }\n",
              "</style>\n",
              "<table border=\"1\" class=\"dataframe\">\n",
              "  <thead>\n",
              "    <tr style=\"text-align: right;\">\n",
              "      <th>Predicted attacks</th>\n",
              "      <th>0</th>\n",
              "      <th>2</th>\n",
              "    </tr>\n",
              "    <tr>\n",
              "      <th>Actual attacks</th>\n",
              "      <th></th>\n",
              "      <th></th>\n",
              "    </tr>\n",
              "  </thead>\n",
              "  <tbody>\n",
              "    <tr>\n",
              "      <th>0</th>\n",
              "      <td>9393</td>\n",
              "      <td>318</td>\n",
              "    </tr>\n",
              "    <tr>\n",
              "      <th>2</th>\n",
              "      <td>694</td>\n",
              "      <td>1727</td>\n",
              "    </tr>\n",
              "  </tbody>\n",
              "</table>\n",
              "</div>"
            ],
            "text/plain": [
              "Predicted attacks     0     2\n",
              "Actual attacks               \n",
              "0                  9393   318\n",
              "2                   694  1727"
            ]
          },
          "execution_count": 32,
          "metadata": {
            "tags": []
          },
          "output_type": "execute_result"
        }
      ],
      "source": [
        "Y_Probe_pred=clf_Probe.predict(X_Probe_test)\n",
        "# Create confusion matrix\n",
        "\n",
        "pd.crosstab(Y_Probe_test, Y_Probe_pred, rownames=['Actual attacks'], colnames=['Predicted attacks'])"
      ]
    },
    {
      "cell_type": "markdown",
      "metadata": {
        "colab_type": "text",
        "id": "vm92mbNfmjF4"
      },
      "source": [
        "**R2L**"
      ]
    },
    {
      "cell_type": "code",
      "execution_count": 0,
      "metadata": {
        "colab": {
          "base_uri": "https://localhost:8080/",
          "height": 142
        },
        "colab_type": "code",
        "id": "z7ro_ovNmkIz",
        "outputId": "5be82c6a-90dc-4984-e7b9-1d721b648f8a"
      },
      "outputs": [
        {
          "data": {
            "text/html": [
              "<div>\n",
              "<style scoped>\n",
              "    .dataframe tbody tr th:only-of-type {\n",
              "        vertical-align: middle;\n",
              "    }\n",
              "\n",
              "    .dataframe tbody tr th {\n",
              "        vertical-align: top;\n",
              "    }\n",
              "\n",
              "    .dataframe thead th {\n",
              "        text-align: right;\n",
              "    }\n",
              "</style>\n",
              "<table border=\"1\" class=\"dataframe\">\n",
              "  <thead>\n",
              "    <tr style=\"text-align: right;\">\n",
              "      <th>Predicted attacks</th>\n",
              "      <th>0</th>\n",
              "      <th>3</th>\n",
              "    </tr>\n",
              "    <tr>\n",
              "      <th>Actual attacks</th>\n",
              "      <th></th>\n",
              "      <th></th>\n",
              "    </tr>\n",
              "  </thead>\n",
              "  <tbody>\n",
              "    <tr>\n",
              "      <th>0</th>\n",
              "      <td>9711</td>\n",
              "      <td>0</td>\n",
              "    </tr>\n",
              "    <tr>\n",
              "      <th>3</th>\n",
              "      <td>2858</td>\n",
              "      <td>27</td>\n",
              "    </tr>\n",
              "  </tbody>\n",
              "</table>\n",
              "</div>"
            ],
            "text/plain": [
              "Predicted attacks     0   3\n",
              "Actual attacks             \n",
              "0                  9711   0\n",
              "3                  2858  27"
            ]
          },
          "execution_count": 33,
          "metadata": {
            "tags": []
          },
          "output_type": "execute_result"
        }
      ],
      "source": [
        "Y_R2L_pred=clf_R2L.predict(X_R2L_test)\n",
        "# Create confusion matrix\n",
        "pd.crosstab(Y_R2L_test, Y_R2L_pred, rownames=['Actual attacks'], colnames=['Predicted attacks'])"
      ]
    },
    {
      "cell_type": "markdown",
      "metadata": {
        "colab_type": "text",
        "id": "2sXrTdVHmpjr"
      },
      "source": [
        "**U2R**"
      ]
    },
    {
      "cell_type": "code",
      "execution_count": 0,
      "metadata": {
        "colab": {
          "base_uri": "https://localhost:8080/",
          "height": 142
        },
        "colab_type": "code",
        "id": "b8MtOKsemrAN",
        "outputId": "23ce2a70-ee01-4d3c-b7ef-a42f58faed39"
      },
      "outputs": [
        {
          "data": {
            "text/html": [
              "<div>\n",
              "<style scoped>\n",
              "    .dataframe tbody tr th:only-of-type {\n",
              "        vertical-align: middle;\n",
              "    }\n",
              "\n",
              "    .dataframe tbody tr th {\n",
              "        vertical-align: top;\n",
              "    }\n",
              "\n",
              "    .dataframe thead th {\n",
              "        text-align: right;\n",
              "    }\n",
              "</style>\n",
              "<table border=\"1\" class=\"dataframe\">\n",
              "  <thead>\n",
              "    <tr style=\"text-align: right;\">\n",
              "      <th>Predicted attacks</th>\n",
              "      <th>0</th>\n",
              "    </tr>\n",
              "    <tr>\n",
              "      <th>Actual attacks</th>\n",
              "      <th></th>\n",
              "    </tr>\n",
              "  </thead>\n",
              "  <tbody>\n",
              "    <tr>\n",
              "      <th>0</th>\n",
              "      <td>9711</td>\n",
              "    </tr>\n",
              "    <tr>\n",
              "      <th>4</th>\n",
              "      <td>67</td>\n",
              "    </tr>\n",
              "  </tbody>\n",
              "</table>\n",
              "</div>"
            ],
            "text/plain": [
              "Predicted attacks     0\n",
              "Actual attacks         \n",
              "0                  9711\n",
              "4                    67"
            ]
          },
          "execution_count": 34,
          "metadata": {
            "tags": []
          },
          "output_type": "execute_result"
        }
      ],
      "source": [
        "Y_U2R_pred=clf_U2R.predict(X_U2R_test)\n",
        "# Create confusion matrix\n",
        "pd.crosstab(Y_U2R_test, Y_U2R_pred, rownames=['Actual attacks'], colnames=['Predicted attacks'])"
      ]
    },
    {
      "cell_type": "markdown",
      "metadata": {
        "colab_type": "text",
        "id": "NLCyve_1muNe"
      },
      "source": [
        "**Cross Validation: Accuracy, Precision, Recall, F-measure**"
      ]
    },
    {
      "cell_type": "markdown",
      "metadata": {
        "colab_type": "text",
        "id": "nEqJCtJUm2wz"
      },
      "source": [
        "**DoS**"
      ]
    },
    {
      "cell_type": "code",
      "execution_count": 0,
      "metadata": {
        "colab": {
          "base_uri": "https://localhost:8080/",
          "height": 85
        },
        "colab_type": "code",
        "id": "smwc3tZUmvaf",
        "outputId": "4d791e8e-7813-41af-fd94-69cf0e1c182b"
      },
      "outputs": [
        {
          "name": "stdout",
          "output_type": "stream",
          "text": [
            "Accuracy: 0.99802 (+/- 0.00140)\n",
            "Precision: 0.99879 (+/- 0.00253)\n",
            "Recall: 0.99665 (+/- 0.00275)\n",
            "F-measure: 0.99785 (+/- 0.00215)\n"
          ]
        }
      ],
      "source": [
        "from sklearn.model_selection import cross_val_score\n",
        "from sklearn import metrics\n",
        "accuracy = cross_val_score(clf_DoS, X_DoS_test, Y_DoS_test, cv=10, scoring='accuracy')\n",
        "print(\"Accuracy: %0.5f (+/- %0.5f)\" % (accuracy.mean(), accuracy.std() * 2))\n",
        "precision = cross_val_score(clf_DoS, X_DoS_test, Y_DoS_test, cv=10, scoring='precision')\n",
        "print(\"Precision: %0.5f (+/- %0.5f)\" % (precision.mean(), precision.std() * 2))\n",
        "recall = cross_val_score(clf_DoS, X_DoS_test, Y_DoS_test, cv=10, scoring='recall')\n",
        "print(\"Recall: %0.5f (+/- %0.5f)\" % (recall.mean(), recall.std() * 2))\n",
        "f = cross_val_score(clf_DoS, X_DoS_test, Y_DoS_test, cv=10, scoring='f1')\n",
        "print(\"F-measure: %0.5f (+/- %0.5f)\" % (f.mean(), f.std() * 2))\n"
      ]
    },
    {
      "cell_type": "markdown",
      "metadata": {
        "colab_type": "text",
        "id": "isVUQMo6m5Gu"
      },
      "source": [
        "**Probe**"
      ]
    },
    {
      "cell_type": "code",
      "execution_count": 0,
      "metadata": {
        "colab": {
          "base_uri": "https://localhost:8080/",
          "height": 85
        },
        "colab_type": "code",
        "id": "0UQ7ZKMZm6Ye",
        "outputId": "55bbce90-5c07-40de-d33d-8ccb91e18f7c"
      },
      "outputs": [
        {
          "name": "stdout",
          "output_type": "stream",
          "text": [
            "Accuracy: 0.99662 (+/- 0.00325)\n",
            "Precision: 0.99721 (+/- 0.00427)\n",
            "Recall: 0.99349 (+/- 0.00517)\n",
            "F-measure: 0.99378 (+/- 0.00345)\n"
          ]
        }
      ],
      "source": [
        "accuracy = cross_val_score(clf_Probe, X_Probe_test, Y_Probe_test, cv=10, scoring='accuracy')\n",
        "print(\"Accuracy: %0.5f (+/- %0.5f)\" % (accuracy.mean(), accuracy.std() * 2))\n",
        "precision = cross_val_score(clf_Probe, X_Probe_test, Y_Probe_test, cv=10, scoring='precision_macro')\n",
        "print(\"Precision: %0.5f (+/- %0.5f)\" % (precision.mean(), precision.std() * 2))\n",
        "recall = cross_val_score(clf_Probe, X_Probe_test, Y_Probe_test, cv=10, scoring='recall_macro')\n",
        "print(\"Recall: %0.5f (+/- %0.5f)\" % (recall.mean(), recall.std() * 2))\n",
        "f = cross_val_score(clf_Probe, X_Probe_test, Y_Probe_test, cv=10, scoring='f1_macro')\n",
        "print(\"F-measure: %0.5f (+/- %0.5f)\" % (f.mean(), f.std() * 2))"
      ]
    },
    {
      "cell_type": "markdown",
      "metadata": {
        "colab_type": "text",
        "id": "oDtTPPlgnPky"
      },
      "source": [
        "**U2R**"
      ]
    },
    {
      "cell_type": "code",
      "execution_count": 0,
      "metadata": {
        "colab": {
          "base_uri": "https://localhost:8080/",
          "height": 85
        },
        "colab_type": "code",
        "id": "TdxuBHTrnO7W",
        "outputId": "98f7d852-84a2-4acc-f85a-ced58dbe5964"
      },
      "outputs": [
        {
          "name": "stdout",
          "output_type": "stream",
          "text": [
            "Accuracy: 0.99765 (+/- 0.00225)\n",
            "Precision: 0.96396 (+/- 0.11062)\n",
            "Recall: 0.83432 (+/- 0.15130)\n",
            "F-measure: 0.91707 (+/- 0.06314)\n"
          ]
        }
      ],
      "source": [
        "accuracy = cross_val_score(clf_U2R, X_U2R_test, Y_U2R_test, cv=10, scoring='accuracy')\n",
        "print(\"Accuracy: %0.5f (+/- %0.5f)\" % (accuracy.mean(), accuracy.std() * 2))\n",
        "precision = cross_val_score(clf_U2R, X_U2R_test, Y_U2R_test, cv=10, scoring='precision_macro')\n",
        "print(\"Precision: %0.5f (+/- %0.5f)\" % (precision.mean(), precision.std() * 2))\n",
        "recall = cross_val_score(clf_U2R, X_U2R_test, Y_U2R_test, cv=10, scoring='recall_macro')\n",
        "print(\"Recall: %0.5f (+/- %0.5f)\" % (recall.mean(), recall.std() * 2))\n",
        "f = cross_val_score(clf_U2R, X_U2R_test, Y_U2R_test, cv=10, scoring='f1_macro')\n",
        "print(\"F-measure: %0.5f (+/- %0.5f)\" % (f.mean(), f.std() * 2))\n"
      ]
    },
    {
      "cell_type": "markdown",
      "metadata": {
        "colab_type": "text",
        "id": "rRdxQ64LwtBj"
      },
      "source": [
        "**R2L**"
      ]
    },
    {
      "cell_type": "code",
      "execution_count": 0,
      "metadata": {
        "colab": {
          "base_uri": "https://localhost:8080/",
          "height": 85
        },
        "colab_type": "code",
        "id": "MrfDjRonwqSr",
        "outputId": "163fde91-e9ce-4110-8674-abfd0155d8d0"
      },
      "outputs": [
        {
          "name": "stdout",
          "output_type": "stream",
          "text": [
            "Accuracy: 0.98079 (+/- 0.00611)\n",
            "Precision: 0.97390 (+/- 0.00864)\n",
            "Recall: 0.97019 (+/- 0.00967)\n",
            "F-measure: 0.97256 (+/- 0.00604)\n"
          ]
        }
      ],
      "source": [
        "accuracy = cross_val_score(clf_R2L, X_R2L_test, Y_R2L_test, cv=10, scoring='accuracy')\n",
        "print(\"Accuracy: %0.5f (+/- %0.5f)\" % (accuracy.mean(), accuracy.std() * 2))\n",
        "precision = cross_val_score(clf_R2L, X_R2L_test, Y_R2L_test, cv=10, scoring='precision_macro')\n",
        "print(\"Precision: %0.5f (+/- %0.5f)\" % (precision.mean(), precision.std() * 2))\n",
        "recall = cross_val_score(clf_R2L, X_R2L_test, Y_R2L_test, cv=10, scoring='recall_macro')\n",
        "print(\"Recall: %0.5f (+/- %0.5f)\" % (recall.mean(), recall.std() * 2))\n",
        "f = cross_val_score(clf_R2L, X_R2L_test, Y_R2L_test, cv=10, scoring='f1_macro')\n",
        "print(\"F-measure: %0.5f (+/- %0.5f)\" % (f.mean(), f.std() * 2))"
      ]
    },
    {
      "cell_type": "markdown",
      "metadata": {
        "colab_type": "text",
        "id": "pNJ5P6K8nX61"
      },
      "source": [
        "**Using 13 Features for each category**\n",
        "\n",
        "\n",
        "Confusion Matrices\n",
        "\n",
        "DoS"
      ]
    },
    {
      "cell_type": "code",
      "execution_count": 0,
      "metadata": {
        "colab": {
          "base_uri": "https://localhost:8080/",
          "height": 34
        },
        "colab_type": "code",
        "id": "PI--9Z3xnZPL",
        "outputId": "4058e22f-c152-4f0b-b881-5b27b4693c4e"
      },
      "outputs": [
        {
          "data": {
            "text/plain": [
              "(9778, 13)"
            ]
          },
          "execution_count": 39,
          "metadata": {
            "tags": []
          },
          "output_type": "execute_result"
        }
      ],
      "source": [
        "# reduce test dataset to 13 features, use only features described in rfecolname_DoS etc.\n",
        "X_DoS_test2=X_DoS_test[:,rfecolindex_DoS]\n",
        "X_Probe_test2=X_Probe_test[:,rfecolindex_Probe]\n",
        "X_R2L_test2=X_R2L_test[:,rfecolindex_R2L]\n",
        "X_U2R_test2=X_U2R_test[:,rfecolindex_U2R]\n",
        "X_U2R_test2.shape"
      ]
    },
    {
      "cell_type": "code",
      "execution_count": 0,
      "metadata": {
        "colab": {
          "base_uri": "https://localhost:8080/",
          "height": 142
        },
        "colab_type": "code",
        "id": "dvfVjn1IpdkF",
        "outputId": "5d7232e5-3162-40cf-e8ba-c7051f010bd6"
      },
      "outputs": [
        {
          "data": {
            "text/html": [
              "<div>\n",
              "<style scoped>\n",
              "    .dataframe tbody tr th:only-of-type {\n",
              "        vertical-align: middle;\n",
              "    }\n",
              "\n",
              "    .dataframe tbody tr th {\n",
              "        vertical-align: top;\n",
              "    }\n",
              "\n",
              "    .dataframe thead th {\n",
              "        text-align: right;\n",
              "    }\n",
              "</style>\n",
              "<table border=\"1\" class=\"dataframe\">\n",
              "  <thead>\n",
              "    <tr style=\"text-align: right;\">\n",
              "      <th>Predicted attacks</th>\n",
              "      <th>0</th>\n",
              "      <th>1</th>\n",
              "    </tr>\n",
              "    <tr>\n",
              "      <th>Actual attacks</th>\n",
              "      <th></th>\n",
              "      <th></th>\n",
              "    </tr>\n",
              "  </thead>\n",
              "  <tbody>\n",
              "    <tr>\n",
              "      <th>0</th>\n",
              "      <td>9662</td>\n",
              "      <td>49</td>\n",
              "    </tr>\n",
              "    <tr>\n",
              "      <th>1</th>\n",
              "      <td>7398</td>\n",
              "      <td>62</td>\n",
              "    </tr>\n",
              "  </tbody>\n",
              "</table>\n",
              "</div>"
            ],
            "text/plain": [
              "Predicted attacks     0   1\n",
              "Actual attacks             \n",
              "0                  9662  49\n",
              "1                  7398  62"
            ]
          },
          "execution_count": 40,
          "metadata": {
            "tags": []
          },
          "output_type": "execute_result"
        }
      ],
      "source": [
        "Y_DoS_pred2=clf_rfeDoS.predict(X_DoS_test2)\n",
        "# Create confusion matrix\n",
        "pd.crosstab(Y_DoS_test, Y_DoS_pred2, rownames=['Actual attacks'], colnames=['Predicted attacks'])"
      ]
    },
    {
      "cell_type": "markdown",
      "metadata": {
        "colab_type": "text",
        "id": "5pNtpNWFpjqc"
      },
      "source": [
        "**Probe**"
      ]
    },
    {
      "cell_type": "code",
      "execution_count": 0,
      "metadata": {
        "colab": {
          "base_uri": "https://localhost:8080/",
          "height": 142
        },
        "colab_type": "code",
        "id": "bZk-GxAOpiDy",
        "outputId": "b4c3fc2d-649f-4579-874c-3c3d951216cf"
      },
      "outputs": [
        {
          "data": {
            "text/html": [
              "<div>\n",
              "<style scoped>\n",
              "    .dataframe tbody tr th:only-of-type {\n",
              "        vertical-align: middle;\n",
              "    }\n",
              "\n",
              "    .dataframe tbody tr th {\n",
              "        vertical-align: top;\n",
              "    }\n",
              "\n",
              "    .dataframe thead th {\n",
              "        text-align: right;\n",
              "    }\n",
              "</style>\n",
              "<table border=\"1\" class=\"dataframe\">\n",
              "  <thead>\n",
              "    <tr style=\"text-align: right;\">\n",
              "      <th>Predicted attacks</th>\n",
              "      <th>0</th>\n",
              "      <th>2</th>\n",
              "    </tr>\n",
              "    <tr>\n",
              "      <th>Actual attacks</th>\n",
              "      <th></th>\n",
              "      <th></th>\n",
              "    </tr>\n",
              "  </thead>\n",
              "  <tbody>\n",
              "    <tr>\n",
              "      <th>0</th>\n",
              "      <td>9444</td>\n",
              "      <td>267</td>\n",
              "    </tr>\n",
              "    <tr>\n",
              "      <th>2</th>\n",
              "      <td>1217</td>\n",
              "      <td>1204</td>\n",
              "    </tr>\n",
              "  </tbody>\n",
              "</table>\n",
              "</div>"
            ],
            "text/plain": [
              "Predicted attacks     0     2\n",
              "Actual attacks               \n",
              "0                  9444   267\n",
              "2                  1217  1204"
            ]
          },
          "execution_count": 41,
          "metadata": {
            "tags": []
          },
          "output_type": "execute_result"
        }
      ],
      "source": [
        "Y_Probe_pred2=clf_rfeProbe.predict(X_Probe_test2)\n",
        "# Create confusion matrix\n",
        "pd.crosstab(Y_Probe_test, Y_Probe_pred2, rownames=['Actual attacks'], colnames=['Predicted attacks'])\n"
      ]
    },
    {
      "cell_type": "markdown",
      "metadata": {
        "colab_type": "text",
        "id": "dhP4467dpoon"
      },
      "source": [
        "**R2L**"
      ]
    },
    {
      "cell_type": "code",
      "execution_count": 0,
      "metadata": {
        "colab": {
          "base_uri": "https://localhost:8080/",
          "height": 142
        },
        "colab_type": "code",
        "id": "itCdtf4Opykb",
        "outputId": "fee21e54-d04d-47ca-ae56-aa3374ab691b"
      },
      "outputs": [
        {
          "data": {
            "text/html": [
              "<div>\n",
              "<style scoped>\n",
              "    .dataframe tbody tr th:only-of-type {\n",
              "        vertical-align: middle;\n",
              "    }\n",
              "\n",
              "    .dataframe tbody tr th {\n",
              "        vertical-align: top;\n",
              "    }\n",
              "\n",
              "    .dataframe thead th {\n",
              "        text-align: right;\n",
              "    }\n",
              "</style>\n",
              "<table border=\"1\" class=\"dataframe\">\n",
              "  <thead>\n",
              "    <tr style=\"text-align: right;\">\n",
              "      <th>Predicted attacks</th>\n",
              "      <th>0</th>\n",
              "    </tr>\n",
              "    <tr>\n",
              "      <th>Actual attacks</th>\n",
              "      <th></th>\n",
              "    </tr>\n",
              "  </thead>\n",
              "  <tbody>\n",
              "    <tr>\n",
              "      <th>0</th>\n",
              "      <td>9711</td>\n",
              "    </tr>\n",
              "    <tr>\n",
              "      <th>3</th>\n",
              "      <td>2885</td>\n",
              "    </tr>\n",
              "  </tbody>\n",
              "</table>\n",
              "</div>"
            ],
            "text/plain": [
              "Predicted attacks     0\n",
              "Actual attacks         \n",
              "0                  9711\n",
              "3                  2885"
            ]
          },
          "execution_count": 42,
          "metadata": {
            "tags": []
          },
          "output_type": "execute_result"
        }
      ],
      "source": [
        "Y_R2L_pred2=clf_rfeR2L.predict(X_R2L_test2)\n",
        "# Create confusion matrix\n",
        "pd.crosstab(Y_R2L_test, Y_R2L_pred2, rownames=['Actual attacks'], colnames=['Predicted attacks'])\n"
      ]
    },
    {
      "cell_type": "markdown",
      "metadata": {
        "colab_type": "text",
        "id": "_CuyYSWMp3wP"
      },
      "source": [
        "**U2R**"
      ]
    },
    {
      "cell_type": "code",
      "execution_count": 0,
      "metadata": {
        "colab": {
          "base_uri": "https://localhost:8080/",
          "height": 142
        },
        "colab_type": "code",
        "id": "LB5Sve1Xp5Qz",
        "outputId": "4f5b8012-3b8a-43db-91a3-89d33fb58709"
      },
      "outputs": [
        {
          "data": {
            "text/html": [
              "<div>\n",
              "<style scoped>\n",
              "    .dataframe tbody tr th:only-of-type {\n",
              "        vertical-align: middle;\n",
              "    }\n",
              "\n",
              "    .dataframe tbody tr th {\n",
              "        vertical-align: top;\n",
              "    }\n",
              "\n",
              "    .dataframe thead th {\n",
              "        text-align: right;\n",
              "    }\n",
              "</style>\n",
              "<table border=\"1\" class=\"dataframe\">\n",
              "  <thead>\n",
              "    <tr style=\"text-align: right;\">\n",
              "      <th>Predicted attacks</th>\n",
              "      <th>0</th>\n",
              "      <th>4</th>\n",
              "    </tr>\n",
              "    <tr>\n",
              "      <th>Actual attacks</th>\n",
              "      <th></th>\n",
              "      <th></th>\n",
              "    </tr>\n",
              "  </thead>\n",
              "  <tbody>\n",
              "    <tr>\n",
              "      <th>0</th>\n",
              "      <td>9711</td>\n",
              "      <td>0</td>\n",
              "    </tr>\n",
              "    <tr>\n",
              "      <th>4</th>\n",
              "      <td>54</td>\n",
              "      <td>13</td>\n",
              "    </tr>\n",
              "  </tbody>\n",
              "</table>\n",
              "</div>"
            ],
            "text/plain": [
              "Predicted attacks     0   4\n",
              "Actual attacks             \n",
              "0                  9711   0\n",
              "4                    54  13"
            ]
          },
          "execution_count": 43,
          "metadata": {
            "tags": []
          },
          "output_type": "execute_result"
        }
      ],
      "source": [
        "Y_U2R_pred2=clf_rfeU2R.predict(X_U2R_test2)\n",
        "# Create confusion matrix\n",
        "pd.crosstab(Y_U2R_test, Y_U2R_pred2, rownames=['Actual attacks'], colnames=['Predicted attacks'])"
      ]
    },
    {
      "cell_type": "markdown",
      "metadata": {
        "colab_type": "text",
        "id": "7-Nz367hp8oG"
      },
      "source": [
        "**Cross Validation: Accuracy, Precision, Recall, F-measure**\n",
        "\n",
        "**DoS**\n"
      ]
    },
    {
      "cell_type": "code",
      "execution_count": 0,
      "metadata": {
        "colab": {
          "base_uri": "https://localhost:8080/",
          "height": 85
        },
        "colab_type": "code",
        "id": "eOq4IH2CqHxi",
        "outputId": "c026297d-5433-411e-9fdb-a4026bebe962"
      },
      "outputs": [
        {
          "name": "stdout",
          "output_type": "stream",
          "text": [
            "Accuracy: 0.99767 (+/- 0.00346)\n",
            "Precision: 0.99812 (+/- 0.00452)\n",
            "Recall: 0.99584 (+/- 0.00593)\n",
            "F-measure: 0.99772 (+/- 0.00356)\n"
          ]
        }
      ],
      "source": [
        "accuracy = cross_val_score(clf_rfeDoS, X_DoS_test2, Y_DoS_test, cv=10, scoring='accuracy')\n",
        "print(\"Accuracy: %0.5f (+/- %0.5f)\" % (accuracy.mean(), accuracy.std() * 2))\n",
        "precision = cross_val_score(clf_rfeDoS, X_DoS_test2, Y_DoS_test, cv=10, scoring='precision')\n",
        "print(\"Precision: %0.5f (+/- %0.5f)\" % (precision.mean(), precision.std() * 2))\n",
        "recall = cross_val_score(clf_rfeDoS, X_DoS_test2, Y_DoS_test, cv=10, scoring='recall')\n",
        "print(\"Recall: %0.5f (+/- %0.5f)\" % (recall.mean(), recall.std() * 2))\n",
        "f = cross_val_score(clf_rfeDoS, X_DoS_test2, Y_DoS_test, cv=10, scoring='f1')\n",
        "print(\"F-measure: %0.5f (+/- %0.5f)\" % (f.mean(), f.std() * 2))"
      ]
    },
    {
      "cell_type": "markdown",
      "metadata": {
        "colab_type": "text",
        "id": "6gkA-xV5qOJp"
      },
      "source": [
        "**Probe**"
      ]
    },
    {
      "cell_type": "code",
      "execution_count": 0,
      "metadata": {
        "colab": {
          "base_uri": "https://localhost:8080/",
          "height": 85
        },
        "colab_type": "code",
        "id": "ynF31fBiqPZV",
        "outputId": "c732f20f-23fa-41ff-f680-0cf4009a1fa6"
      },
      "outputs": [
        {
          "name": "stdout",
          "output_type": "stream",
          "text": [
            "Accuracy: 0.99390 (+/- 0.00473)\n",
            "Precision: 0.99154 (+/- 0.00829)\n",
            "Recall: 0.98812 (+/- 0.01316)\n",
            "F-measure: 0.98992 (+/- 0.00795)\n"
          ]
        }
      ],
      "source": [
        "accuracy = cross_val_score(clf_rfeProbe, X_Probe_test2, Y_Probe_test, cv=10, scoring='accuracy')\n",
        "print(\"Accuracy: %0.5f (+/- %0.5f)\" % (accuracy.mean(), accuracy.std() * 2))\n",
        "precision = cross_val_score(clf_rfeProbe, X_Probe_test2, Y_Probe_test, cv=10, scoring='precision_macro')\n",
        "print(\"Precision: %0.5f (+/- %0.5f)\" % (precision.mean(), precision.std() * 2))\n",
        "recall = cross_val_score(clf_rfeProbe, X_Probe_test2, Y_Probe_test, cv=10, scoring='recall_macro')\n",
        "print(\"Recall: %0.5f (+/- %0.5f)\" % (recall.mean(), recall.std() * 2))\n",
        "f = cross_val_score(clf_rfeProbe, X_Probe_test2, Y_Probe_test, cv=10, scoring='f1_macro')\n",
        "print(\"F-measure: %0.5f (+/- %0.5f)\" % (f.mean(), f.std() * 2))\n"
      ]
    },
    {
      "cell_type": "markdown",
      "metadata": {
        "colab_type": "text",
        "id": "BWyw08Z8qVi5"
      },
      "source": [
        "**R2L**"
      ]
    },
    {
      "cell_type": "code",
      "execution_count": 0,
      "metadata": {
        "colab": {
          "base_uri": "https://localhost:8080/",
          "height": 85
        },
        "colab_type": "code",
        "id": "eng_RcAVqVHx",
        "outputId": "2b782999-fa83-4f4a-e44b-5c549a63530b"
      },
      "outputs": [
        {
          "name": "stdout",
          "output_type": "stream",
          "text": [
            "Accuracy: 0.97848 (+/- 0.00821)\n",
            "Precision: 0.97249 (+/- 0.01381)\n",
            "Recall: 0.96688 (+/- 0.01398)\n",
            "F-measure: 0.96877 (+/- 0.01130)\n"
          ]
        }
      ],
      "source": [
        "accuracy = cross_val_score(clf_rfeR2L, X_R2L_test2, Y_R2L_test, cv=10, scoring='accuracy')\n",
        "print(\"Accuracy: %0.5f (+/- %0.5f)\" % (accuracy.mean(), accuracy.std() * 2))\n",
        "precision = cross_val_score(clf_rfeR2L, X_R2L_test2, Y_R2L_test, cv=10, scoring='precision_macro')\n",
        "print(\"Precision: %0.5f (+/- %0.5f)\" % (precision.mean(), precision.std() * 2))\n",
        "recall = cross_val_score(clf_rfeR2L, X_R2L_test2, Y_R2L_test, cv=10, scoring='recall_macro')\n",
        "print(\"Recall: %0.5f (+/- %0.5f)\" % (recall.mean(), recall.std() * 2))\n",
        "f = cross_val_score(clf_rfeR2L, X_R2L_test2, Y_R2L_test, cv=10, scoring='f1_macro')\n",
        "print(\"F-measure: %0.5f (+/- %0.5f)\" % (f.mean(), f.std() * 2))"
      ]
    },
    {
      "cell_type": "markdown",
      "metadata": {
        "colab_type": "text",
        "id": "omjGOf-9qdBY"
      },
      "source": [
        "**U2R**"
      ]
    },
    {
      "cell_type": "code",
      "execution_count": 0,
      "metadata": {
        "colab": {
          "base_uri": "https://localhost:8080/",
          "height": 85
        },
        "colab_type": "code",
        "id": "zhkYhoP1qfAt",
        "outputId": "b43e2565-d72e-49d2-aa67-b04772790e06"
      },
      "outputs": [
        {
          "name": "stdout",
          "output_type": "stream",
          "text": [
            "Accuracy: 0.99744 (+/- 0.00307)\n",
            "Precision: 0.94527 (+/- 0.11860)\n",
            "Recall: 0.81294 (+/- 0.18438)\n",
            "F-measure: 0.87059 (+/- 0.15659)\n"
          ]
        }
      ],
      "source": [
        "accuracy = cross_val_score(clf_rfeU2R, X_U2R_test2, Y_U2R_test, cv=10, scoring='accuracy')\n",
        "print(\"Accuracy: %0.5f (+/- %0.5f)\" % (accuracy.mean(), accuracy.std() * 2))\n",
        "precision = cross_val_score(clf_rfeU2R, X_U2R_test2, Y_U2R_test, cv=10, scoring='precision_macro')\n",
        "print(\"Precision: %0.5f (+/- %0.5f)\" % (precision.mean(), precision.std() * 2))\n",
        "recall = cross_val_score(clf_rfeU2R, X_U2R_test2, Y_U2R_test, cv=10, scoring='recall_macro')\n",
        "print(\"Recall: %0.5f (+/- %0.5f)\" % (recall.mean(), recall.std() * 2))\n",
        "f = cross_val_score(clf_rfeU2R, X_U2R_test2, Y_U2R_test, cv=10, scoring='f1_macro')\n",
        "print(\"F-measure: %0.5f (+/- %0.5f)\" % (f.mean(), f.std() * 2))"
      ]
    },
    {
      "cell_type": "markdown",
      "metadata": {
        "colab_type": "text",
        "id": "LMZrPfW_vStU"
      },
      "source": [
        "# KNeighbors\n"
      ]
    },
    {
      "cell_type": "code",
      "execution_count": 0,
      "metadata": {
        "colab": {
          "base_uri": "https://localhost:8080/",
          "height": 68
        },
        "colab_type": "code",
        "id": "SxPf0tnRvU66",
        "outputId": "6fc1d598-083a-4ff3-993b-d3849b70221e"
      },
      "outputs": [
        {
          "data": {
            "text/plain": [
              "KNeighborsClassifier(algorithm='auto', leaf_size=30, metric='minkowski',\n",
              "                     metric_params=None, n_jobs=None, n_neighbors=5, p=2,\n",
              "                     weights='uniform')"
            ]
          },
          "execution_count": 48,
          "metadata": {
            "tags": []
          },
          "output_type": "execute_result"
        }
      ],
      "source": [
        "from sklearn.neighbors import KNeighborsClassifier\n",
        "\n",
        "clf_KNN_DoS=KNeighborsClassifier()\n",
        "clf_KNN_Probe=KNeighborsClassifier()\n",
        "clf_KNN_R2L=KNeighborsClassifier()\n",
        "clf_KNN_U2R=KNeighborsClassifier()\n",
        "\n",
        "clf_KNN_DoS.fit(X_DoS, Y_DoS.astype(int))\n",
        "clf_KNN_Probe.fit(X_Probe, Y_Probe.astype(int))\n",
        "clf_KNN_R2L.fit(X_R2L, Y_R2L.astype(int))\n",
        "clf_KNN_U2R.fit(X_U2R, Y_U2R.astype(int))\n"
      ]
    },
    {
      "cell_type": "markdown",
      "metadata": {
        "colab_type": "text",
        "id": "OfLBLvwl6W0N"
      },
      "source": [
        " **DoS**"
      ]
    },
    {
      "cell_type": "code",
      "execution_count": 0,
      "metadata": {
        "colab": {
          "base_uri": "https://localhost:8080/",
          "height": 142
        },
        "colab_type": "code",
        "id": "l2HYm4k_5zAt",
        "outputId": "083df9b3-bfd8-4500-cb28-8f5e415ec884"
      },
      "outputs": [
        {
          "data": {
            "text/html": [
              "<div>\n",
              "<style scoped>\n",
              "    .dataframe tbody tr th:only-of-type {\n",
              "        vertical-align: middle;\n",
              "    }\n",
              "\n",
              "    .dataframe tbody tr th {\n",
              "        vertical-align: top;\n",
              "    }\n",
              "\n",
              "    .dataframe thead th {\n",
              "        text-align: right;\n",
              "    }\n",
              "</style>\n",
              "<table border=\"1\" class=\"dataframe\">\n",
              "  <thead>\n",
              "    <tr style=\"text-align: right;\">\n",
              "      <th>Predicted attacks</th>\n",
              "      <th>0</th>\n",
              "      <th>1</th>\n",
              "    </tr>\n",
              "    <tr>\n",
              "      <th>Actual attacks</th>\n",
              "      <th></th>\n",
              "      <th></th>\n",
              "    </tr>\n",
              "  </thead>\n",
              "  <tbody>\n",
              "    <tr>\n",
              "      <th>0</th>\n",
              "      <td>9422</td>\n",
              "      <td>289</td>\n",
              "    </tr>\n",
              "    <tr>\n",
              "      <th>1</th>\n",
              "      <td>1573</td>\n",
              "      <td>5887</td>\n",
              "    </tr>\n",
              "  </tbody>\n",
              "</table>\n",
              "</div>"
            ],
            "text/plain": [
              "Predicted attacks     0     1\n",
              "Actual attacks               \n",
              "0                  9422   289\n",
              "1                  1573  5887"
            ]
          },
          "execution_count": 49,
          "metadata": {
            "tags": []
          },
          "output_type": "execute_result"
        }
      ],
      "source": [
        "Y_DoS_pred=clf_KNN_DoS.predict(X_DoS_test)\n",
        "\n",
        "# Create confusion matrix\n",
        "pd.crosstab(Y_DoS_test, Y_DoS_pred, rownames=['Actual attacks'], colnames=['Predicted attacks'])"
      ]
    },
    {
      "cell_type": "markdown",
      "metadata": {
        "colab_type": "text",
        "id": "AloJ7mLN6fOy"
      },
      "source": [
        "**Probe**"
      ]
    },
    {
      "cell_type": "code",
      "execution_count": 0,
      "metadata": {
        "colab": {
          "base_uri": "https://localhost:8080/",
          "height": 142
        },
        "colab_type": "code",
        "id": "m08qtIuM6Hc-",
        "outputId": "e72804b0-6cfd-44ae-e955-558db9a347f6"
      },
      "outputs": [
        {
          "data": {
            "text/html": [
              "<div>\n",
              "<style scoped>\n",
              "    .dataframe tbody tr th:only-of-type {\n",
              "        vertical-align: middle;\n",
              "    }\n",
              "\n",
              "    .dataframe tbody tr th {\n",
              "        vertical-align: top;\n",
              "    }\n",
              "\n",
              "    .dataframe thead th {\n",
              "        text-align: right;\n",
              "    }\n",
              "</style>\n",
              "<table border=\"1\" class=\"dataframe\">\n",
              "  <thead>\n",
              "    <tr style=\"text-align: right;\">\n",
              "      <th>Predicted attacks</th>\n",
              "      <th>0</th>\n",
              "      <th>2</th>\n",
              "    </tr>\n",
              "    <tr>\n",
              "      <th>Actual attacks</th>\n",
              "      <th></th>\n",
              "      <th></th>\n",
              "    </tr>\n",
              "  </thead>\n",
              "  <tbody>\n",
              "    <tr>\n",
              "      <th>0</th>\n",
              "      <td>9437</td>\n",
              "      <td>274</td>\n",
              "    </tr>\n",
              "    <tr>\n",
              "      <th>2</th>\n",
              "      <td>1272</td>\n",
              "      <td>1149</td>\n",
              "    </tr>\n",
              "  </tbody>\n",
              "</table>\n",
              "</div>"
            ],
            "text/plain": [
              "Predicted attacks     0     2\n",
              "Actual attacks               \n",
              "0                  9437   274\n",
              "2                  1272  1149"
            ]
          },
          "execution_count": 50,
          "metadata": {
            "tags": []
          },
          "output_type": "execute_result"
        }
      ],
      "source": [
        "Y_Probe_pred=clf_KNN_Probe.predict(X_Probe_test)\n",
        "# Create confusion matrix\n",
        "\n",
        "pd.crosstab(Y_Probe_test, Y_Probe_pred, rownames=['Actual attacks'], colnames=['Predicted attacks'])"
      ]
    },
    {
      "cell_type": "markdown",
      "metadata": {
        "colab_type": "text",
        "id": "pHs6iaNZ6iNI"
      },
      "source": [
        "**R2L**"
      ]
    },
    {
      "cell_type": "code",
      "execution_count": 0,
      "metadata": {
        "colab": {
          "base_uri": "https://localhost:8080/",
          "height": 142
        },
        "colab_type": "code",
        "id": "EsV-50ki6Hm_",
        "outputId": "8599b605-b482-4b5a-db61-83b06fa6b8c6"
      },
      "outputs": [
        {
          "data": {
            "text/html": [
              "<div>\n",
              "<style scoped>\n",
              "    .dataframe tbody tr th:only-of-type {\n",
              "        vertical-align: middle;\n",
              "    }\n",
              "\n",
              "    .dataframe tbody tr th {\n",
              "        vertical-align: top;\n",
              "    }\n",
              "\n",
              "    .dataframe thead th {\n",
              "        text-align: right;\n",
              "    }\n",
              "</style>\n",
              "<table border=\"1\" class=\"dataframe\">\n",
              "  <thead>\n",
              "    <tr style=\"text-align: right;\">\n",
              "      <th>Predicted attacks</th>\n",
              "      <th>0</th>\n",
              "      <th>3</th>\n",
              "    </tr>\n",
              "    <tr>\n",
              "      <th>Actual attacks</th>\n",
              "      <th></th>\n",
              "      <th></th>\n",
              "    </tr>\n",
              "  </thead>\n",
              "  <tbody>\n",
              "    <tr>\n",
              "      <th>0</th>\n",
              "      <td>9706</td>\n",
              "      <td>5</td>\n",
              "    </tr>\n",
              "    <tr>\n",
              "      <th>3</th>\n",
              "      <td>2883</td>\n",
              "      <td>2</td>\n",
              "    </tr>\n",
              "  </tbody>\n",
              "</table>\n",
              "</div>"
            ],
            "text/plain": [
              "Predicted attacks     0  3\n",
              "Actual attacks            \n",
              "0                  9706  5\n",
              "3                  2883  2"
            ]
          },
          "execution_count": 51,
          "metadata": {
            "tags": []
          },
          "output_type": "execute_result"
        }
      ],
      "source": [
        "Y_R2L_pred=clf_KNN_R2L.predict(X_R2L_test)\n",
        "# Create confusion matrix\n",
        "pd.crosstab(Y_R2L_test, Y_R2L_pred, rownames=['Actual attacks'], colnames=['Predicted attacks'])"
      ]
    },
    {
      "cell_type": "markdown",
      "metadata": {
        "colab_type": "text",
        "id": "zPwGBEeH6mji"
      },
      "source": [
        "**U2R**"
      ]
    },
    {
      "cell_type": "code",
      "execution_count": 0,
      "metadata": {
        "colab": {
          "base_uri": "https://localhost:8080/",
          "height": 142
        },
        "colab_type": "code",
        "id": "RgO_fAYu6HvD",
        "outputId": "e18dc016-7081-4f51-be63-e4467b2523e0"
      },
      "outputs": [
        {
          "data": {
            "text/html": [
              "<div>\n",
              "<style scoped>\n",
              "    .dataframe tbody tr th:only-of-type {\n",
              "        vertical-align: middle;\n",
              "    }\n",
              "\n",
              "    .dataframe tbody tr th {\n",
              "        vertical-align: top;\n",
              "    }\n",
              "\n",
              "    .dataframe thead th {\n",
              "        text-align: right;\n",
              "    }\n",
              "</style>\n",
              "<table border=\"1\" class=\"dataframe\">\n",
              "  <thead>\n",
              "    <tr style=\"text-align: right;\">\n",
              "      <th>Predicted attacks</th>\n",
              "      <th>0</th>\n",
              "      <th>4</th>\n",
              "    </tr>\n",
              "    <tr>\n",
              "      <th>Actual attacks</th>\n",
              "      <th></th>\n",
              "      <th></th>\n",
              "    </tr>\n",
              "  </thead>\n",
              "  <tbody>\n",
              "    <tr>\n",
              "      <th>0</th>\n",
              "      <td>9711</td>\n",
              "      <td>0</td>\n",
              "    </tr>\n",
              "    <tr>\n",
              "      <th>4</th>\n",
              "      <td>65</td>\n",
              "      <td>2</td>\n",
              "    </tr>\n",
              "  </tbody>\n",
              "</table>\n",
              "</div>"
            ],
            "text/plain": [
              "Predicted attacks     0  4\n",
              "Actual attacks            \n",
              "0                  9711  0\n",
              "4                    65  2"
            ]
          },
          "execution_count": 52,
          "metadata": {
            "tags": []
          },
          "output_type": "execute_result"
        }
      ],
      "source": [
        "Y_U2R_pred=clf_KNN_U2R.predict(X_U2R_test)\n",
        "# Create confusion matrix\n",
        "pd.crosstab(Y_U2R_test, Y_U2R_pred, rownames=['Actual attacks'], colnames=['Predicted attacks'])"
      ]
    },
    {
      "cell_type": "markdown",
      "metadata": {
        "colab_type": "text",
        "id": "g9pZadi86vhE"
      },
      "source": [
        "**Cross Validation: Accuracy, Precision, Recall, F-measure**"
      ]
    },
    {
      "cell_type": "markdown",
      "metadata": {
        "colab_type": "text",
        "id": "bQU5VuWl6p9L"
      },
      "source": [
        "**DoS**"
      ]
    },
    {
      "cell_type": "code",
      "execution_count": 0,
      "metadata": {
        "colab": {
          "base_uri": "https://localhost:8080/",
          "height": 85
        },
        "colab_type": "code",
        "id": "SJ4QM5TV6H39",
        "outputId": "fc8632e0-33e3-43fb-d53e-f258fc755a69"
      },
      "outputs": [
        {
          "name": "stdout",
          "output_type": "stream",
          "text": [
            "Accuracy: 0.99715 (+/- 0.00278)\n",
            "Precision: 0.99678 (+/- 0.00383)\n",
            "Recall: 0.99665 (+/- 0.00344)\n",
            "F-measure: 0.99672 (+/- 0.00320)\n"
          ]
        }
      ],
      "source": [
        "from sklearn.model_selection import cross_val_score\n",
        "from sklearn import metrics\n",
        "accuracy = cross_val_score(clf_KNN_DoS, X_DoS_test, Y_DoS_test, cv=10, scoring='accuracy')\n",
        "print(\"Accuracy: %0.5f (+/- %0.5f)\" % (accuracy.mean(), accuracy.std() * 2))\n",
        "precision = cross_val_score(clf_KNN_DoS, X_DoS_test, Y_DoS_test, cv=10, scoring='precision')\n",
        "print(\"Precision: %0.5f (+/- %0.5f)\" % (precision.mean(), precision.std() * 2))\n",
        "recall = cross_val_score(clf_KNN_DoS, X_DoS_test, Y_DoS_test, cv=10, scoring='recall')\n",
        "print(\"Recall: %0.5f (+/- %0.5f)\" % (recall.mean(), recall.std() * 2))\n",
        "f = cross_val_score(clf_KNN_DoS, X_DoS_test, Y_DoS_test, cv=10, scoring='f1')\n",
        "print(\"F-measure: %0.5f (+/- %0.5f)\" % (f.mean(), f.std() * 2))"
      ]
    },
    {
      "cell_type": "markdown",
      "metadata": {
        "colab_type": "text",
        "id": "a7GfPZaI6zTy"
      },
      "source": [
        "**Probe**"
      ]
    },
    {
      "cell_type": "code",
      "execution_count": 0,
      "metadata": {
        "colab": {
          "base_uri": "https://localhost:8080/",
          "height": 85
        },
        "colab_type": "code",
        "id": "ftIa3IDi6zln",
        "outputId": "ef1a751b-e4b9-41f7-a0e4-42c8e47923b7"
      },
      "outputs": [
        {
          "name": "stdout",
          "output_type": "stream",
          "text": [
            "Accuracy: 0.99077 (+/- 0.00403)\n",
            "Precision: 0.98606 (+/- 0.00674)\n",
            "Recall: 0.98508 (+/- 0.01137)\n",
            "F-measure: 0.98553 (+/- 0.00645)\n"
          ]
        }
      ],
      "source": [
        "accuracy = cross_val_score(clf_KNN_Probe, X_Probe_test, Y_Probe_test, cv=10, scoring='accuracy')\n",
        "print(\"Accuracy: %0.5f (+/- %0.5f)\" % (accuracy.mean(), accuracy.std() * 2))\n",
        "precision = cross_val_score(clf_KNN_Probe, X_Probe_test, Y_Probe_test, cv=10, scoring='precision_macro')\n",
        "print(\"Precision: %0.5f (+/- %0.5f)\" % (precision.mean(), precision.std() * 2))\n",
        "recall = cross_val_score(clf_KNN_Probe, X_Probe_test, Y_Probe_test, cv=10, scoring='recall_macro')\n",
        "print(\"Recall: %0.5f (+/- %0.5f)\" % (recall.mean(), recall.std() * 2))\n",
        "f = cross_val_score(clf_KNN_Probe, X_Probe_test, Y_Probe_test, cv=10, scoring='f1_macro')\n",
        "print(\"F-measure: %0.5f (+/- %0.5f)\" % (f.mean(), f.std() * 2))"
      ]
    },
    {
      "cell_type": "markdown",
      "metadata": {
        "colab_type": "text",
        "id": "-W_1Iw2P6z2r"
      },
      "source": [
        "**R2L**"
      ]
    },
    {
      "cell_type": "code",
      "execution_count": 0,
      "metadata": {
        "colab": {
          "base_uri": "https://localhost:8080/",
          "height": 85
        },
        "colab_type": "code",
        "id": "8O_VI52o60Ih",
        "outputId": "b8ecbc62-8939-4a62-dc55-20a86d8463a8"
      },
      "outputs": [
        {
          "name": "stdout",
          "output_type": "stream",
          "text": [
            "Accuracy: 0.96737 (+/- 0.00729)\n",
            "Precision: 0.95311 (+/- 0.01273)\n",
            "Recall: 0.95484 (+/- 0.01327)\n",
            "F-measure: 0.95389 (+/- 0.01030)\n"
          ]
        }
      ],
      "source": [
        "accuracy = cross_val_score(clf_KNN_R2L, X_R2L_test, Y_R2L_test, cv=10, scoring='accuracy')\n",
        "print(\"Accuracy: %0.5f (+/- %0.5f)\" % (accuracy.mean(), accuracy.std() * 2))\n",
        "precision = cross_val_score(clf_KNN_R2L, X_R2L_test, Y_R2L_test, cv=10, scoring='precision_macro')\n",
        "print(\"Precision: %0.5f (+/- %0.5f)\" % (precision.mean(), precision.std() * 2))\n",
        "recall = cross_val_score(clf_KNN_R2L, X_R2L_test, Y_R2L_test, cv=10, scoring='recall_macro')\n",
        "print(\"Recall: %0.5f (+/- %0.5f)\" % (recall.mean(), recall.std() * 2))\n",
        "f = cross_val_score(clf_KNN_R2L, X_R2L_test, Y_R2L_test, cv=10, scoring='f1_macro')\n",
        "print(\"F-measure: %0.5f (+/- %0.5f)\" % (f.mean(), f.std() * 2))"
      ]
    },
    {
      "cell_type": "markdown",
      "metadata": {
        "colab_type": "text",
        "id": "qrkB_Fbn60Zm"
      },
      "source": [
        "**U2R**"
      ]
    },
    {
      "cell_type": "code",
      "execution_count": 0,
      "metadata": {
        "colab": {
          "base_uri": "https://localhost:8080/",
          "height": 85
        },
        "colab_type": "code",
        "id": "g4q8MlDu60jn",
        "outputId": "11fc94f3-6721-4058-be22-8234b5f88f5d"
      },
      "outputs": [
        {
          "name": "stdout",
          "output_type": "stream",
          "text": [
            "Accuracy: 0.99703 (+/- 0.00281)\n",
            "Precision: 0.93282 (+/- 0.14488)\n",
            "Recall: 0.84835 (+/- 0.17662)\n",
            "F-measure: 0.87754 (+/- 0.11386)\n"
          ]
        }
      ],
      "source": [
        "accuracy = cross_val_score(clf_KNN_U2R, X_U2R_test, Y_U2R_test, cv=10, scoring='accuracy')\n",
        "print(\"Accuracy: %0.5f (+/- %0.5f)\" % (accuracy.mean(), accuracy.std() * 2))\n",
        "precision = cross_val_score(clf_KNN_U2R, X_U2R_test, Y_U2R_test, cv=10, scoring='precision_macro')\n",
        "print(\"Precision: %0.5f (+/- %0.5f)\" % (precision.mean(), precision.std() * 2))\n",
        "recall = cross_val_score(clf_KNN_U2R, X_U2R_test, Y_U2R_test, cv=10, scoring='recall_macro')\n",
        "print(\"Recall: %0.5f (+/- %0.5f)\" % (recall.mean(), recall.std() * 2))\n",
        "f = cross_val_score(clf_KNN_U2R, X_U2R_test, Y_U2R_test, cv=10, scoring='f1_macro')\n",
        "print(\"F-measure: %0.5f (+/- %0.5f)\" % (f.mean(), f.std() * 2))\n"
      ]
    },
    {
      "cell_type": "markdown",
      "metadata": {
        "colab_type": "text",
        "id": "bvLJSVKmBNDV"
      },
      "source": [
        "# SVM\n"
      ]
    },
    {
      "cell_type": "code",
      "execution_count": 0,
      "metadata": {
        "colab": {
          "base_uri": "https://localhost:8080/",
          "height": 85
        },
        "colab_type": "code",
        "id": "FywpAGEvBPLo",
        "outputId": "9c6759e3-2fca-49f4-d969-21ba4c9fc55c"
      },
      "outputs": [
        {
          "data": {
            "text/plain": [
              "SVC(C=1.0, cache_size=200, class_weight=None, coef0=0.0,\n",
              "    decision_function_shape='ovr', degree=3, gamma='auto_deprecated',\n",
              "    kernel='linear', max_iter=-1, probability=False, random_state=0,\n",
              "    shrinking=True, tol=0.001, verbose=False)"
            ]
          },
          "execution_count": 57,
          "metadata": {
            "tags": []
          },
          "output_type": "execute_result"
        }
      ],
      "source": [
        "from sklearn.svm import SVC\n",
        "\n",
        "clf_SVM_DoS=SVC(kernel='linear', C=1.0, random_state=0)\n",
        "clf_SVM_Probe=SVC(kernel='linear', C=1.0, random_state=0)\n",
        "clf_SVM_R2L=SVC(kernel='linear', C=1.0, random_state=0)\n",
        "clf_SVM_U2R=SVC(kernel='linear', C=1.0, random_state=0)\n",
        "\n",
        "clf_SVM_DoS.fit(X_DoS, Y_DoS.astype(int))\n",
        "clf_SVM_Probe.fit(X_Probe, Y_Probe.astype(int))\n",
        "clf_SVM_R2L.fit(X_R2L, Y_R2L.astype(int))\n",
        "clf_SVM_U2R.fit(X_U2R, Y_U2R.astype(int))"
      ]
    },
    {
      "cell_type": "markdown",
      "metadata": {
        "colab_type": "text",
        "id": "71tRFjJGBiu8"
      },
      "source": [
        "**DoS**"
      ]
    },
    {
      "cell_type": "code",
      "execution_count": 0,
      "metadata": {
        "colab": {
          "base_uri": "https://localhost:8080/",
          "height": 142
        },
        "colab_type": "code",
        "id": "kABBJljaBi6v",
        "outputId": "718b7df7-b939-4244-b0ec-278ec9bdec71"
      },
      "outputs": [
        {
          "data": {
            "text/html": [
              "<div>\n",
              "<style scoped>\n",
              "    .dataframe tbody tr th:only-of-type {\n",
              "        vertical-align: middle;\n",
              "    }\n",
              "\n",
              "    .dataframe tbody tr th {\n",
              "        vertical-align: top;\n",
              "    }\n",
              "\n",
              "    .dataframe thead th {\n",
              "        text-align: right;\n",
              "    }\n",
              "</style>\n",
              "<table border=\"1\" class=\"dataframe\">\n",
              "  <thead>\n",
              "    <tr style=\"text-align: right;\">\n",
              "      <th>Predicted attacks</th>\n",
              "      <th>0</th>\n",
              "      <th>1</th>\n",
              "    </tr>\n",
              "    <tr>\n",
              "      <th>Actual attacks</th>\n",
              "      <th></th>\n",
              "      <th></th>\n",
              "    </tr>\n",
              "  </thead>\n",
              "  <tbody>\n",
              "    <tr>\n",
              "      <th>0</th>\n",
              "      <td>9455</td>\n",
              "      <td>256</td>\n",
              "    </tr>\n",
              "    <tr>\n",
              "      <th>1</th>\n",
              "      <td>1359</td>\n",
              "      <td>6101</td>\n",
              "    </tr>\n",
              "  </tbody>\n",
              "</table>\n",
              "</div>"
            ],
            "text/plain": [
              "Predicted attacks     0     1\n",
              "Actual attacks               \n",
              "0                  9455   256\n",
              "1                  1359  6101"
            ]
          },
          "execution_count": 58,
          "metadata": {
            "tags": []
          },
          "output_type": "execute_result"
        }
      ],
      "source": [
        "Y_DoS_pred=clf_SVM_DoS.predict(X_DoS_test)\n",
        "\n",
        "# Create confusion matrix\n",
        "pd.crosstab(Y_DoS_test, Y_DoS_pred, rownames=['Actual attacks'], colnames=['Predicted attacks'])"
      ]
    },
    {
      "cell_type": "code",
      "execution_count": 0,
      "metadata": {
        "colab": {
          "base_uri": "https://localhost:8080/",
          "height": 142
        },
        "colab_type": "code",
        "id": "iuj91846Hd3D",
        "outputId": "dea77b6e-0777-43d2-dc00-593733973a81"
      },
      "outputs": [
        {
          "data": {
            "text/html": [
              "<div>\n",
              "<style scoped>\n",
              "    .dataframe tbody tr th:only-of-type {\n",
              "        vertical-align: middle;\n",
              "    }\n",
              "\n",
              "    .dataframe tbody tr th {\n",
              "        vertical-align: top;\n",
              "    }\n",
              "\n",
              "    .dataframe thead th {\n",
              "        text-align: right;\n",
              "    }\n",
              "</style>\n",
              "<table border=\"1\" class=\"dataframe\">\n",
              "  <thead>\n",
              "    <tr style=\"text-align: right;\">\n",
              "      <th>Predicted attacks</th>\n",
              "      <th>0</th>\n",
              "      <th>2</th>\n",
              "    </tr>\n",
              "    <tr>\n",
              "      <th>Actual attacks</th>\n",
              "      <th></th>\n",
              "      <th></th>\n",
              "    </tr>\n",
              "  </thead>\n",
              "  <tbody>\n",
              "    <tr>\n",
              "      <th>0</th>\n",
              "      <td>9576</td>\n",
              "      <td>135</td>\n",
              "    </tr>\n",
              "    <tr>\n",
              "      <th>2</th>\n",
              "      <td>1285</td>\n",
              "      <td>1136</td>\n",
              "    </tr>\n",
              "  </tbody>\n",
              "</table>\n",
              "</div>"
            ],
            "text/plain": [
              "Predicted attacks     0     2\n",
              "Actual attacks               \n",
              "0                  9576   135\n",
              "2                  1285  1136"
            ]
          },
          "execution_count": 59,
          "metadata": {
            "tags": []
          },
          "output_type": "execute_result"
        }
      ],
      "source": [
        "Y_Probe_pred=clf_SVM_Probe.predict(X_Probe_test)\n",
        "# Create confusion matrix\n",
        "\n",
        "pd.crosstab(Y_Probe_test, Y_Probe_pred, rownames=['Actual attacks'], colnames=['Predicted attacks'])"
      ]
    },
    {
      "cell_type": "code",
      "execution_count": 0,
      "metadata": {
        "colab": {
          "base_uri": "https://localhost:8080/",
          "height": 142
        },
        "colab_type": "code",
        "id": "lAVZ2ZTvHgq1",
        "outputId": "3e27c583-a19a-4fac-eca1-95f221428bc9"
      },
      "outputs": [
        {
          "data": {
            "text/html": [
              "<div>\n",
              "<style scoped>\n",
              "    .dataframe tbody tr th:only-of-type {\n",
              "        vertical-align: middle;\n",
              "    }\n",
              "\n",
              "    .dataframe tbody tr th {\n",
              "        vertical-align: top;\n",
              "    }\n",
              "\n",
              "    .dataframe thead th {\n",
              "        text-align: right;\n",
              "    }\n",
              "</style>\n",
              "<table border=\"1\" class=\"dataframe\">\n",
              "  <thead>\n",
              "    <tr style=\"text-align: right;\">\n",
              "      <th>Predicted attacks</th>\n",
              "      <th>0</th>\n",
              "      <th>3</th>\n",
              "    </tr>\n",
              "    <tr>\n",
              "      <th>Actual attacks</th>\n",
              "      <th></th>\n",
              "      <th></th>\n",
              "    </tr>\n",
              "  </thead>\n",
              "  <tbody>\n",
              "    <tr>\n",
              "      <th>0</th>\n",
              "      <td>9639</td>\n",
              "      <td>72</td>\n",
              "    </tr>\n",
              "    <tr>\n",
              "      <th>3</th>\n",
              "      <td>2737</td>\n",
              "      <td>148</td>\n",
              "    </tr>\n",
              "  </tbody>\n",
              "</table>\n",
              "</div>"
            ],
            "text/plain": [
              "Predicted attacks     0    3\n",
              "Actual attacks              \n",
              "0                  9639   72\n",
              "3                  2737  148"
            ]
          },
          "execution_count": 60,
          "metadata": {
            "tags": []
          },
          "output_type": "execute_result"
        }
      ],
      "source": [
        "Y_R2L_pred=clf_SVM_R2L.predict(X_R2L_test)\n",
        "# Create confusion matrix\n",
        "pd.crosstab(Y_R2L_test, Y_R2L_pred, rownames=['Actual attacks'], colnames=['Predicted attacks'])"
      ]
    },
    {
      "cell_type": "code",
      "execution_count": 0,
      "metadata": {
        "colab": {
          "base_uri": "https://localhost:8080/",
          "height": 142
        },
        "colab_type": "code",
        "id": "iJusMfB6Hj1m",
        "outputId": "17b7ec80-5acf-42a7-8033-d83074ee2c6f"
      },
      "outputs": [
        {
          "data": {
            "text/html": [
              "<div>\n",
              "<style scoped>\n",
              "    .dataframe tbody tr th:only-of-type {\n",
              "        vertical-align: middle;\n",
              "    }\n",
              "\n",
              "    .dataframe tbody tr th {\n",
              "        vertical-align: top;\n",
              "    }\n",
              "\n",
              "    .dataframe thead th {\n",
              "        text-align: right;\n",
              "    }\n",
              "</style>\n",
              "<table border=\"1\" class=\"dataframe\">\n",
              "  <thead>\n",
              "    <tr style=\"text-align: right;\">\n",
              "      <th>Predicted attacks</th>\n",
              "      <th>0</th>\n",
              "      <th>4</th>\n",
              "    </tr>\n",
              "    <tr>\n",
              "      <th>Actual attacks</th>\n",
              "      <th></th>\n",
              "      <th></th>\n",
              "    </tr>\n",
              "  </thead>\n",
              "  <tbody>\n",
              "    <tr>\n",
              "      <th>0</th>\n",
              "      <td>9710</td>\n",
              "      <td>1</td>\n",
              "    </tr>\n",
              "    <tr>\n",
              "      <th>4</th>\n",
              "      <td>67</td>\n",
              "      <td>0</td>\n",
              "    </tr>\n",
              "  </tbody>\n",
              "</table>\n",
              "</div>"
            ],
            "text/plain": [
              "Predicted attacks     0  4\n",
              "Actual attacks            \n",
              "0                  9710  1\n",
              "4                    67  0"
            ]
          },
          "execution_count": 61,
          "metadata": {
            "tags": []
          },
          "output_type": "execute_result"
        }
      ],
      "source": [
        "Y_U2R_pred=clf_SVM_U2R.predict(X_U2R_test)\n",
        "# Create confusion matrix\n",
        "pd.crosstab(Y_U2R_test, Y_U2R_pred, rownames=['Actual attacks'], colnames=['Predicted attacks'])"
      ]
    },
    {
      "cell_type": "markdown",
      "metadata": {
        "colab_type": "text",
        "id": "FHJNIbkSDdrJ"
      },
      "source": [
        "**DoS**"
      ]
    },
    {
      "cell_type": "code",
      "execution_count": 0,
      "metadata": {
        "colab": {
          "base_uri": "https://localhost:8080/",
          "height": 85
        },
        "colab_type": "code",
        "id": "X4MfSJPbVs32",
        "outputId": "cdf5d0b7-3f28-4f29-d32e-8bfee96ed7a0"
      },
      "outputs": [
        {
          "name": "stdout",
          "output_type": "stream",
          "text": [
            "Accuracy: 0.99371 (+/- 0.00375)\n",
            "Precision: 0.99107 (+/- 0.00785)\n",
            "Recall: 0.99450 (+/- 0.00388)\n",
            "F-measure: 0.99278 (+/- 0.00428)\n"
          ]
        }
      ],
      "source": [
        "from sklearn.model_selection import cross_val_score\n",
        "from sklearn import metrics\n",
        "accuracy = cross_val_score(clf_SVM_DoS, X_DoS_test, Y_DoS_test, cv=10, scoring='accuracy')\n",
        "print(\"Accuracy: %0.5f (+/- %0.5f)\" % (accuracy.mean(), accuracy.std() * 2))\n",
        "precision = cross_val_score(clf_SVM_DoS, X_DoS_test, Y_DoS_test, cv=10, scoring='precision')\n",
        "print(\"Precision: %0.5f (+/- %0.5f)\" % (precision.mean(), precision.std() * 2))\n",
        "recall = cross_val_score(clf_SVM_DoS, X_DoS_test, Y_DoS_test, cv=10, scoring='recall')\n",
        "print(\"Recall: %0.5f (+/- %0.5f)\" % (recall.mean(), recall.std() * 2))\n",
        "f = cross_val_score(clf_SVM_DoS, X_DoS_test, Y_DoS_test, cv=10, scoring='f1')\n",
        "print(\"F-measure: %0.5f (+/- %0.5f)\" % (f.mean(), f.std() * 2))"
      ]
    },
    {
      "cell_type": "markdown",
      "metadata": {
        "colab_type": "text",
        "id": "IQqgT2jwDhn5"
      },
      "source": [
        "**Probe**"
      ]
    },
    {
      "cell_type": "code",
      "execution_count": 0,
      "metadata": {
        "colab": {
          "base_uri": "https://localhost:8080/",
          "height": 85
        },
        "colab_type": "code",
        "id": "9P36p-moVtBa",
        "outputId": "1a7a545d-49db-4f8c-d015-f1ea6bb916eb"
      },
      "outputs": [
        {
          "name": "stdout",
          "output_type": "stream",
          "text": [
            "Accuracy: 0.98450 (+/- 0.00525)\n",
            "Precision: 0.96907 (+/- 0.01029)\n",
            "Recall: 0.98365 (+/- 0.00686)\n",
            "F-measure: 0.97613 (+/- 0.00799)\n"
          ]
        }
      ],
      "source": [
        "accuracy = cross_val_score(clf_SVM_Probe, X_Probe_test, Y_Probe_test, cv=10, scoring='accuracy')\n",
        "print(\"Accuracy: %0.5f (+/- %0.5f)\" % (accuracy.mean(), accuracy.std() * 2))\n",
        "precision = cross_val_score(clf_SVM_Probe, X_Probe_test, Y_Probe_test, cv=10, scoring='precision_macro')\n",
        "print(\"Precision: %0.5f (+/- %0.5f)\" % (precision.mean(), precision.std() * 2))\n",
        "recall = cross_val_score(clf_SVM_Probe, X_Probe_test, Y_Probe_test, cv=10, scoring='recall_macro')\n",
        "print(\"Recall: %0.5f (+/- %0.5f)\" % (recall.mean(), recall.std() * 2))\n",
        "f = cross_val_score(clf_SVM_Probe, X_Probe_test, Y_Probe_test, cv=10, scoring='f1_macro')\n",
        "print(\"F-measure: %0.5f (+/- %0.5f)\" % (f.mean(), f.std() * 2))"
      ]
    },
    {
      "cell_type": "markdown",
      "metadata": {
        "colab_type": "text",
        "id": "EOEYHrRYDkaL"
      },
      "source": [
        "**R2L**"
      ]
    },
    {
      "cell_type": "code",
      "execution_count": 0,
      "metadata": {
        "colab": {
          "base_uri": "https://localhost:8080/",
          "height": 85
        },
        "colab_type": "code",
        "id": "1EUHxx_FVtI-",
        "outputId": "699a600e-d387-4bc1-9eb9-8c64dbc132ea"
      },
      "outputs": [
        {
          "name": "stdout",
          "output_type": "stream",
          "text": [
            "Accuracy: 0.96793 (+/- 0.00738)\n",
            "Precision: 0.94854 (+/- 0.00992)\n",
            "Recall: 0.96264 (+/- 0.01386)\n",
            "F-measure: 0.95529 (+/- 0.01046)\n"
          ]
        }
      ],
      "source": [
        "accuracy = cross_val_score(clf_SVM_R2L, X_R2L_test, Y_R2L_test, cv=10, scoring='accuracy')\n",
        "print(\"Accuracy: %0.5f (+/- %0.5f)\" % (accuracy.mean(), accuracy.std() * 2))\n",
        "precision = cross_val_score(clf_SVM_R2L, X_R2L_test, Y_R2L_test, cv=10, scoring='precision_macro')\n",
        "print(\"Precision: %0.5f (+/- %0.5f)\" % (precision.mean(), precision.std() * 2))\n",
        "recall = cross_val_score(clf_SVM_R2L, X_R2L_test, Y_R2L_test, cv=10, scoring='recall_macro')\n",
        "print(\"Recall: %0.5f (+/- %0.5f)\" % (recall.mean(), recall.std() * 2))\n",
        "f = cross_val_score(clf_SVM_R2L, X_R2L_test, Y_R2L_test, cv=10, scoring='f1_macro')\n",
        "print(\"F-measure: %0.5f (+/- %0.5f)\" % (f.mean(), f.std() * 2))"
      ]
    },
    {
      "cell_type": "markdown",
      "metadata": {
        "colab_type": "text",
        "id": "ghjSj7ucDoGE"
      },
      "source": [
        "**U2R**"
      ]
    },
    {
      "cell_type": "code",
      "execution_count": 0,
      "metadata": {
        "colab": {
          "base_uri": "https://localhost:8080/",
          "height": 85
        },
        "colab_type": "code",
        "id": "Qcz_NY5mVtQo",
        "outputId": "befd07f4-425c-413a-fbde-f5cbabc7d4e4"
      },
      "outputs": [
        {
          "name": "stdout",
          "output_type": "stream",
          "text": [
            "Accuracy: 0.99652 (+/- 0.00245)\n",
            "Precision: 0.91988 (+/- 0.15114)\n",
            "Recall: 0.83981 (+/- 0.17847)\n",
            "F-measure: 0.85918 (+/- 0.10713)\n"
          ]
        }
      ],
      "source": [
        "accuracy = cross_val_score(clf_SVM_U2R, X_U2R_test, Y_U2R_test, cv=10, scoring='accuracy')\n",
        "print(\"Accuracy: %0.5f (+/- %0.5f)\" % (accuracy.mean(), accuracy.std() * 2))\n",
        "precision = cross_val_score(clf_SVM_U2R, X_U2R_test, Y_U2R_test, cv=10, scoring='precision_macro')\n",
        "print(\"Precision: %0.5f (+/- %0.5f)\" % (precision.mean(), precision.std() * 2))\n",
        "recall = cross_val_score(clf_SVM_U2R, X_U2R_test, Y_U2R_test, cv=10, scoring='recall_macro')\n",
        "print(\"Recall: %0.5f (+/- %0.5f)\" % (recall.mean(), recall.std() * 2))\n",
        "f = cross_val_score(clf_SVM_U2R, X_U2R_test, Y_U2R_test, cv=10, scoring='f1_macro')\n",
        "print(\"F-measure: %0.5f (+/- %0.5f)\" % (f.mean(), f.std() * 2))"
      ]
    },
    {
      "cell_type": "markdown",
      "metadata": {
        "colab_type": "text",
        "id": "RpavTYvvA9Tm"
      },
      "source": [
        "# Ensemble Learning"
      ]
    },
    {
      "cell_type": "code",
      "execution_count": 0,
      "metadata": {
        "colab": {
          "base_uri": "https://localhost:8080/",
          "height": 493
        },
        "colab_type": "code",
        "id": "IiEH9DP8BBRf",
        "outputId": "825cf844-c056-4d35-98f5-77dcf339cc99"
      },
      "outputs": [
        {
          "data": {
            "text/plain": [
              "VotingClassifier(estimators=[('rf',\n",
              "                              RandomForestClassifier(bootstrap=True,\n",
              "                                                     class_weight=None,\n",
              "                                                     criterion='gini',\n",
              "                                                     max_depth=None,\n",
              "                                                     max_features='auto',\n",
              "                                                     max_leaf_nodes=None,\n",
              "                                                     min_impurity_decrease=0.0,\n",
              "                                                     min_impurity_split=None,\n",
              "                                                     min_samples_leaf=1,\n",
              "                                                     min_samples_split=2,\n",
              "                                                     min_weight_fraction_leaf=0.0,\n",
              "                                                     n_estimators=10, n_jobs=2,\n",
              "                                                     oob_score=False,\n",
              "                                                     random_state=None,\n",
              "                                                     verbose=0,...\n",
              "                                                   metric_params=None,\n",
              "                                                   n_jobs=None, n_neighbors=5,\n",
              "                                                   p=2, weights='uniform')),\n",
              "                             ('svm',\n",
              "                              SVC(C=1.0, cache_size=200, class_weight=None,\n",
              "                                  coef0=0.0, decision_function_shape='ovr',\n",
              "                                  degree=3, gamma='auto_deprecated',\n",
              "                                  kernel='linear', max_iter=-1,\n",
              "                                  probability=False, random_state=0,\n",
              "                                  shrinking=True, tol=0.001, verbose=False))],\n",
              "                 flatten_transform=True, n_jobs=None, voting='hard',\n",
              "                 weights=None)"
            ]
          },
          "execution_count": 68,
          "metadata": {
            "tags": []
          },
          "output_type": "execute_result"
        }
      ],
      "source": [
        "from sklearn.ensemble import VotingClassifier\n",
        "\n",
        "clf_voting_DoS = VotingClassifier(estimators=[('rf', clf_DoS), ('knn', clf_KNN_DoS), ('svm', clf_SVM_DoS)], voting='hard')\n",
        "clf_voting_Probe = VotingClassifier(estimators=[('rf', clf_Probe), ('knn', clf_KNN_Probe), ('svm', clf_SVM_Probe)], voting='hard')\n",
        "clf_voting_R2L = VotingClassifier(estimators=[('rf', clf_R2L), ('knn', clf_KNN_R2L), ('svm', clf_SVM_R2L)], voting='hard')\n",
        "clf_voting_U2R = VotingClassifier(estimators=[('rf', clf_U2R), ('knn', clf_KNN_U2R), ('svm', clf_SVM_U2R)], voting='hard')\n",
        "\n",
        "clf_voting_DoS.fit(X_DoS, Y_DoS.astype(int))\n",
        "clf_voting_Probe.fit(X_Probe, Y_Probe.astype(int))\n",
        "clf_voting_R2L.fit(X_R2L, Y_R2L.astype(int))\n",
        "clf_voting_U2R.fit(X_U2R, Y_U2R.astype(int))\n"
      ]
    },
    {
      "cell_type": "markdown",
      "metadata": {
        "colab_type": "text",
        "id": "HMhaEDXOCtpk"
      },
      "source": [
        "**DoS**"
      ]
    },
    {
      "cell_type": "code",
      "execution_count": 0,
      "metadata": {
        "colab": {
          "base_uri": "https://localhost:8080/",
          "height": 142
        },
        "colab_type": "code",
        "id": "PcnHXWiNCvL2",
        "outputId": "3e43f8a7-d621-46a5-e8f4-d7fcdd1297c5"
      },
      "outputs": [
        {
          "data": {
            "text/html": [
              "<div>\n",
              "<style scoped>\n",
              "    .dataframe tbody tr th:only-of-type {\n",
              "        vertical-align: middle;\n",
              "    }\n",
              "\n",
              "    .dataframe tbody tr th {\n",
              "        vertical-align: top;\n",
              "    }\n",
              "\n",
              "    .dataframe thead th {\n",
              "        text-align: right;\n",
              "    }\n",
              "</style>\n",
              "<table border=\"1\" class=\"dataframe\">\n",
              "  <thead>\n",
              "    <tr style=\"text-align: right;\">\n",
              "      <th>Predicted attacks</th>\n",
              "      <th>0</th>\n",
              "      <th>1</th>\n",
              "    </tr>\n",
              "    <tr>\n",
              "      <th>Actual attacks</th>\n",
              "      <th></th>\n",
              "      <th></th>\n",
              "    </tr>\n",
              "  </thead>\n",
              "  <tbody>\n",
              "    <tr>\n",
              "      <th>0</th>\n",
              "      <td>9607</td>\n",
              "      <td>104</td>\n",
              "    </tr>\n",
              "    <tr>\n",
              "      <th>1</th>\n",
              "      <td>1797</td>\n",
              "      <td>5663</td>\n",
              "    </tr>\n",
              "  </tbody>\n",
              "</table>\n",
              "</div>"
            ],
            "text/plain": [
              "Predicted attacks     0     1\n",
              "Actual attacks               \n",
              "0                  9607   104\n",
              "1                  1797  5663"
            ]
          },
          "execution_count": 69,
          "metadata": {
            "tags": []
          },
          "output_type": "execute_result"
        }
      ],
      "source": [
        "Y_DoS_pred=clf_voting_DoS.predict(X_DoS_test)\n",
        "\n",
        "# Create confusion matrix\n",
        "pd.crosstab(Y_DoS_test, Y_DoS_pred, rownames=['Actual attacks'], colnames=['Predicted attacks'])"
      ]
    },
    {
      "cell_type": "markdown",
      "metadata": {
        "colab_type": "text",
        "id": "2LBoLeEsC8pm"
      },
      "source": [
        "**Probe**"
      ]
    },
    {
      "cell_type": "code",
      "execution_count": 0,
      "metadata": {
        "colab": {
          "base_uri": "https://localhost:8080/",
          "height": 142
        },
        "colab_type": "code",
        "id": "eUnAparzC-B3",
        "outputId": "cf2be410-189f-4b68-fe12-c212d6cf99c5"
      },
      "outputs": [
        {
          "data": {
            "text/html": [
              "<div>\n",
              "<style scoped>\n",
              "    .dataframe tbody tr th:only-of-type {\n",
              "        vertical-align: middle;\n",
              "    }\n",
              "\n",
              "    .dataframe tbody tr th {\n",
              "        vertical-align: top;\n",
              "    }\n",
              "\n",
              "    .dataframe thead th {\n",
              "        text-align: right;\n",
              "    }\n",
              "</style>\n",
              "<table border=\"1\" class=\"dataframe\">\n",
              "  <thead>\n",
              "    <tr style=\"text-align: right;\">\n",
              "      <th>Predicted attacks</th>\n",
              "      <th>0</th>\n",
              "      <th>2</th>\n",
              "    </tr>\n",
              "    <tr>\n",
              "      <th>Actual attacks</th>\n",
              "      <th></th>\n",
              "      <th></th>\n",
              "    </tr>\n",
              "  </thead>\n",
              "  <tbody>\n",
              "    <tr>\n",
              "      <th>0</th>\n",
              "      <td>9479</td>\n",
              "      <td>232</td>\n",
              "    </tr>\n",
              "    <tr>\n",
              "      <th>2</th>\n",
              "      <td>1182</td>\n",
              "      <td>1239</td>\n",
              "    </tr>\n",
              "  </tbody>\n",
              "</table>\n",
              "</div>"
            ],
            "text/plain": [
              "Predicted attacks     0     2\n",
              "Actual attacks               \n",
              "0                  9479   232\n",
              "2                  1182  1239"
            ]
          },
          "execution_count": 70,
          "metadata": {
            "tags": []
          },
          "output_type": "execute_result"
        }
      ],
      "source": [
        "Y_Probe_pred=clf_voting_Probe.predict(X_Probe_test)\n",
        "\n",
        "# Create confusion matrix\n",
        "pd.crosstab(Y_Probe_test, Y_Probe_pred, rownames=['Actual attacks'], colnames=['Predicted attacks'])"
      ]
    },
    {
      "cell_type": "markdown",
      "metadata": {
        "colab_type": "text",
        "id": "Dx1S4pNfDIV8"
      },
      "source": [
        "**R2L**"
      ]
    },
    {
      "cell_type": "code",
      "execution_count": 0,
      "metadata": {
        "colab": {
          "base_uri": "https://localhost:8080/",
          "height": 142
        },
        "colab_type": "code",
        "id": "flUiIlHJDKYe",
        "outputId": "ffda78ee-9119-4c5d-a19a-b45780c9b25b"
      },
      "outputs": [
        {
          "data": {
            "text/html": [
              "<div>\n",
              "<style scoped>\n",
              "    .dataframe tbody tr th:only-of-type {\n",
              "        vertical-align: middle;\n",
              "    }\n",
              "\n",
              "    .dataframe tbody tr th {\n",
              "        vertical-align: top;\n",
              "    }\n",
              "\n",
              "    .dataframe thead th {\n",
              "        text-align: right;\n",
              "    }\n",
              "</style>\n",
              "<table border=\"1\" class=\"dataframe\">\n",
              "  <thead>\n",
              "    <tr style=\"text-align: right;\">\n",
              "      <th>Predicted attacks</th>\n",
              "      <th>0</th>\n",
              "      <th>3</th>\n",
              "    </tr>\n",
              "    <tr>\n",
              "      <th>Actual attacks</th>\n",
              "      <th></th>\n",
              "      <th></th>\n",
              "    </tr>\n",
              "  </thead>\n",
              "  <tbody>\n",
              "    <tr>\n",
              "      <th>0</th>\n",
              "      <td>9711</td>\n",
              "      <td>0</td>\n",
              "    </tr>\n",
              "    <tr>\n",
              "      <th>3</th>\n",
              "      <td>2884</td>\n",
              "      <td>1</td>\n",
              "    </tr>\n",
              "  </tbody>\n",
              "</table>\n",
              "</div>"
            ],
            "text/plain": [
              "Predicted attacks     0  3\n",
              "Actual attacks            \n",
              "0                  9711  0\n",
              "3                  2884  1"
            ]
          },
          "execution_count": 71,
          "metadata": {
            "tags": []
          },
          "output_type": "execute_result"
        }
      ],
      "source": [
        "Y_R2L_pred=clf_voting_R2L.predict(X_R2L_test)\n",
        "\n",
        "# Create confusion matrix\n",
        "pd.crosstab(Y_R2L_test, Y_R2L_pred, rownames=['Actual attacks'], colnames=['Predicted attacks'])"
      ]
    },
    {
      "cell_type": "markdown",
      "metadata": {
        "colab_type": "text",
        "id": "A46mT-XBDQ2G"
      },
      "source": [
        "**U2R**"
      ]
    },
    {
      "cell_type": "code",
      "execution_count": 0,
      "metadata": {
        "colab": {
          "base_uri": "https://localhost:8080/",
          "height": 142
        },
        "colab_type": "code",
        "id": "3u9wU5OcDSF3",
        "outputId": "495dcd2b-26a5-442c-c755-607deab293d9"
      },
      "outputs": [
        {
          "data": {
            "text/html": [
              "<div>\n",
              "<style scoped>\n",
              "    .dataframe tbody tr th:only-of-type {\n",
              "        vertical-align: middle;\n",
              "    }\n",
              "\n",
              "    .dataframe tbody tr th {\n",
              "        vertical-align: top;\n",
              "    }\n",
              "\n",
              "    .dataframe thead th {\n",
              "        text-align: right;\n",
              "    }\n",
              "</style>\n",
              "<table border=\"1\" class=\"dataframe\">\n",
              "  <thead>\n",
              "    <tr style=\"text-align: right;\">\n",
              "      <th>Predicted attacks</th>\n",
              "      <th>0</th>\n",
              "    </tr>\n",
              "    <tr>\n",
              "      <th>Actual attacks</th>\n",
              "      <th></th>\n",
              "    </tr>\n",
              "  </thead>\n",
              "  <tbody>\n",
              "    <tr>\n",
              "      <th>0</th>\n",
              "      <td>9711</td>\n",
              "    </tr>\n",
              "    <tr>\n",
              "      <th>4</th>\n",
              "      <td>67</td>\n",
              "    </tr>\n",
              "  </tbody>\n",
              "</table>\n",
              "</div>"
            ],
            "text/plain": [
              "Predicted attacks     0\n",
              "Actual attacks         \n",
              "0                  9711\n",
              "4                    67"
            ]
          },
          "execution_count": 72,
          "metadata": {
            "tags": []
          },
          "output_type": "execute_result"
        }
      ],
      "source": [
        "Y_U2R_pred=clf_voting_U2R.predict(X_U2R_test)\n",
        "\n",
        "# Create confusion matrix\n",
        "pd.crosstab(Y_U2R_test, Y_U2R_pred, rownames=['Actual attacks'], colnames=['Predicted attacks'])"
      ]
    },
    {
      "cell_type": "markdown",
      "metadata": {
        "colab_type": "text",
        "id": "ojnaDLQZDt_G"
      },
      "source": [
        "**DoS**"
      ]
    },
    {
      "cell_type": "code",
      "execution_count": 0,
      "metadata": {
        "colab": {
          "base_uri": "https://localhost:8080/",
          "height": 85
        },
        "colab_type": "code",
        "id": "VZf04XKLDrvL",
        "outputId": "477f8c9d-cb26-47eb-a4d8-8fdb8f2c3f53"
      },
      "outputs": [
        {
          "name": "stdout",
          "output_type": "stream",
          "text": [
            "Accuracy: 0.99802 (+/- 0.00196)\n",
            "Precision: 0.99852 (+/- 0.00280)\n",
            "Recall: 0.99705 (+/- 0.00289)\n",
            "F-measure: 0.99772 (+/- 0.00256)\n"
          ]
        }
      ],
      "source": [
        "from sklearn.model_selection import cross_val_score\n",
        "from sklearn import metrics\n",
        "accuracy = cross_val_score(clf_voting_DoS, X_DoS_test, Y_DoS_test, cv=10, scoring='accuracy')\n",
        "print(\"Accuracy: %0.5f (+/- %0.5f)\" % (accuracy.mean(), accuracy.std() * 2))\n",
        "precision = cross_val_score(clf_voting_DoS, X_DoS_test, Y_DoS_test, cv=10, scoring='precision')\n",
        "print(\"Precision: %0.5f (+/- %0.5f)\" % (precision.mean(), precision.std() * 2))\n",
        "recall = cross_val_score(clf_voting_DoS, X_DoS_test, Y_DoS_test, cv=10, scoring='recall')\n",
        "print(\"Recall: %0.5f (+/- %0.5f)\" % (recall.mean(), recall.std() * 2))\n",
        "f = cross_val_score(clf_voting_DoS, X_DoS_test, Y_DoS_test, cv=10, scoring='f1')\n",
        "print(\"F-measure: %0.5f (+/- %0.5f)\" % (f.mean(), f.std() * 2))"
      ]
    },
    {
      "cell_type": "markdown",
      "metadata": {
        "colab_type": "text",
        "id": "qlGDiSptD2nJ"
      },
      "source": [
        "**Probe**"
      ]
    },
    {
      "cell_type": "code",
      "execution_count": 0,
      "metadata": {
        "colab": {
          "base_uri": "https://localhost:8080/",
          "height": 68
        },
        "colab_type": "code",
        "id": "n83y5PJbD3ni",
        "outputId": "cb6d105c-4e19-4058-81bf-1ab70c98541b"
      },
      "outputs": [
        {
          "name": "stdout",
          "output_type": "stream",
          "text": [
            "Accuracy: 0.99283 (+/- 0.00411)\n",
            "Precision: 0.98765 (+/- 0.00767)\n",
            "Recall: 0.98952 (+/- 0.00744)\n"
          ]
        }
      ],
      "source": [
        "accuracy = cross_val_score(clf_voting_Probe, X_Probe_test, Y_Probe_test, cv=10, scoring='accuracy')\n",
        "print(\"Accuracy: %0.5f (+/- %0.5f)\" % (accuracy.mean(), accuracy.std() * 2))\n",
        "precision = cross_val_score(clf_voting_Probe, X_Probe_test, Y_Probe_test, cv=10, scoring='precision_macro')\n",
        "print(\"Precision: %0.5f (+/- %0.5f)\" % (precision.mean(), precision.std() * 2))\n",
        "recall = cross_val_score(clf_voting_Probe, X_Probe_test, Y_Probe_test, cv=10, scoring='recall_macro')\n",
        "print(\"Recall: %0.5f (+/- %0.5f)\" % (recall.mean(), recall.std() * 2))\n",
        "f = cross_val_score(clf_voting_Probe, X_Probe_test, Y_Probe_test, cv=10, scoring='f1_macro')\n",
        "print(\"F-mesaure: %0.5f (+/- %0.5f)\" % (f.mean(), f.std() * 2))"
      ]
    },
    {
      "cell_type": "markdown",
      "metadata": {
        "colab_type": "text",
        "id": "wv-xS9-FEQh-"
      },
      "source": [
        "**R2L**"
      ]
    },
    {
      "cell_type": "code",
      "execution_count": 0,
      "metadata": {
        "colab": {
          "base_uri": "https://localhost:8080/",
          "height": 85
        },
        "colab_type": "code",
        "id": "tnKA7-GBESPW",
        "outputId": "ad870774-cb62-4611-8427-9bb38ca59ab4"
      },
      "outputs": [
        {
          "name": "stdout",
          "output_type": "stream",
          "text": [
            "Accuracy: 0.97213 (+/- 0.00653)\n",
            "Precision: 0.95811 (+/- 0.00810)\n",
            "Recall: 0.96433 (+/- 0.01313)\n",
            "F-measure: 0.96029 (+/- 0.00707)\n"
          ]
        }
      ],
      "source": [
        "accuracy = cross_val_score(clf_voting_R2L, X_R2L_test, Y_R2L_test, cv=10, scoring='accuracy')\n",
        "print(\"Accuracy: %0.5f (+/- %0.5f)\" % (accuracy.mean(), accuracy.std() * 2))\n",
        "precision = cross_val_score(clf_voting_R2L, X_R2L_test, Y_R2L_test, cv=10, scoring='precision_macro')\n",
        "print(\"Precision: %0.5f (+/- %0.5f)\" % (precision.mean(), precision.std() * 2))\n",
        "recall = cross_val_score(clf_voting_R2L, X_R2L_test, Y_R2L_test, cv=10, scoring='recall_macro')\n",
        "print(\"Recall: %0.5f (+/- %0.5f)\" % (recall.mean(), recall.std() * 2))\n",
        "f = cross_val_score(clf_voting_R2L, X_R2L_test, Y_R2L_test, cv=10, scoring='f1_macro')\n",
        "print(\"F-measure: %0.5f (+/- %0.5f)\" % (f.mean(), f.std() * 2))"
      ]
    },
    {
      "cell_type": "markdown",
      "metadata": {
        "colab_type": "text",
        "id": "moAQ-pd9EZAi"
      },
      "source": [
        "**U2R**"
      ]
    },
    {
      "cell_type": "code",
      "execution_count": 0,
      "metadata": {
        "colab": {
          "base_uri": "https://localhost:8080/",
          "height": 85
        },
        "colab_type": "code",
        "id": "74Lwk4bEEaex",
        "outputId": "826f1311-1878-4633-af87-174acd9a258b"
      },
      "outputs": [
        {
          "name": "stdout",
          "output_type": "stream",
          "text": [
            "Accuracy: 0.99765 (+/- 0.00243)\n",
            "Precision: 0.94515 (+/- 0.11771)\n",
            "Recall: 0.86144 (+/- 0.18332)\n",
            "F-measure: 0.90643 (+/- 0.08475)\n"
          ]
        }
      ],
      "source": [
        "accuracy = cross_val_score(clf_voting_U2R, X_U2R_test, Y_U2R_test, cv=10, scoring='accuracy')\n",
        "print(\"Accuracy: %0.5f (+/- %0.5f)\" % (accuracy.mean(), accuracy.std() * 2))\n",
        "precision = cross_val_score(clf_voting_U2R, X_U2R_test, Y_U2R_test, cv=10, scoring='precision_macro')\n",
        "print(\"Precision: %0.5f (+/- %0.5f)\" % (precision.mean(), precision.std() * 2))\n",
        "recall = cross_val_score(clf_voting_U2R, X_U2R_test, Y_U2R_test, cv=10, scoring='recall_macro')\n",
        "print(\"Recall: %0.5f (+/- %0.5f)\" % (recall.mean(), recall.std() * 2))\n",
        "f = cross_val_score(clf_voting_U2R, X_U2R_test, Y_U2R_test, cv=10, scoring='f1_macro')\n",
        "print(\"F-measure: %0.5f (+/- %0.5f)\" % (f.mean(), f.std() * 2))"
      ]
    }
  ],
  "metadata": {
    "accelerator": "TPU",
    "colab": {
      "collapsed_sections": [],
      "name": "BilgAg 2.ipynb",
      "provenance": [],
      "version": "0.3.2"
    },
    "kernelspec": {
      "display_name": "tf-env",
      "language": "python",
      "name": "python3"
    },
    "language_info": {
      "codemirror_mode": {
        "name": "ipython",
        "version": 3
      },
      "file_extension": ".py",
      "mimetype": "text/x-python",
      "name": "python",
      "nbconvert_exporter": "python",
      "pygments_lexer": "ipython3",
      "version": "3.11.9"
    }
  },
  "nbformat": 4,
  "nbformat_minor": 0
}
